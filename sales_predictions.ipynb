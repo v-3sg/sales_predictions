{
  "nbformat": 4,
  "nbformat_minor": 0,
  "metadata": {
    "colab": {
      "name": "sales_predictions.ipynb",
      "provenance": [],
      "collapsed_sections": [],
      "mount_file_id": "1llt0lhT5oxPbwju6GzAehxxilybikguP",
      "authorship_tag": "ABX9TyPjfWGH9psNtbTTpDk8rExS",
      "include_colab_link": true
    },
    "kernelspec": {
      "name": "python3",
      "display_name": "Python 3"
    },
    "language_info": {
      "name": "python"
    }
  },
  "cells": [
    {
      "cell_type": "markdown",
      "metadata": {
        "id": "view-in-github",
        "colab_type": "text"
      },
      "source": [
        "<a href=\"https://colab.research.google.com/github/v-3sg/sales_predictions/blob/main/sales_predictions.ipynb\" target=\"_parent\"><img src=\"https://colab.research.google.com/assets/colab-badge.svg\" alt=\"Open In Colab\"/></a>"
      ]
    },
    {
      "cell_type": "code",
      "metadata": {
        "id": "Xgyvs9iSzz9d"
      },
      "source": [
        "import pandas as pd\n",
        "filename = \"/content/drive/MyDrive/Colab Notebooks/Coding Dojo/DS Week 1/sales_predictions.csv\"\n"
      ],
      "execution_count": 1,
      "outputs": []
    },
    {
      "cell_type": "code",
      "metadata": {
        "id": "Xloar5b0QOch"
      },
      "source": [
        "df = pd.read_csv(filename)"
      ],
      "execution_count": 3,
      "outputs": []
    },
    {
      "cell_type": "markdown",
      "metadata": {
        "id": "GbdXPmNpk526"
      },
      "source": [
        "1 - Explore the data - what do you need to do to clean this data? Clean it!\n",
        "\n"
      ]
    },
    {
      "cell_type": "markdown",
      "metadata": {
        "id": "PNUkF6QQmPgX"
      },
      "source": [
        "Data Dictionary for this dataset:\n",
        "\n",
        "Variable Name\tDescription\n",
        "\n",
        "Item_Identifier\tUnique product ID\n",
        "\n",
        "Item_Weight\tWeight of product\n",
        "\n",
        "Item_Fat_Content\tWhether the product is low fat or regular\n",
        "\n",
        "Item_Visibility\tThe percentage of total display area of all products in a store allocated to the particular product\n",
        "\n",
        "Item_Type\tThe category to which the product belongs\n",
        "\n",
        "Item_MRP\tMaximum Retail Price (list price) of the product\n",
        "\n",
        "Outlet_Identifier\tUnique store ID\n",
        "\n",
        "Outlet_Establishment_Year\tThe year in which store was established\n",
        "\n",
        "Outlet_Size\tThe size of the store in terms of ground area covered\n",
        "\n",
        "Outlet_Location_Type\tThe type of area in which the store is located\n",
        "\n",
        "Outlet_Type\tWhether the outlet is a grocery store or some sort of supermarket\n",
        "\n",
        "Item_Outlet_Sales\tSales of the product in the particular store. This is the target variable to be predicted.\n"
      ]
    },
    {
      "cell_type": "markdown",
      "metadata": {
        "id": "0kRontdsWuXl"
      },
      "source": [
        "**--> Based on the Data Dictionary, potential irrelevant columns include:**\n",
        "\n",
        "**Outlet_Establishment_Year**\n",
        "\n",
        "**Outlet_Size**\n",
        "\n",
        "**Outlet_Location**\n",
        "\n",
        "**Outlet_Type**\n",
        "\n",
        "**... However, there is the possibility that these columns represent variables that may affect whether a certain food item is purchased, e.g., an outlet of a certain size/type/age may nudge a customer to buy an item. My initial thought is not to drop any columns.**\n"
      ]
    },
    {
      "cell_type": "code",
      "metadata": {
        "colab": {
          "base_uri": "https://localhost:8080/"
        },
        "id": "VawfbvkDoes1",
        "outputId": "ef0096c2-cad9-43dc-99a5-90927fb2eb3a"
      },
      "source": [
        "#check for duplicates\n",
        "df.duplicated().any()"
      ],
      "execution_count": 4,
      "outputs": [
        {
          "output_type": "execute_result",
          "data": {
            "text/plain": [
              "False"
            ]
          },
          "metadata": {},
          "execution_count": 4
        }
      ]
    },
    {
      "cell_type": "markdown",
      "metadata": {
        "id": "tueRhqnPUUvu"
      },
      "source": [
        "**--> No duplicates present**"
      ]
    },
    {
      "cell_type": "markdown",
      "metadata": {
        "id": "pmZXh7LdlB3Z"
      },
      "source": [
        "2- Are there missing values in this dataset? Some stores might not report all the data due to technical glitches or other issues. If so, deal with these appropriately."
      ]
    },
    {
      "cell_type": "code",
      "metadata": {
        "colab": {
          "base_uri": "https://localhost:8080/"
        },
        "id": "t6BdkhYMloWF",
        "outputId": "3dae0a99-5e48-4eb8-9a4b-13162298eee5"
      },
      "source": [
        "#explore the data\n",
        "df.info()"
      ],
      "execution_count": 5,
      "outputs": [
        {
          "output_type": "stream",
          "text": [
            "<class 'pandas.core.frame.DataFrame'>\n",
            "RangeIndex: 8523 entries, 0 to 8522\n",
            "Data columns (total 12 columns):\n",
            " #   Column                     Non-Null Count  Dtype  \n",
            "---  ------                     --------------  -----  \n",
            " 0   Item_Identifier            8523 non-null   object \n",
            " 1   Item_Weight                7060 non-null   float64\n",
            " 2   Item_Fat_Content           8523 non-null   object \n",
            " 3   Item_Visibility            8523 non-null   float64\n",
            " 4   Item_Type                  8523 non-null   object \n",
            " 5   Item_MRP                   8523 non-null   float64\n",
            " 6   Outlet_Identifier          8523 non-null   object \n",
            " 7   Outlet_Establishment_Year  8523 non-null   int64  \n",
            " 8   Outlet_Size                6113 non-null   object \n",
            " 9   Outlet_Location_Type       8523 non-null   object \n",
            " 10  Outlet_Type                8523 non-null   object \n",
            " 11  Item_Outlet_Sales          8523 non-null   float64\n",
            "dtypes: float64(4), int64(1), object(7)\n",
            "memory usage: 799.2+ KB\n"
          ],
          "name": "stdout"
        }
      ]
    },
    {
      "cell_type": "code",
      "metadata": {
        "colab": {
          "base_uri": "https://localhost:8080/"
        },
        "id": "0Qe96VZ0uK0n",
        "outputId": "e3c6e465-1966-49da-d779-303696b87ec8"
      },
      "source": [
        "#check for NaNs/nulls\n",
        "df.isnull().sum()"
      ],
      "execution_count": 6,
      "outputs": [
        {
          "output_type": "execute_result",
          "data": {
            "text/plain": [
              "Item_Identifier                 0\n",
              "Item_Weight                  1463\n",
              "Item_Fat_Content                0\n",
              "Item_Visibility                 0\n",
              "Item_Type                       0\n",
              "Item_MRP                        0\n",
              "Outlet_Identifier               0\n",
              "Outlet_Establishment_Year       0\n",
              "Outlet_Size                  2410\n",
              "Outlet_Location_Type            0\n",
              "Outlet_Type                     0\n",
              "Item_Outlet_Sales               0\n",
              "dtype: int64"
            ]
          },
          "metadata": {},
          "execution_count": 6
        }
      ]
    },
    {
      "cell_type": "markdown",
      "metadata": {
        "id": "9DNoTOBB4T9K"
      },
      "source": [
        "**--> Confirmed count of null values for Item_Weight (1463) and Outlet_Size (2410)**"
      ]
    },
    {
      "cell_type": "markdown",
      "metadata": {
        "id": "dctcYKVJlMdJ"
      },
      "source": [
        "3 - What are some summary statistics, aggregate information, or other useful trends you can see from the data using Pandas?"
      ]
    },
    {
      "cell_type": "code",
      "metadata": {
        "colab": {
          "base_uri": "https://localhost:8080/",
          "height": 309
        },
        "id": "vdNIcFKR5iz_",
        "outputId": "8a6d8d27-177d-4e48-e35c-f9d2162e0794"
      },
      "source": [
        "df.head()"
      ],
      "execution_count": 7,
      "outputs": [
        {
          "output_type": "execute_result",
          "data": {
            "text/html": [
              "<div>\n",
              "<style scoped>\n",
              "    .dataframe tbody tr th:only-of-type {\n",
              "        vertical-align: middle;\n",
              "    }\n",
              "\n",
              "    .dataframe tbody tr th {\n",
              "        vertical-align: top;\n",
              "    }\n",
              "\n",
              "    .dataframe thead th {\n",
              "        text-align: right;\n",
              "    }\n",
              "</style>\n",
              "<table border=\"1\" class=\"dataframe\">\n",
              "  <thead>\n",
              "    <tr style=\"text-align: right;\">\n",
              "      <th></th>\n",
              "      <th>Item_Identifier</th>\n",
              "      <th>Item_Weight</th>\n",
              "      <th>Item_Fat_Content</th>\n",
              "      <th>Item_Visibility</th>\n",
              "      <th>Item_Type</th>\n",
              "      <th>Item_MRP</th>\n",
              "      <th>Outlet_Identifier</th>\n",
              "      <th>Outlet_Establishment_Year</th>\n",
              "      <th>Outlet_Size</th>\n",
              "      <th>Outlet_Location_Type</th>\n",
              "      <th>Outlet_Type</th>\n",
              "      <th>Item_Outlet_Sales</th>\n",
              "    </tr>\n",
              "  </thead>\n",
              "  <tbody>\n",
              "    <tr>\n",
              "      <th>0</th>\n",
              "      <td>FDA15</td>\n",
              "      <td>9.30</td>\n",
              "      <td>Low Fat</td>\n",
              "      <td>0.016047</td>\n",
              "      <td>Dairy</td>\n",
              "      <td>249.8092</td>\n",
              "      <td>OUT049</td>\n",
              "      <td>1999</td>\n",
              "      <td>Medium</td>\n",
              "      <td>Tier 1</td>\n",
              "      <td>Supermarket Type1</td>\n",
              "      <td>3735.1380</td>\n",
              "    </tr>\n",
              "    <tr>\n",
              "      <th>1</th>\n",
              "      <td>DRC01</td>\n",
              "      <td>5.92</td>\n",
              "      <td>Regular</td>\n",
              "      <td>0.019278</td>\n",
              "      <td>Soft Drinks</td>\n",
              "      <td>48.2692</td>\n",
              "      <td>OUT018</td>\n",
              "      <td>2009</td>\n",
              "      <td>Medium</td>\n",
              "      <td>Tier 3</td>\n",
              "      <td>Supermarket Type2</td>\n",
              "      <td>443.4228</td>\n",
              "    </tr>\n",
              "    <tr>\n",
              "      <th>2</th>\n",
              "      <td>FDN15</td>\n",
              "      <td>17.50</td>\n",
              "      <td>Low Fat</td>\n",
              "      <td>0.016760</td>\n",
              "      <td>Meat</td>\n",
              "      <td>141.6180</td>\n",
              "      <td>OUT049</td>\n",
              "      <td>1999</td>\n",
              "      <td>Medium</td>\n",
              "      <td>Tier 1</td>\n",
              "      <td>Supermarket Type1</td>\n",
              "      <td>2097.2700</td>\n",
              "    </tr>\n",
              "    <tr>\n",
              "      <th>3</th>\n",
              "      <td>FDX07</td>\n",
              "      <td>19.20</td>\n",
              "      <td>Regular</td>\n",
              "      <td>0.000000</td>\n",
              "      <td>Fruits and Vegetables</td>\n",
              "      <td>182.0950</td>\n",
              "      <td>OUT010</td>\n",
              "      <td>1998</td>\n",
              "      <td>NaN</td>\n",
              "      <td>Tier 3</td>\n",
              "      <td>Grocery Store</td>\n",
              "      <td>732.3800</td>\n",
              "    </tr>\n",
              "    <tr>\n",
              "      <th>4</th>\n",
              "      <td>NCD19</td>\n",
              "      <td>8.93</td>\n",
              "      <td>Low Fat</td>\n",
              "      <td>0.000000</td>\n",
              "      <td>Household</td>\n",
              "      <td>53.8614</td>\n",
              "      <td>OUT013</td>\n",
              "      <td>1987</td>\n",
              "      <td>High</td>\n",
              "      <td>Tier 3</td>\n",
              "      <td>Supermarket Type1</td>\n",
              "      <td>994.7052</td>\n",
              "    </tr>\n",
              "  </tbody>\n",
              "</table>\n",
              "</div>"
            ],
            "text/plain": [
              "  Item_Identifier  Item_Weight  ...        Outlet_Type  Item_Outlet_Sales\n",
              "0           FDA15         9.30  ...  Supermarket Type1          3735.1380\n",
              "1           DRC01         5.92  ...  Supermarket Type2           443.4228\n",
              "2           FDN15        17.50  ...  Supermarket Type1          2097.2700\n",
              "3           FDX07        19.20  ...      Grocery Store           732.3800\n",
              "4           NCD19         8.93  ...  Supermarket Type1           994.7052\n",
              "\n",
              "[5 rows x 12 columns]"
            ]
          },
          "metadata": {},
          "execution_count": 7
        }
      ]
    },
    {
      "cell_type": "code",
      "metadata": {
        "colab": {
          "base_uri": "https://localhost:8080/",
          "height": 309
        },
        "id": "TazfEAoWmgGf",
        "outputId": "e5d30701-cb67-43f4-f5ff-30905e5ef633"
      },
      "source": [
        "df.tail()"
      ],
      "execution_count": 8,
      "outputs": [
        {
          "output_type": "execute_result",
          "data": {
            "text/html": [
              "<div>\n",
              "<style scoped>\n",
              "    .dataframe tbody tr th:only-of-type {\n",
              "        vertical-align: middle;\n",
              "    }\n",
              "\n",
              "    .dataframe tbody tr th {\n",
              "        vertical-align: top;\n",
              "    }\n",
              "\n",
              "    .dataframe thead th {\n",
              "        text-align: right;\n",
              "    }\n",
              "</style>\n",
              "<table border=\"1\" class=\"dataframe\">\n",
              "  <thead>\n",
              "    <tr style=\"text-align: right;\">\n",
              "      <th></th>\n",
              "      <th>Item_Identifier</th>\n",
              "      <th>Item_Weight</th>\n",
              "      <th>Item_Fat_Content</th>\n",
              "      <th>Item_Visibility</th>\n",
              "      <th>Item_Type</th>\n",
              "      <th>Item_MRP</th>\n",
              "      <th>Outlet_Identifier</th>\n",
              "      <th>Outlet_Establishment_Year</th>\n",
              "      <th>Outlet_Size</th>\n",
              "      <th>Outlet_Location_Type</th>\n",
              "      <th>Outlet_Type</th>\n",
              "      <th>Item_Outlet_Sales</th>\n",
              "    </tr>\n",
              "  </thead>\n",
              "  <tbody>\n",
              "    <tr>\n",
              "      <th>8518</th>\n",
              "      <td>FDF22</td>\n",
              "      <td>6.865</td>\n",
              "      <td>Low Fat</td>\n",
              "      <td>0.056783</td>\n",
              "      <td>Snack Foods</td>\n",
              "      <td>214.5218</td>\n",
              "      <td>OUT013</td>\n",
              "      <td>1987</td>\n",
              "      <td>High</td>\n",
              "      <td>Tier 3</td>\n",
              "      <td>Supermarket Type1</td>\n",
              "      <td>2778.3834</td>\n",
              "    </tr>\n",
              "    <tr>\n",
              "      <th>8519</th>\n",
              "      <td>FDS36</td>\n",
              "      <td>8.380</td>\n",
              "      <td>Regular</td>\n",
              "      <td>0.046982</td>\n",
              "      <td>Baking Goods</td>\n",
              "      <td>108.1570</td>\n",
              "      <td>OUT045</td>\n",
              "      <td>2002</td>\n",
              "      <td>NaN</td>\n",
              "      <td>Tier 2</td>\n",
              "      <td>Supermarket Type1</td>\n",
              "      <td>549.2850</td>\n",
              "    </tr>\n",
              "    <tr>\n",
              "      <th>8520</th>\n",
              "      <td>NCJ29</td>\n",
              "      <td>10.600</td>\n",
              "      <td>Low Fat</td>\n",
              "      <td>0.035186</td>\n",
              "      <td>Health and Hygiene</td>\n",
              "      <td>85.1224</td>\n",
              "      <td>OUT035</td>\n",
              "      <td>2004</td>\n",
              "      <td>Small</td>\n",
              "      <td>Tier 2</td>\n",
              "      <td>Supermarket Type1</td>\n",
              "      <td>1193.1136</td>\n",
              "    </tr>\n",
              "    <tr>\n",
              "      <th>8521</th>\n",
              "      <td>FDN46</td>\n",
              "      <td>7.210</td>\n",
              "      <td>Regular</td>\n",
              "      <td>0.145221</td>\n",
              "      <td>Snack Foods</td>\n",
              "      <td>103.1332</td>\n",
              "      <td>OUT018</td>\n",
              "      <td>2009</td>\n",
              "      <td>Medium</td>\n",
              "      <td>Tier 3</td>\n",
              "      <td>Supermarket Type2</td>\n",
              "      <td>1845.5976</td>\n",
              "    </tr>\n",
              "    <tr>\n",
              "      <th>8522</th>\n",
              "      <td>DRG01</td>\n",
              "      <td>14.800</td>\n",
              "      <td>Low Fat</td>\n",
              "      <td>0.044878</td>\n",
              "      <td>Soft Drinks</td>\n",
              "      <td>75.4670</td>\n",
              "      <td>OUT046</td>\n",
              "      <td>1997</td>\n",
              "      <td>Small</td>\n",
              "      <td>Tier 1</td>\n",
              "      <td>Supermarket Type1</td>\n",
              "      <td>765.6700</td>\n",
              "    </tr>\n",
              "  </tbody>\n",
              "</table>\n",
              "</div>"
            ],
            "text/plain": [
              "     Item_Identifier  Item_Weight  ...        Outlet_Type  Item_Outlet_Sales\n",
              "8518           FDF22        6.865  ...  Supermarket Type1          2778.3834\n",
              "8519           FDS36        8.380  ...  Supermarket Type1           549.2850\n",
              "8520           NCJ29       10.600  ...  Supermarket Type1          1193.1136\n",
              "8521           FDN46        7.210  ...  Supermarket Type2          1845.5976\n",
              "8522           DRG01       14.800  ...  Supermarket Type1           765.6700\n",
              "\n",
              "[5 rows x 12 columns]"
            ]
          },
          "metadata": {},
          "execution_count": 8
        }
      ]
    },
    {
      "cell_type": "code",
      "metadata": {
        "colab": {
          "base_uri": "https://localhost:8080/",
          "height": 427
        },
        "id": "Nl2knjm3lvJ0",
        "outputId": "5dbf4671-e967-4377-a547-40f8e48a818d"
      },
      "source": [
        "#explore descriptive statistics of data\n",
        "df.describe(include = 'all')"
      ],
      "execution_count": 9,
      "outputs": [
        {
          "output_type": "execute_result",
          "data": {
            "text/html": [
              "<div>\n",
              "<style scoped>\n",
              "    .dataframe tbody tr th:only-of-type {\n",
              "        vertical-align: middle;\n",
              "    }\n",
              "\n",
              "    .dataframe tbody tr th {\n",
              "        vertical-align: top;\n",
              "    }\n",
              "\n",
              "    .dataframe thead th {\n",
              "        text-align: right;\n",
              "    }\n",
              "</style>\n",
              "<table border=\"1\" class=\"dataframe\">\n",
              "  <thead>\n",
              "    <tr style=\"text-align: right;\">\n",
              "      <th></th>\n",
              "      <th>Item_Identifier</th>\n",
              "      <th>Item_Weight</th>\n",
              "      <th>Item_Fat_Content</th>\n",
              "      <th>Item_Visibility</th>\n",
              "      <th>Item_Type</th>\n",
              "      <th>Item_MRP</th>\n",
              "      <th>Outlet_Identifier</th>\n",
              "      <th>Outlet_Establishment_Year</th>\n",
              "      <th>Outlet_Size</th>\n",
              "      <th>Outlet_Location_Type</th>\n",
              "      <th>Outlet_Type</th>\n",
              "      <th>Item_Outlet_Sales</th>\n",
              "    </tr>\n",
              "  </thead>\n",
              "  <tbody>\n",
              "    <tr>\n",
              "      <th>count</th>\n",
              "      <td>8523</td>\n",
              "      <td>7060.000000</td>\n",
              "      <td>8523</td>\n",
              "      <td>8523.000000</td>\n",
              "      <td>8523</td>\n",
              "      <td>8523.000000</td>\n",
              "      <td>8523</td>\n",
              "      <td>8523.000000</td>\n",
              "      <td>6113</td>\n",
              "      <td>8523</td>\n",
              "      <td>8523</td>\n",
              "      <td>8523.000000</td>\n",
              "    </tr>\n",
              "    <tr>\n",
              "      <th>unique</th>\n",
              "      <td>1559</td>\n",
              "      <td>NaN</td>\n",
              "      <td>5</td>\n",
              "      <td>NaN</td>\n",
              "      <td>16</td>\n",
              "      <td>NaN</td>\n",
              "      <td>10</td>\n",
              "      <td>NaN</td>\n",
              "      <td>3</td>\n",
              "      <td>3</td>\n",
              "      <td>4</td>\n",
              "      <td>NaN</td>\n",
              "    </tr>\n",
              "    <tr>\n",
              "      <th>top</th>\n",
              "      <td>FDG33</td>\n",
              "      <td>NaN</td>\n",
              "      <td>Low Fat</td>\n",
              "      <td>NaN</td>\n",
              "      <td>Fruits and Vegetables</td>\n",
              "      <td>NaN</td>\n",
              "      <td>OUT027</td>\n",
              "      <td>NaN</td>\n",
              "      <td>Medium</td>\n",
              "      <td>Tier 3</td>\n",
              "      <td>Supermarket Type1</td>\n",
              "      <td>NaN</td>\n",
              "    </tr>\n",
              "    <tr>\n",
              "      <th>freq</th>\n",
              "      <td>10</td>\n",
              "      <td>NaN</td>\n",
              "      <td>5089</td>\n",
              "      <td>NaN</td>\n",
              "      <td>1232</td>\n",
              "      <td>NaN</td>\n",
              "      <td>935</td>\n",
              "      <td>NaN</td>\n",
              "      <td>2793</td>\n",
              "      <td>3350</td>\n",
              "      <td>5577</td>\n",
              "      <td>NaN</td>\n",
              "    </tr>\n",
              "    <tr>\n",
              "      <th>mean</th>\n",
              "      <td>NaN</td>\n",
              "      <td>12.857645</td>\n",
              "      <td>NaN</td>\n",
              "      <td>0.066132</td>\n",
              "      <td>NaN</td>\n",
              "      <td>140.992782</td>\n",
              "      <td>NaN</td>\n",
              "      <td>1997.831867</td>\n",
              "      <td>NaN</td>\n",
              "      <td>NaN</td>\n",
              "      <td>NaN</td>\n",
              "      <td>2181.288914</td>\n",
              "    </tr>\n",
              "    <tr>\n",
              "      <th>std</th>\n",
              "      <td>NaN</td>\n",
              "      <td>4.643456</td>\n",
              "      <td>NaN</td>\n",
              "      <td>0.051598</td>\n",
              "      <td>NaN</td>\n",
              "      <td>62.275067</td>\n",
              "      <td>NaN</td>\n",
              "      <td>8.371760</td>\n",
              "      <td>NaN</td>\n",
              "      <td>NaN</td>\n",
              "      <td>NaN</td>\n",
              "      <td>1706.499616</td>\n",
              "    </tr>\n",
              "    <tr>\n",
              "      <th>min</th>\n",
              "      <td>NaN</td>\n",
              "      <td>4.555000</td>\n",
              "      <td>NaN</td>\n",
              "      <td>0.000000</td>\n",
              "      <td>NaN</td>\n",
              "      <td>31.290000</td>\n",
              "      <td>NaN</td>\n",
              "      <td>1985.000000</td>\n",
              "      <td>NaN</td>\n",
              "      <td>NaN</td>\n",
              "      <td>NaN</td>\n",
              "      <td>33.290000</td>\n",
              "    </tr>\n",
              "    <tr>\n",
              "      <th>25%</th>\n",
              "      <td>NaN</td>\n",
              "      <td>8.773750</td>\n",
              "      <td>NaN</td>\n",
              "      <td>0.026989</td>\n",
              "      <td>NaN</td>\n",
              "      <td>93.826500</td>\n",
              "      <td>NaN</td>\n",
              "      <td>1987.000000</td>\n",
              "      <td>NaN</td>\n",
              "      <td>NaN</td>\n",
              "      <td>NaN</td>\n",
              "      <td>834.247400</td>\n",
              "    </tr>\n",
              "    <tr>\n",
              "      <th>50%</th>\n",
              "      <td>NaN</td>\n",
              "      <td>12.600000</td>\n",
              "      <td>NaN</td>\n",
              "      <td>0.053931</td>\n",
              "      <td>NaN</td>\n",
              "      <td>143.012800</td>\n",
              "      <td>NaN</td>\n",
              "      <td>1999.000000</td>\n",
              "      <td>NaN</td>\n",
              "      <td>NaN</td>\n",
              "      <td>NaN</td>\n",
              "      <td>1794.331000</td>\n",
              "    </tr>\n",
              "    <tr>\n",
              "      <th>75%</th>\n",
              "      <td>NaN</td>\n",
              "      <td>16.850000</td>\n",
              "      <td>NaN</td>\n",
              "      <td>0.094585</td>\n",
              "      <td>NaN</td>\n",
              "      <td>185.643700</td>\n",
              "      <td>NaN</td>\n",
              "      <td>2004.000000</td>\n",
              "      <td>NaN</td>\n",
              "      <td>NaN</td>\n",
              "      <td>NaN</td>\n",
              "      <td>3101.296400</td>\n",
              "    </tr>\n",
              "    <tr>\n",
              "      <th>max</th>\n",
              "      <td>NaN</td>\n",
              "      <td>21.350000</td>\n",
              "      <td>NaN</td>\n",
              "      <td>0.328391</td>\n",
              "      <td>NaN</td>\n",
              "      <td>266.888400</td>\n",
              "      <td>NaN</td>\n",
              "      <td>2009.000000</td>\n",
              "      <td>NaN</td>\n",
              "      <td>NaN</td>\n",
              "      <td>NaN</td>\n",
              "      <td>13086.964800</td>\n",
              "    </tr>\n",
              "  </tbody>\n",
              "</table>\n",
              "</div>"
            ],
            "text/plain": [
              "       Item_Identifier  Item_Weight  ...        Outlet_Type  Item_Outlet_Sales\n",
              "count             8523  7060.000000  ...               8523        8523.000000\n",
              "unique            1559          NaN  ...                  4                NaN\n",
              "top              FDG33          NaN  ...  Supermarket Type1                NaN\n",
              "freq                10          NaN  ...               5577                NaN\n",
              "mean               NaN    12.857645  ...                NaN        2181.288914\n",
              "std                NaN     4.643456  ...                NaN        1706.499616\n",
              "min                NaN     4.555000  ...                NaN          33.290000\n",
              "25%                NaN     8.773750  ...                NaN         834.247400\n",
              "50%                NaN    12.600000  ...                NaN        1794.331000\n",
              "75%                NaN    16.850000  ...                NaN        3101.296400\n",
              "max                NaN    21.350000  ...                NaN       13086.964800\n",
              "\n",
              "[11 rows x 12 columns]"
            ]
          },
          "metadata": {},
          "execution_count": 9
        }
      ]
    },
    {
      "cell_type": "markdown",
      "metadata": {
        "id": "ztInEy1Lk7gb"
      },
      "source": [
        "**--> Summary of statistics:**\n",
        "\n",
        "**There seems to be a weight outlier (min of Item_Weight = 4.555). Note Item_Weight data may be skewed due to presence of NaN values for this column.**\n",
        "\n",
        "**Low Fat items seemed to be the most bought (Item_Fat_Content frequency = 5089)**\n",
        "\n",
        "**Average price of purchased items was about 140.99 (see Item_MRP). Possible outliers for min value and max value.**\n",
        "\n",
        "**For Outlet_Size, frequency of Medium was highest (2793); however, this may be skewed due to presence of NaN values for this column.**\n",
        "\n",
        "**For Outlet_Location_Type, frequency of Tier 3 was highest (3350).**\n",
        "\n",
        "**For Outlet_Type, frequency of Supermarket Type 1 was highest (5577).**\n",
        "\n",
        "**For Item_Outlet_Sales, there seems to be outliers with min at 33.29 and max at 13086.96**\n",
        "\n",
        "\n"
      ]
    },
    {
      "cell_type": "code",
      "metadata": {
        "colab": {
          "base_uri": "https://localhost:8080/",
          "height": 609
        },
        "id": "wF2kETu0NjHB",
        "outputId": "75b73afd-0c8e-4d78-ecc7-7e19376963fc"
      },
      "source": [
        "#look at sample of null values\n",
        "null_df = df[df.isnull().any(axis=1)]\n",
        "null_df"
      ],
      "execution_count": 10,
      "outputs": [
        {
          "output_type": "execute_result",
          "data": {
            "text/html": [
              "<div>\n",
              "<style scoped>\n",
              "    .dataframe tbody tr th:only-of-type {\n",
              "        vertical-align: middle;\n",
              "    }\n",
              "\n",
              "    .dataframe tbody tr th {\n",
              "        vertical-align: top;\n",
              "    }\n",
              "\n",
              "    .dataframe thead th {\n",
              "        text-align: right;\n",
              "    }\n",
              "</style>\n",
              "<table border=\"1\" class=\"dataframe\">\n",
              "  <thead>\n",
              "    <tr style=\"text-align: right;\">\n",
              "      <th></th>\n",
              "      <th>Item_Identifier</th>\n",
              "      <th>Item_Weight</th>\n",
              "      <th>Item_Fat_Content</th>\n",
              "      <th>Item_Visibility</th>\n",
              "      <th>Item_Type</th>\n",
              "      <th>Item_MRP</th>\n",
              "      <th>Outlet_Identifier</th>\n",
              "      <th>Outlet_Establishment_Year</th>\n",
              "      <th>Outlet_Size</th>\n",
              "      <th>Outlet_Location_Type</th>\n",
              "      <th>Outlet_Type</th>\n",
              "      <th>Item_Outlet_Sales</th>\n",
              "    </tr>\n",
              "  </thead>\n",
              "  <tbody>\n",
              "    <tr>\n",
              "      <th>3</th>\n",
              "      <td>FDX07</td>\n",
              "      <td>19.20</td>\n",
              "      <td>Regular</td>\n",
              "      <td>0.000000</td>\n",
              "      <td>Fruits and Vegetables</td>\n",
              "      <td>182.0950</td>\n",
              "      <td>OUT010</td>\n",
              "      <td>1998</td>\n",
              "      <td>NaN</td>\n",
              "      <td>Tier 3</td>\n",
              "      <td>Grocery Store</td>\n",
              "      <td>732.3800</td>\n",
              "    </tr>\n",
              "    <tr>\n",
              "      <th>7</th>\n",
              "      <td>FDP10</td>\n",
              "      <td>NaN</td>\n",
              "      <td>Low Fat</td>\n",
              "      <td>0.127470</td>\n",
              "      <td>Snack Foods</td>\n",
              "      <td>107.7622</td>\n",
              "      <td>OUT027</td>\n",
              "      <td>1985</td>\n",
              "      <td>Medium</td>\n",
              "      <td>Tier 3</td>\n",
              "      <td>Supermarket Type3</td>\n",
              "      <td>4022.7636</td>\n",
              "    </tr>\n",
              "    <tr>\n",
              "      <th>8</th>\n",
              "      <td>FDH17</td>\n",
              "      <td>16.20</td>\n",
              "      <td>Regular</td>\n",
              "      <td>0.016687</td>\n",
              "      <td>Frozen Foods</td>\n",
              "      <td>96.9726</td>\n",
              "      <td>OUT045</td>\n",
              "      <td>2002</td>\n",
              "      <td>NaN</td>\n",
              "      <td>Tier 2</td>\n",
              "      <td>Supermarket Type1</td>\n",
              "      <td>1076.5986</td>\n",
              "    </tr>\n",
              "    <tr>\n",
              "      <th>9</th>\n",
              "      <td>FDU28</td>\n",
              "      <td>19.20</td>\n",
              "      <td>Regular</td>\n",
              "      <td>0.094450</td>\n",
              "      <td>Frozen Foods</td>\n",
              "      <td>187.8214</td>\n",
              "      <td>OUT017</td>\n",
              "      <td>2007</td>\n",
              "      <td>NaN</td>\n",
              "      <td>Tier 2</td>\n",
              "      <td>Supermarket Type1</td>\n",
              "      <td>4710.5350</td>\n",
              "    </tr>\n",
              "    <tr>\n",
              "      <th>18</th>\n",
              "      <td>DRI11</td>\n",
              "      <td>NaN</td>\n",
              "      <td>Low Fat</td>\n",
              "      <td>0.034238</td>\n",
              "      <td>Hard Drinks</td>\n",
              "      <td>113.2834</td>\n",
              "      <td>OUT027</td>\n",
              "      <td>1985</td>\n",
              "      <td>Medium</td>\n",
              "      <td>Tier 3</td>\n",
              "      <td>Supermarket Type3</td>\n",
              "      <td>2303.6680</td>\n",
              "    </tr>\n",
              "    <tr>\n",
              "      <th>...</th>\n",
              "      <td>...</td>\n",
              "      <td>...</td>\n",
              "      <td>...</td>\n",
              "      <td>...</td>\n",
              "      <td>...</td>\n",
              "      <td>...</td>\n",
              "      <td>...</td>\n",
              "      <td>...</td>\n",
              "      <td>...</td>\n",
              "      <td>...</td>\n",
              "      <td>...</td>\n",
              "      <td>...</td>\n",
              "    </tr>\n",
              "    <tr>\n",
              "      <th>8504</th>\n",
              "      <td>NCN18</td>\n",
              "      <td>NaN</td>\n",
              "      <td>Low Fat</td>\n",
              "      <td>0.124111</td>\n",
              "      <td>Household</td>\n",
              "      <td>111.7544</td>\n",
              "      <td>OUT027</td>\n",
              "      <td>1985</td>\n",
              "      <td>Medium</td>\n",
              "      <td>Tier 3</td>\n",
              "      <td>Supermarket Type3</td>\n",
              "      <td>4138.6128</td>\n",
              "    </tr>\n",
              "    <tr>\n",
              "      <th>8508</th>\n",
              "      <td>FDW31</td>\n",
              "      <td>11.35</td>\n",
              "      <td>Regular</td>\n",
              "      <td>0.043246</td>\n",
              "      <td>Fruits and Vegetables</td>\n",
              "      <td>199.4742</td>\n",
              "      <td>OUT045</td>\n",
              "      <td>2002</td>\n",
              "      <td>NaN</td>\n",
              "      <td>Tier 2</td>\n",
              "      <td>Supermarket Type1</td>\n",
              "      <td>2587.9646</td>\n",
              "    </tr>\n",
              "    <tr>\n",
              "      <th>8509</th>\n",
              "      <td>FDG45</td>\n",
              "      <td>8.10</td>\n",
              "      <td>Low Fat</td>\n",
              "      <td>0.214306</td>\n",
              "      <td>Fruits and Vegetables</td>\n",
              "      <td>213.9902</td>\n",
              "      <td>OUT010</td>\n",
              "      <td>1998</td>\n",
              "      <td>NaN</td>\n",
              "      <td>Tier 3</td>\n",
              "      <td>Grocery Store</td>\n",
              "      <td>424.7804</td>\n",
              "    </tr>\n",
              "    <tr>\n",
              "      <th>8514</th>\n",
              "      <td>FDA01</td>\n",
              "      <td>15.00</td>\n",
              "      <td>Regular</td>\n",
              "      <td>0.054489</td>\n",
              "      <td>Canned</td>\n",
              "      <td>57.5904</td>\n",
              "      <td>OUT045</td>\n",
              "      <td>2002</td>\n",
              "      <td>NaN</td>\n",
              "      <td>Tier 2</td>\n",
              "      <td>Supermarket Type1</td>\n",
              "      <td>468.7232</td>\n",
              "    </tr>\n",
              "    <tr>\n",
              "      <th>8519</th>\n",
              "      <td>FDS36</td>\n",
              "      <td>8.38</td>\n",
              "      <td>Regular</td>\n",
              "      <td>0.046982</td>\n",
              "      <td>Baking Goods</td>\n",
              "      <td>108.1570</td>\n",
              "      <td>OUT045</td>\n",
              "      <td>2002</td>\n",
              "      <td>NaN</td>\n",
              "      <td>Tier 2</td>\n",
              "      <td>Supermarket Type1</td>\n",
              "      <td>549.2850</td>\n",
              "    </tr>\n",
              "  </tbody>\n",
              "</table>\n",
              "<p>3873 rows × 12 columns</p>\n",
              "</div>"
            ],
            "text/plain": [
              "     Item_Identifier  Item_Weight  ...        Outlet_Type  Item_Outlet_Sales\n",
              "3              FDX07        19.20  ...      Grocery Store           732.3800\n",
              "7              FDP10          NaN  ...  Supermarket Type3          4022.7636\n",
              "8              FDH17        16.20  ...  Supermarket Type1          1076.5986\n",
              "9              FDU28        19.20  ...  Supermarket Type1          4710.5350\n",
              "18             DRI11          NaN  ...  Supermarket Type3          2303.6680\n",
              "...              ...          ...  ...                ...                ...\n",
              "8504           NCN18          NaN  ...  Supermarket Type3          4138.6128\n",
              "8508           FDW31        11.35  ...  Supermarket Type1          2587.9646\n",
              "8509           FDG45         8.10  ...      Grocery Store           424.7804\n",
              "8514           FDA01        15.00  ...  Supermarket Type1           468.7232\n",
              "8519           FDS36         8.38  ...  Supermarket Type1           549.2850\n",
              "\n",
              "[3873 rows x 12 columns]"
            ]
          },
          "metadata": {},
          "execution_count": 10
        }
      ]
    },
    {
      "cell_type": "markdown",
      "metadata": {
        "id": "nodqc_xMuCzk"
      },
      "source": [
        "**--> Cannot determine any pattern with the NaN values**"
      ]
    },
    {
      "cell_type": "markdown",
      "metadata": {
        "id": "_Td8ngpb5bUt"
      },
      "source": [
        "For Part3, your task is to complete any statistical analyses that might help you understand, explain, or model with your data. This must include at least one of each:\n",
        "\n",
        "Histogram to view the distributions of various features in your dataset.\n",
        "\n",
        "Boxplot to view statistical summaries of various features in your dataset.\n",
        "\n",
        "Heatmap of the correlation between features."
      ]
    },
    {
      "cell_type": "code",
      "metadata": {
        "id": "rOtZex4W5yxQ"
      },
      "source": [
        "import matplotlib.pyplot as plot\n",
        "import seaborn as sns"
      ],
      "execution_count": 11,
      "outputs": []
    },
    {
      "cell_type": "markdown",
      "metadata": {
        "id": "gs9l-fFz0uET"
      },
      "source": [
        "**--> Histograms**"
      ]
    },
    {
      "cell_type": "code",
      "metadata": {
        "colab": {
          "base_uri": "https://localhost:8080/",
          "height": 282
        },
        "id": "PfQi16ClssyW",
        "outputId": "7f23a59a-e3cc-4702-f269-61baa502156f"
      },
      "source": [
        "#histogram\n",
        "#item weight\n",
        "\n",
        "df['Item_Weight'].hist(bins = 20)"
      ],
      "execution_count": 12,
      "outputs": [
        {
          "output_type": "execute_result",
          "data": {
            "text/plain": [
              "<matplotlib.axes._subplots.AxesSubplot at 0x7f58fd999a50>"
            ]
          },
          "metadata": {},
          "execution_count": 12
        },
        {
          "output_type": "display_data",
          "data": {
            "image/png": "[encoded data removed]",
            "text/plain": [
              "<Figure size 432x288 with 1 Axes>"
            ]
          },
          "metadata": {
            "needs_background": "light"
          }
        }
      ]
    },
    {
      "cell_type": "code",
      "metadata": {
        "colab": {
          "base_uri": "https://localhost:8080/",
          "height": 282
        },
        "id": "_b_ErhVGuAGV",
        "outputId": "dd588a55-eace-4eb4-c3ee-f3c56cab9404"
      },
      "source": [
        "#histogram\n",
        "#item visibility\n",
        "\n",
        "df['Item_Visibility'].hist(bins = 20)"
      ],
      "execution_count": 13,
      "outputs": [
        {
          "output_type": "execute_result",
          "data": {
            "text/plain": [
              "<matplotlib.axes._subplots.AxesSubplot at 0x7f58fd837b90>"
            ]
          },
          "metadata": {},
          "execution_count": 13
        },
        {
          "output_type": "display_data",
          "data": {
            "image/png": "[encoded data removed]",
            "text/plain": [
              "<Figure size 432x288 with 1 Axes>"
            ]
          },
          "metadata": {
            "needs_background": "light"
          }
        }
      ]
    },
    {
      "cell_type": "code",
      "metadata": {
        "colab": {
          "base_uri": "https://localhost:8080/",
          "height": 282
        },
        "id": "_yYIdS03uUGa",
        "outputId": "25d03b7c-0a92-4bbc-8a9e-f80f5fd9d881"
      },
      "source": [
        "#histogram\n",
        "#item MRP\n",
        "\n",
        "df['Item_MRP'].hist(bins = 20)"
      ],
      "execution_count": 14,
      "outputs": [
        {
          "output_type": "execute_result",
          "data": {
            "text/plain": [
              "<matplotlib.axes._subplots.AxesSubplot at 0x7f58fd3ced10>"
            ]
          },
          "metadata": {},
          "execution_count": 14
        },
        {
          "output_type": "display_data",
          "data": {
            "image/png": "[encoded data removed]",
            "text/plain": [
              "<Figure size 432x288 with 1 Axes>"
            ]
          },
          "metadata": {
            "needs_background": "light"
          }
        }
      ]
    },
    {
      "cell_type": "code",
      "metadata": {
        "colab": {
          "base_uri": "https://localhost:8080/",
          "height": 282
        },
        "id": "soLQ_Ojju975",
        "outputId": "45644554-1743-496a-c88b-f36a11ef9b4b"
      },
      "source": [
        "#histogram\n",
        "#item outlet sales\n",
        "\n",
        "df['Item_Outlet_Sales'].hist(bins = 20)"
      ],
      "execution_count": 15,
      "outputs": [
        {
          "output_type": "execute_result",
          "data": {
            "text/plain": [
              "<matplotlib.axes._subplots.AxesSubplot at 0x7f58fd25a4d0>"
            ]
          },
          "metadata": {},
          "execution_count": 15
        },
        {
          "output_type": "display_data",
          "data": {
            "image/png": "[encoded data removed]",
            "text/plain": [
              "<Figure size 432x288 with 1 Axes>"
            ]
          },
          "metadata": {
            "needs_background": "light"
          }
        }
      ]
    },
    {
      "cell_type": "markdown",
      "metadata": {
        "id": "thYo_P3K06EU"
      },
      "source": [
        "**--> Bar Chart (Just Curious)**"
      ]
    },
    {
      "cell_type": "code",
      "metadata": {
        "id": "7bPtfjc26RPw",
        "colab": {
          "base_uri": "https://localhost:8080/",
          "height": 311
        },
        "outputId": "2b6c44d9-2404-4a2f-9de2-39a7ccc5cfbd"
      },
      "source": [
        "#columns below are categorical and would be better suited with bar chart\n",
        "#item fat content\n",
        "#outlet size\n",
        "#outlet location type\n",
        "#outlet type\n",
        "\n",
        "#initial bar chart shows stray values \"low fat\", \"LF\", \"reg\"\n",
        "#rename values then redo histogram\n",
        "df = df.replace(['low fat','LF'],'Low Fat')\n",
        "df = df.replace(['reg'], 'Regular')\n",
        "\n",
        "#out of curiosity...\n",
        "#bar chart\n",
        "#item fat content\n",
        "df['Item_Fat_Content'].value_counts().plot(kind = 'bar')"
      ],
      "execution_count": 16,
      "outputs": [
        {
          "output_type": "execute_result",
          "data": {
            "text/plain": [
              "<matplotlib.axes._subplots.AxesSubplot at 0x7f58fd217bd0>"
            ]
          },
          "metadata": {},
          "execution_count": 16
        },
        {
          "output_type": "display_data",
          "data": {
            "image/png": "[encoded data removed]",
            "text/plain": [
              "<Figure size 432x288 with 1 Axes>"
            ]
          },
          "metadata": {
            "needs_background": "light"
          }
        }
      ]
    },
    {
      "cell_type": "markdown",
      "metadata": {
        "id": "cV_rgKw81BFV"
      },
      "source": [
        "**--> Boxplots**"
      ]
    },
    {
      "cell_type": "code",
      "metadata": {
        "id": "z6jElgSV6S7_",
        "colab": {
          "base_uri": "https://localhost:8080/",
          "height": 266
        },
        "outputId": "d2f9554e-b748-4191-8043-503ab6024974"
      },
      "source": [
        "#boxplot\n",
        "#item weight\n",
        "\n",
        "df.boxplot(column = 'Item_Weight');"
      ],
      "execution_count": 17,
      "outputs": [
        {
          "output_type": "display_data",
          "data": {
            "image/png": "[encoded data removed]",
            "text/plain": [
              "<Figure size 432x288 with 1 Axes>"
            ]
          },
          "metadata": {
            "needs_background": "light"
          }
        }
      ]
    },
    {
      "cell_type": "code",
      "metadata": {
        "colab": {
          "base_uri": "https://localhost:8080/",
          "height": 266
        },
        "id": "-54DM4C-w1PH",
        "outputId": "57fbe739-8538-4845-d250-5f5dd3fafeb4"
      },
      "source": [
        "#boxplot\n",
        "#item MRP\n",
        "\n",
        "df.boxplot(column = 'Item_MRP');"
      ],
      "execution_count": 18,
      "outputs": [
        {
          "output_type": "display_data",
          "data": {
            "image/png": "[encoded data removed]",
            "text/plain": [
              "<Figure size 432x288 with 1 Axes>"
            ]
          },
          "metadata": {
            "needs_background": "light"
          }
        }
      ]
    },
    {
      "cell_type": "code",
      "metadata": {
        "colab": {
          "base_uri": "https://localhost:8080/",
          "height": 266
        },
        "id": "wN6E2_3xxn-2",
        "outputId": "adacd453-82f0-47f7-f78b-b0d6797207db"
      },
      "source": [
        "#boxplot\n",
        "#item outlet sales\n",
        "\n",
        "df.boxplot(column = 'Item_Outlet_Sales');"
      ],
      "execution_count": 19,
      "outputs": [
        {
          "output_type": "display_data",
          "data": {
            "image/png": "[encoded data removed]",
            "text/plain": [
              "<Figure size 432x288 with 1 Axes>"
            ]
          },
          "metadata": {
            "needs_background": "light"
          }
        }
      ]
    },
    {
      "cell_type": "markdown",
      "metadata": {
        "id": "CFKh_tPQ1U0q"
      },
      "source": [
        "**--> Heatmap**"
      ]
    },
    {
      "cell_type": "code",
      "metadata": {
        "colab": {
          "base_uri": "https://localhost:8080/",
          "height": 392
        },
        "id": "feTOg-aV5lCo",
        "outputId": "3972e641-b1af-495b-e8be-7df9f59fd3bb"
      },
      "source": [
        "#heatmap\n",
        "corr = df.corr()\n",
        "sns.heatmap(corr, cmap = 'Greens');"
      ],
      "execution_count": 20,
      "outputs": [
        {
          "output_type": "display_data",
          "data": {
            "image/png": "[encoded data removed]",
            "text/plain": [
              "<Figure size 432x288 with 2 Axes>"
            ]
          },
          "metadata": {
            "needs_background": "light"
          }
        }
      ]
    },
    {
      "cell_type": "code",
      "metadata": {
        "colab": {
          "base_uri": "https://localhost:8080/"
        },
        "id": "d8CAQnLSyXqr",
        "outputId": "aa425c0e-0b37-424e-834c-e6a2cf0f7873"
      },
      "source": [
        "#checking correlation between item outlet sales and item MRP\n",
        "outlet_sales_by_MRP = df['Item_Outlet_Sales'].corr(df['Item_MRP'])\n",
        "outlet_sales_by_MRP"
      ],
      "execution_count": 21,
      "outputs": [
        {
          "output_type": "execute_result",
          "data": {
            "text/plain": [
              "0.5675744466569195"
            ]
          },
          "metadata": {},
          "execution_count": 21
        }
      ]
    },
    {
      "cell_type": "markdown",
      "metadata": {
        "id": "QDOt6ADjhtMs"
      },
      "source": [
        "For Part 4, your task is to build several data visualizations to help your stakeholders better understand trends in the data. Feel free to get creative with this week - this is your chance to set your project apart from others with exceptional visualizations and analyses.\n",
        "\n",
        "Build on your previous cleaning, exploration, and analysis.  \n",
        "Create a minimum of two data visualizations that help others understand trends in the data (explanatory data analysis).\n",
        "Since these graphs are for reporting purposes, make sure they look nice by including titles, legends, etc."
      ]
    },
    {
      "cell_type": "markdown",
      "metadata": {
        "id": "ka8Tz85XGsvg"
      },
      "source": [
        "**--> Based on the data exploration and initial visualizations in Part 3, I want to follow up with the Item Fat Content column values of Low Fat and Regular and tease out any possible correlations.** "
      ]
    },
    {
      "cell_type": "code",
      "metadata": {
        "colab": {
          "base_uri": "https://localhost:8080/",
          "height": 545
        },
        "id": "IpERG9qsAD1h",
        "outputId": "738e61c8-0270-42d8-8bbc-89045501c2eb"
      },
      "source": [
        "#grouping low fat content by item type\n",
        "#get count for items sold\n",
        "low_fat_df = df[(df['Item_Fat_Content'] == 'Low Fat')]\n",
        "low_fat_df = low_fat_df.groupby(['Item_Fat_Content', 'Item_Type'])['Item_Outlet_Sales'].count().reset_index()\n",
        "low_fat_df"
      ],
      "execution_count": 22,
      "outputs": [
        {
          "output_type": "execute_result",
          "data": {
            "text/html": [
              "<div>\n",
              "<style scoped>\n",
              "    .dataframe tbody tr th:only-of-type {\n",
              "        vertical-align: middle;\n",
              "    }\n",
              "\n",
              "    .dataframe tbody tr th {\n",
              "        vertical-align: top;\n",
              "    }\n",
              "\n",
              "    .dataframe thead th {\n",
              "        text-align: right;\n",
              "    }\n",
              "</style>\n",
              "<table border=\"1\" class=\"dataframe\">\n",
              "  <thead>\n",
              "    <tr style=\"text-align: right;\">\n",
              "      <th></th>\n",
              "      <th>Item_Fat_Content</th>\n",
              "      <th>Item_Type</th>\n",
              "      <th>Item_Outlet_Sales</th>\n",
              "    </tr>\n",
              "  </thead>\n",
              "  <tbody>\n",
              "    <tr>\n",
              "      <th>0</th>\n",
              "      <td>Low Fat</td>\n",
              "      <td>Baking Goods</td>\n",
              "      <td>329</td>\n",
              "    </tr>\n",
              "    <tr>\n",
              "      <th>1</th>\n",
              "      <td>Low Fat</td>\n",
              "      <td>Breads</td>\n",
              "      <td>140</td>\n",
              "    </tr>\n",
              "    <tr>\n",
              "      <th>2</th>\n",
              "      <td>Low Fat</td>\n",
              "      <td>Breakfast</td>\n",
              "      <td>41</td>\n",
              "    </tr>\n",
              "    <tr>\n",
              "      <th>3</th>\n",
              "      <td>Low Fat</td>\n",
              "      <td>Canned</td>\n",
              "      <td>341</td>\n",
              "    </tr>\n",
              "    <tr>\n",
              "      <th>4</th>\n",
              "      <td>Low Fat</td>\n",
              "      <td>Dairy</td>\n",
              "      <td>418</td>\n",
              "    </tr>\n",
              "    <tr>\n",
              "      <th>5</th>\n",
              "      <td>Low Fat</td>\n",
              "      <td>Frozen Foods</td>\n",
              "      <td>450</td>\n",
              "    </tr>\n",
              "    <tr>\n",
              "      <th>6</th>\n",
              "      <td>Low Fat</td>\n",
              "      <td>Fruits and Vegetables</td>\n",
              "      <td>630</td>\n",
              "    </tr>\n",
              "    <tr>\n",
              "      <th>7</th>\n",
              "      <td>Low Fat</td>\n",
              "      <td>Hard Drinks</td>\n",
              "      <td>214</td>\n",
              "    </tr>\n",
              "    <tr>\n",
              "      <th>8</th>\n",
              "      <td>Low Fat</td>\n",
              "      <td>Health and Hygiene</td>\n",
              "      <td>520</td>\n",
              "    </tr>\n",
              "    <tr>\n",
              "      <th>9</th>\n",
              "      <td>Low Fat</td>\n",
              "      <td>Household</td>\n",
              "      <td>910</td>\n",
              "    </tr>\n",
              "    <tr>\n",
              "      <th>10</th>\n",
              "      <td>Low Fat</td>\n",
              "      <td>Meat</td>\n",
              "      <td>170</td>\n",
              "    </tr>\n",
              "    <tr>\n",
              "      <th>11</th>\n",
              "      <td>Low Fat</td>\n",
              "      <td>Others</td>\n",
              "      <td>169</td>\n",
              "    </tr>\n",
              "    <tr>\n",
              "      <th>12</th>\n",
              "      <td>Low Fat</td>\n",
              "      <td>Seafood</td>\n",
              "      <td>37</td>\n",
              "    </tr>\n",
              "    <tr>\n",
              "      <th>13</th>\n",
              "      <td>Low Fat</td>\n",
              "      <td>Snack Foods</td>\n",
              "      <td>692</td>\n",
              "    </tr>\n",
              "    <tr>\n",
              "      <th>14</th>\n",
              "      <td>Low Fat</td>\n",
              "      <td>Soft Drinks</td>\n",
              "      <td>374</td>\n",
              "    </tr>\n",
              "    <tr>\n",
              "      <th>15</th>\n",
              "      <td>Low Fat</td>\n",
              "      <td>Starchy Foods</td>\n",
              "      <td>82</td>\n",
              "    </tr>\n",
              "  </tbody>\n",
              "</table>\n",
              "</div>"
            ],
            "text/plain": [
              "   Item_Fat_Content              Item_Type  Item_Outlet_Sales\n",
              "0           Low Fat           Baking Goods                329\n",
              "1           Low Fat                 Breads                140\n",
              "2           Low Fat              Breakfast                 41\n",
              "3           Low Fat                 Canned                341\n",
              "4           Low Fat                  Dairy                418\n",
              "5           Low Fat           Frozen Foods                450\n",
              "6           Low Fat  Fruits and Vegetables                630\n",
              "7           Low Fat            Hard Drinks                214\n",
              "8           Low Fat     Health and Hygiene                520\n",
              "9           Low Fat              Household                910\n",
              "10          Low Fat                   Meat                170\n",
              "11          Low Fat                 Others                169\n",
              "12          Low Fat                Seafood                 37\n",
              "13          Low Fat            Snack Foods                692\n",
              "14          Low Fat            Soft Drinks                374\n",
              "15          Low Fat          Starchy Foods                 82"
            ]
          },
          "metadata": {},
          "execution_count": 22
        }
      ]
    },
    {
      "cell_type": "code",
      "metadata": {
        "colab": {
          "base_uri": "https://localhost:8080/",
          "height": 421
        },
        "id": "F_q4hC9wHjn-",
        "outputId": "10321acf-ffbb-471b-8c45-0f437f5369f6"
      },
      "source": [
        "#grouping regular (fat) content by item type\n",
        "#get count for items sold\n",
        "regular_df = df[(df['Item_Fat_Content'] == 'Regular')]\n",
        "regular_df = regular_df.groupby(['Item_Fat_Content', 'Item_Type'])['Item_Outlet_Sales'].count().reset_index()\n",
        "regular_df"
      ],
      "execution_count": 23,
      "outputs": [
        {
          "output_type": "execute_result",
          "data": {
            "text/html": [
              "<div>\n",
              "<style scoped>\n",
              "    .dataframe tbody tr th:only-of-type {\n",
              "        vertical-align: middle;\n",
              "    }\n",
              "\n",
              "    .dataframe tbody tr th {\n",
              "        vertical-align: top;\n",
              "    }\n",
              "\n",
              "    .dataframe thead th {\n",
              "        text-align: right;\n",
              "    }\n",
              "</style>\n",
              "<table border=\"1\" class=\"dataframe\">\n",
              "  <thead>\n",
              "    <tr style=\"text-align: right;\">\n",
              "      <th></th>\n",
              "      <th>Item_Fat_Content</th>\n",
              "      <th>Item_Type</th>\n",
              "      <th>Item_Outlet_Sales</th>\n",
              "    </tr>\n",
              "  </thead>\n",
              "  <tbody>\n",
              "    <tr>\n",
              "      <th>0</th>\n",
              "      <td>Regular</td>\n",
              "      <td>Baking Goods</td>\n",
              "      <td>319</td>\n",
              "    </tr>\n",
              "    <tr>\n",
              "      <th>1</th>\n",
              "      <td>Regular</td>\n",
              "      <td>Breads</td>\n",
              "      <td>111</td>\n",
              "    </tr>\n",
              "    <tr>\n",
              "      <th>2</th>\n",
              "      <td>Regular</td>\n",
              "      <td>Breakfast</td>\n",
              "      <td>69</td>\n",
              "    </tr>\n",
              "    <tr>\n",
              "      <th>3</th>\n",
              "      <td>Regular</td>\n",
              "      <td>Canned</td>\n",
              "      <td>308</td>\n",
              "    </tr>\n",
              "    <tr>\n",
              "      <th>4</th>\n",
              "      <td>Regular</td>\n",
              "      <td>Dairy</td>\n",
              "      <td>264</td>\n",
              "    </tr>\n",
              "    <tr>\n",
              "      <th>5</th>\n",
              "      <td>Regular</td>\n",
              "      <td>Frozen Foods</td>\n",
              "      <td>406</td>\n",
              "    </tr>\n",
              "    <tr>\n",
              "      <th>6</th>\n",
              "      <td>Regular</td>\n",
              "      <td>Fruits and Vegetables</td>\n",
              "      <td>602</td>\n",
              "    </tr>\n",
              "    <tr>\n",
              "      <th>7</th>\n",
              "      <td>Regular</td>\n",
              "      <td>Meat</td>\n",
              "      <td>255</td>\n",
              "    </tr>\n",
              "    <tr>\n",
              "      <th>8</th>\n",
              "      <td>Regular</td>\n",
              "      <td>Seafood</td>\n",
              "      <td>27</td>\n",
              "    </tr>\n",
              "    <tr>\n",
              "      <th>9</th>\n",
              "      <td>Regular</td>\n",
              "      <td>Snack Foods</td>\n",
              "      <td>508</td>\n",
              "    </tr>\n",
              "    <tr>\n",
              "      <th>10</th>\n",
              "      <td>Regular</td>\n",
              "      <td>Soft Drinks</td>\n",
              "      <td>71</td>\n",
              "    </tr>\n",
              "    <tr>\n",
              "      <th>11</th>\n",
              "      <td>Regular</td>\n",
              "      <td>Starchy Foods</td>\n",
              "      <td>66</td>\n",
              "    </tr>\n",
              "  </tbody>\n",
              "</table>\n",
              "</div>"
            ],
            "text/plain": [
              "   Item_Fat_Content              Item_Type  Item_Outlet_Sales\n",
              "0           Regular           Baking Goods                319\n",
              "1           Regular                 Breads                111\n",
              "2           Regular              Breakfast                 69\n",
              "3           Regular                 Canned                308\n",
              "4           Regular                  Dairy                264\n",
              "5           Regular           Frozen Foods                406\n",
              "6           Regular  Fruits and Vegetables                602\n",
              "7           Regular                   Meat                255\n",
              "8           Regular                Seafood                 27\n",
              "9           Regular            Snack Foods                508\n",
              "10          Regular            Soft Drinks                 71\n",
              "11          Regular          Starchy Foods                 66"
            ]
          },
          "metadata": {},
          "execution_count": 23
        }
      ]
    },
    {
      "cell_type": "code",
      "metadata": {
        "colab": {
          "base_uri": "https://localhost:8080/",
          "height": 893
        },
        "id": "IvTOtmPpBw19",
        "outputId": "98b97a2e-a90c-490d-ddfb-9130a7c26db5"
      },
      "source": [
        "plot.figure(figsize=(20,12))\n",
        "# bar plot with matplotlib\n",
        "\n",
        "plot.subplot(2, 1, 1)\n",
        "plot.barh('Item_Type', 'Item_Outlet_Sales', data=low_fat_df,  label = 'Low Fat Sale Count');\n",
        "plot.xlabel('Sale Count', size=15);\n",
        "plot.ylabel('Item Type', size=15);\n",
        "plot.title('Low Fat Items Sold', size=18);\n",
        "\n",
        "plot.subplot(2, 1, 2)\n",
        "plot.barh('Item_Type', 'Item_Outlet_Sales', data=regular_df,  label = 'Regular Sale Count');\n",
        "plot.xlabel('Sale Count', size=15);\n",
        "plot.ylabel('Item Type', size=15);\n",
        "plot.title('Regular Items Sold', size=18);\n",
        "\n",
        "plot.tight_layout()"
      ],
      "execution_count": 24,
      "outputs": [
        {
          "output_type": "display_data",
          "data": {
            "image/png": "[encoded data removed]",
            "text/plain": [
              "<Figure size 1440x864 with 2 Axes>"
            ]
          },
          "metadata": {
            "needs_background": "light"
          }
        }
      ]
    },
    {
      "cell_type": "markdown",
      "metadata": {
        "id": "bL095BmaYHmv"
      },
      "source": [
        "**--> Interpretation:**\n",
        "\n",
        "**Top 3 Low Fat items sold are Household, Snack Foods, and Fruits and Vegetables**\n",
        "\n",
        "**Top 3 Regular items sold are Fruits and Vegetables, Snack Foods, and Frozen Foods**\n",
        "\n",
        "**--> I'll use Low Fat and Regular to filter out another column variable...**"
      ]
    },
    {
      "cell_type": "code",
      "metadata": {
        "colab": {
          "base_uri": "https://localhost:8080/"
        },
        "id": "O7RGVCDZegIr",
        "outputId": "dfa4fed3-0512-425a-dfea-5bf83eae51ad"
      },
      "source": [
        "#get count of outlet types\n",
        "df['Outlet_Type'].value_counts()"
      ],
      "execution_count": 25,
      "outputs": [
        {
          "output_type": "execute_result",
          "data": {
            "text/plain": [
              "Supermarket Type1    5577\n",
              "Grocery Store        1083\n",
              "Supermarket Type3     935\n",
              "Supermarket Type2     928\n",
              "Name: Outlet_Type, dtype: int64"
            ]
          },
          "metadata": {},
          "execution_count": 25
        }
      ]
    },
    {
      "cell_type": "code",
      "metadata": {
        "colab": {
          "base_uri": "https://localhost:8080/",
          "height": 352
        },
        "id": "kThq8iwl3oOl",
        "outputId": "cbbd6744-cd43-441f-d344-29616ff131cf"
      },
      "source": [
        "#visualize\n",
        "df['Outlet_Type'].value_counts().plot(kind = 'bar');"
      ],
      "execution_count": 26,
      "outputs": [
        {
          "output_type": "display_data",
          "data": {
            "image/png": "[encoded data removed]",
            "text/plain": [
              "<Figure size 432x288 with 1 Axes>"
            ]
          },
          "metadata": {
            "needs_background": "light"
          }
        }
      ]
    },
    {
      "cell_type": "code",
      "metadata": {
        "colab": {
          "base_uri": "https://localhost:8080/",
          "height": 173
        },
        "id": "SjDZWz4cRdOU",
        "outputId": "508480b4-de83-45eb-b4e0-55ad28555238"
      },
      "source": [
        "#group by low fat content by outlet type and get count\n",
        "lf_outlet_df = df[(df['Item_Fat_Content'] == 'Low Fat')]\n",
        "lf_outlet_df = lf_outlet_df.groupby(['Item_Fat_Content', 'Outlet_Type'])['Item_Outlet_Sales'].count().reset_index()\n",
        "lf_outlet_df"
      ],
      "execution_count": 27,
      "outputs": [
        {
          "output_type": "execute_result",
          "data": {
            "text/html": [
              "<div>\n",
              "<style scoped>\n",
              "    .dataframe tbody tr th:only-of-type {\n",
              "        vertical-align: middle;\n",
              "    }\n",
              "\n",
              "    .dataframe tbody tr th {\n",
              "        vertical-align: top;\n",
              "    }\n",
              "\n",
              "    .dataframe thead th {\n",
              "        text-align: right;\n",
              "    }\n",
              "</style>\n",
              "<table border=\"1\" class=\"dataframe\">\n",
              "  <thead>\n",
              "    <tr style=\"text-align: right;\">\n",
              "      <th></th>\n",
              "      <th>Item_Fat_Content</th>\n",
              "      <th>Outlet_Type</th>\n",
              "      <th>Item_Outlet_Sales</th>\n",
              "    </tr>\n",
              "  </thead>\n",
              "  <tbody>\n",
              "    <tr>\n",
              "      <th>0</th>\n",
              "      <td>Low Fat</td>\n",
              "      <td>Grocery Store</td>\n",
              "      <td>705</td>\n",
              "    </tr>\n",
              "    <tr>\n",
              "      <th>1</th>\n",
              "      <td>Low Fat</td>\n",
              "      <td>Supermarket Type1</td>\n",
              "      <td>3609</td>\n",
              "    </tr>\n",
              "    <tr>\n",
              "      <th>2</th>\n",
              "      <td>Low Fat</td>\n",
              "      <td>Supermarket Type2</td>\n",
              "      <td>598</td>\n",
              "    </tr>\n",
              "    <tr>\n",
              "      <th>3</th>\n",
              "      <td>Low Fat</td>\n",
              "      <td>Supermarket Type3</td>\n",
              "      <td>605</td>\n",
              "    </tr>\n",
              "  </tbody>\n",
              "</table>\n",
              "</div>"
            ],
            "text/plain": [
              "  Item_Fat_Content        Outlet_Type  Item_Outlet_Sales\n",
              "0          Low Fat      Grocery Store                705\n",
              "1          Low Fat  Supermarket Type1               3609\n",
              "2          Low Fat  Supermarket Type2                598\n",
              "3          Low Fat  Supermarket Type3                605"
            ]
          },
          "metadata": {},
          "execution_count": 27
        }
      ]
    },
    {
      "cell_type": "code",
      "metadata": {
        "colab": {
          "base_uri": "https://localhost:8080/",
          "height": 173
        },
        "id": "fkGF-QCjTCXb",
        "outputId": "208e4676-1370-45d2-a508-1e675fb08be4"
      },
      "source": [
        "#group by regular (fat) content by outlet type and get count\n",
        "reg_outlet_df = df[(df['Item_Fat_Content'] == 'Regular')]\n",
        "reg_outlet_df = reg_outlet_df.groupby(['Item_Fat_Content', 'Outlet_Type'])['Item_Outlet_Sales'].count().reset_index()\n",
        "reg_outlet_df"
      ],
      "execution_count": 28,
      "outputs": [
        {
          "output_type": "execute_result",
          "data": {
            "text/html": [
              "<div>\n",
              "<style scoped>\n",
              "    .dataframe tbody tr th:only-of-type {\n",
              "        vertical-align: middle;\n",
              "    }\n",
              "\n",
              "    .dataframe tbody tr th {\n",
              "        vertical-align: top;\n",
              "    }\n",
              "\n",
              "    .dataframe thead th {\n",
              "        text-align: right;\n",
              "    }\n",
              "</style>\n",
              "<table border=\"1\" class=\"dataframe\">\n",
              "  <thead>\n",
              "    <tr style=\"text-align: right;\">\n",
              "      <th></th>\n",
              "      <th>Item_Fat_Content</th>\n",
              "      <th>Outlet_Type</th>\n",
              "      <th>Item_Outlet_Sales</th>\n",
              "    </tr>\n",
              "  </thead>\n",
              "  <tbody>\n",
              "    <tr>\n",
              "      <th>0</th>\n",
              "      <td>Regular</td>\n",
              "      <td>Grocery Store</td>\n",
              "      <td>378</td>\n",
              "    </tr>\n",
              "    <tr>\n",
              "      <th>1</th>\n",
              "      <td>Regular</td>\n",
              "      <td>Supermarket Type1</td>\n",
              "      <td>1968</td>\n",
              "    </tr>\n",
              "    <tr>\n",
              "      <th>2</th>\n",
              "      <td>Regular</td>\n",
              "      <td>Supermarket Type2</td>\n",
              "      <td>330</td>\n",
              "    </tr>\n",
              "    <tr>\n",
              "      <th>3</th>\n",
              "      <td>Regular</td>\n",
              "      <td>Supermarket Type3</td>\n",
              "      <td>330</td>\n",
              "    </tr>\n",
              "  </tbody>\n",
              "</table>\n",
              "</div>"
            ],
            "text/plain": [
              "  Item_Fat_Content        Outlet_Type  Item_Outlet_Sales\n",
              "0          Regular      Grocery Store                378\n",
              "1          Regular  Supermarket Type1               1968\n",
              "2          Regular  Supermarket Type2                330\n",
              "3          Regular  Supermarket Type3                330"
            ]
          },
          "metadata": {},
          "execution_count": 28
        }
      ]
    },
    {
      "cell_type": "code",
      "metadata": {
        "colab": {
          "base_uri": "https://localhost:8080/",
          "height": 893
        },
        "id": "QvP4aqrnTZHq",
        "outputId": "553032df-beec-4f79-860d-a3d6b722cd81"
      },
      "source": [
        "plot.figure(figsize=(20,12))\n",
        "# bar plot with matplotlib\n",
        "\n",
        "plot.subplot(2, 1, 1)\n",
        "plot.barh('Outlet_Type', 'Item_Outlet_Sales', data=lf_outlet_df,  label = 'Low Fat Sale Count by Outlet Type');\n",
        "plot.xlabel('Sale Count', size=15);\n",
        "plot.ylabel('Item Type', size=15);\n",
        "plot.title('Low Fat Items Sold', size=18);\n",
        "\n",
        "plot.subplot(2, 1, 2)\n",
        "plot.barh('Outlet_Type', 'Item_Outlet_Sales', data=reg_outlet_df,  label = 'Regular Sale Count by Outlet Type');\n",
        "plot.xlabel('Sale Count', size=15);\n",
        "plot.ylabel('Item Type', size=15);\n",
        "plot.title('Regular Items Sold', size=18);\n",
        "\n",
        "plot.tight_layout()"
      ],
      "execution_count": 29,
      "outputs": [
        {
          "output_type": "display_data",
          "data": {
            "image/png": "[encoded data removed]",
            "text/plain": [
              "<Figure size 1440x864 with 2 Axes>"
            ]
          },
          "metadata": {
            "needs_background": "light"
          }
        }
      ]
    },
    {
      "cell_type": "markdown",
      "metadata": {
        "id": "XT1EqxgkZWf-"
      },
      "source": [
        "**--> Interpretation:**\n",
        "\n",
        "**Supermarket Type1 overwhelmingly had the highest amount of Low Fat sales**\n",
        "\n",
        "**Supermarket Type1 overwhelmingly had the highest amount of Regular sales**\n"
      ]
    },
    {
      "cell_type": "markdown",
      "metadata": {
        "id": "aihtZxUw5LcF"
      },
      "source": [
        "For Part 5, your task is to use Linear Regression to create and evaluate a model to predict sales:\n",
        "\n",
        "Use the data you have cleaned in previous weeks. \n",
        "\n"
      ]
    },
    {
      "cell_type": "markdown",
      "metadata": {
        "id": "37UZdyZt7-PJ"
      },
      "source": [
        "Spend time transforming your categorical variables into numbers and use dummy encoding where appropriate."
      ]
    },
    {
      "cell_type": "code",
      "metadata": {
        "id": "a51IkB8xVbHm"
      },
      "source": [
        "#loose ends\n",
        "#replace null values in Item_Weight\n",
        "#with mean value of Item_Weight\n",
        "mean_value_weight = df['Item_Weight'].mean()\n",
        "df['Item_Weight'].fillna(value=mean_value_weight, inplace=True)\n"
      ],
      "execution_count": 30,
      "outputs": []
    },
    {
      "cell_type": "code",
      "metadata": {
        "colab": {
          "base_uri": "https://localhost:8080/"
        },
        "id": "vzLT_45w5GBC",
        "outputId": "6a75e44d-8662-4538-807a-55c29956d823"
      },
      "source": [
        "#remaining field with null values (Outlet_Size)\n",
        "#will be transformed as part of dummy encoding\n",
        "df.isnull().sum()"
      ],
      "execution_count": 31,
      "outputs": [
        {
          "output_type": "execute_result",
          "data": {
            "text/plain": [
              "Item_Identifier                 0\n",
              "Item_Weight                     0\n",
              "Item_Fat_Content                0\n",
              "Item_Visibility                 0\n",
              "Item_Type                       0\n",
              "Item_MRP                        0\n",
              "Outlet_Identifier               0\n",
              "Outlet_Establishment_Year       0\n",
              "Outlet_Size                  2410\n",
              "Outlet_Location_Type            0\n",
              "Outlet_Type                     0\n",
              "Item_Outlet_Sales               0\n",
              "dtype: int64"
            ]
          },
          "metadata": {},
          "execution_count": 31
        }
      ]
    },
    {
      "cell_type": "code",
      "metadata": {
        "colab": {
          "base_uri": "https://localhost:8080/"
        },
        "id": "75N5wUYNCzHO",
        "outputId": "f09c65bf-8965-4c3a-f48f-a3ece17431ac"
      },
      "source": [
        "#get values for the categorical variables\n",
        "print(df['Item_Identifier'].value_counts())\n",
        "print(df['Item_Fat_Content'].value_counts())\n",
        "print(df['Item_Type'].value_counts())\n",
        "print(df['Outlet_Identifier'].value_counts())\n",
        "print(df['Outlet_Size'].value_counts())\n",
        "print(df['Outlet_Location_Type'].value_counts())\n",
        "print(df['Outlet_Type'].value_counts())"
      ],
      "execution_count": 32,
      "outputs": [
        {
          "output_type": "stream",
          "text": [
            "FDG33    10\n",
            "FDW13    10\n",
            "FDD38     9\n",
            "FDX31     9\n",
            "FDU12     9\n",
            "         ..\n",
            "FDQ60     1\n",
            "FDE52     1\n",
            "FDO33     1\n",
            "FDC23     1\n",
            "FDK57     1\n",
            "Name: Item_Identifier, Length: 1559, dtype: int64\n",
            "Low Fat    5517\n",
            "Regular    3006\n",
            "Name: Item_Fat_Content, dtype: int64\n",
            "Fruits and Vegetables    1232\n",
            "Snack Foods              1200\n",
            "Household                 910\n",
            "Frozen Foods              856\n",
            "Dairy                     682\n",
            "Canned                    649\n",
            "Baking Goods              648\n",
            "Health and Hygiene        520\n",
            "Soft Drinks               445\n",
            "Meat                      425\n",
            "Breads                    251\n",
            "Hard Drinks               214\n",
            "Others                    169\n",
            "Starchy Foods             148\n",
            "Breakfast                 110\n",
            "Seafood                    64\n",
            "Name: Item_Type, dtype: int64\n",
            "OUT027    935\n",
            "OUT013    932\n",
            "OUT035    930\n",
            "OUT046    930\n",
            "OUT049    930\n",
            "OUT045    929\n",
            "OUT018    928\n",
            "OUT017    926\n",
            "OUT010    555\n",
            "OUT019    528\n",
            "Name: Outlet_Identifier, dtype: int64\n",
            "Medium    2793\n",
            "Small     2388\n",
            "High       932\n",
            "Name: Outlet_Size, dtype: int64\n",
            "Tier 3    3350\n",
            "Tier 2    2785\n",
            "Tier 1    2388\n",
            "Name: Outlet_Location_Type, dtype: int64\n",
            "Supermarket Type1    5577\n",
            "Grocery Store        1083\n",
            "Supermarket Type3     935\n",
            "Supermarket Type2     928\n",
            "Name: Outlet_Type, dtype: int64\n"
          ],
          "name": "stdout"
        }
      ]
    },
    {
      "cell_type": "code",
      "metadata": {
        "id": "z4bQB0As8CXu"
      },
      "source": [
        "#transform categorical variables into numbers\n",
        "#use dummy encoding where appropriate\n",
        "\n",
        "#dummy encode categorical variables\n",
        "encoded_df = pd.get_dummies(df, columns = ['Item_Fat_Content', 'Item_Identifier', 'Item_Type', 'Outlet_Identifier', 'Outlet_Size', 'Outlet_Location_Type', 'Outlet_Type'])"
      ],
      "execution_count": 33,
      "outputs": []
    },
    {
      "cell_type": "code",
      "metadata": {
        "colab": {
          "base_uri": "https://localhost:8080/",
          "height": 270
        },
        "id": "XChgBb2qVqG9",
        "outputId": "1743c368-6bb5-4184-ade1-f5e13fc486ce"
      },
      "source": [
        "encoded_df.head(5)"
      ],
      "execution_count": 34,
      "outputs": [
        {
          "output_type": "execute_result",
          "data": {
            "text/html": [
              "<div>\n",
              "<style scoped>\n",
              "    .dataframe tbody tr th:only-of-type {\n",
              "        vertical-align: middle;\n",
              "    }\n",
              "\n",
              "    .dataframe tbody tr th {\n",
              "        vertical-align: top;\n",
              "    }\n",
              "\n",
              "    .dataframe thead th {\n",
              "        text-align: right;\n",
              "    }\n",
              "</style>\n",
              "<table border=\"1\" class=\"dataframe\">\n",
              "  <thead>\n",
              "    <tr style=\"text-align: right;\">\n",
              "      <th></th>\n",
              "      <th>Item_Weight</th>\n",
              "      <th>Item_Visibility</th>\n",
              "      <th>Item_MRP</th>\n",
              "      <th>Outlet_Establishment_Year</th>\n",
              "      <th>Item_Outlet_Sales</th>\n",
              "      <th>Item_Fat_Content_Low Fat</th>\n",
              "      <th>Item_Fat_Content_Regular</th>\n",
              "      <th>Item_Identifier_DRA12</th>\n",
              "      <th>Item_Identifier_DRA24</th>\n",
              "      <th>Item_Identifier_DRA59</th>\n",
              "      <th>Item_Identifier_DRB01</th>\n",
              "      <th>Item_Identifier_DRB13</th>\n",
              "      <th>Item_Identifier_DRB24</th>\n",
              "      <th>Item_Identifier_DRB25</th>\n",
              "      <th>Item_Identifier_DRB48</th>\n",
              "      <th>Item_Identifier_DRC01</th>\n",
              "      <th>Item_Identifier_DRC12</th>\n",
              "      <th>Item_Identifier_DRC13</th>\n",
              "      <th>Item_Identifier_DRC24</th>\n",
              "      <th>Item_Identifier_DRC25</th>\n",
              "      <th>Item_Identifier_DRC27</th>\n",
              "      <th>Item_Identifier_DRC36</th>\n",
              "      <th>Item_Identifier_DRC49</th>\n",
              "      <th>Item_Identifier_DRD01</th>\n",
              "      <th>Item_Identifier_DRD12</th>\n",
              "      <th>Item_Identifier_DRD13</th>\n",
              "      <th>Item_Identifier_DRD15</th>\n",
              "      <th>Item_Identifier_DRD24</th>\n",
              "      <th>Item_Identifier_DRD25</th>\n",
              "      <th>Item_Identifier_DRD27</th>\n",
              "      <th>Item_Identifier_DRD37</th>\n",
              "      <th>Item_Identifier_DRD49</th>\n",
              "      <th>Item_Identifier_DRD60</th>\n",
              "      <th>Item_Identifier_DRE01</th>\n",
              "      <th>Item_Identifier_DRE03</th>\n",
              "      <th>Item_Identifier_DRE12</th>\n",
              "      <th>Item_Identifier_DRE13</th>\n",
              "      <th>Item_Identifier_DRE15</th>\n",
              "      <th>Item_Identifier_DRE25</th>\n",
              "      <th>Item_Identifier_DRE27</th>\n",
              "      <th>...</th>\n",
              "      <th>Item_Identifier_NCZ41</th>\n",
              "      <th>Item_Identifier_NCZ42</th>\n",
              "      <th>Item_Identifier_NCZ53</th>\n",
              "      <th>Item_Identifier_NCZ54</th>\n",
              "      <th>Item_Type_Baking Goods</th>\n",
              "      <th>Item_Type_Breads</th>\n",
              "      <th>Item_Type_Breakfast</th>\n",
              "      <th>Item_Type_Canned</th>\n",
              "      <th>Item_Type_Dairy</th>\n",
              "      <th>Item_Type_Frozen Foods</th>\n",
              "      <th>Item_Type_Fruits and Vegetables</th>\n",
              "      <th>Item_Type_Hard Drinks</th>\n",
              "      <th>Item_Type_Health and Hygiene</th>\n",
              "      <th>Item_Type_Household</th>\n",
              "      <th>Item_Type_Meat</th>\n",
              "      <th>Item_Type_Others</th>\n",
              "      <th>Item_Type_Seafood</th>\n",
              "      <th>Item_Type_Snack Foods</th>\n",
              "      <th>Item_Type_Soft Drinks</th>\n",
              "      <th>Item_Type_Starchy Foods</th>\n",
              "      <th>Outlet_Identifier_OUT010</th>\n",
              "      <th>Outlet_Identifier_OUT013</th>\n",
              "      <th>Outlet_Identifier_OUT017</th>\n",
              "      <th>Outlet_Identifier_OUT018</th>\n",
              "      <th>Outlet_Identifier_OUT019</th>\n",
              "      <th>Outlet_Identifier_OUT027</th>\n",
              "      <th>Outlet_Identifier_OUT035</th>\n",
              "      <th>Outlet_Identifier_OUT045</th>\n",
              "      <th>Outlet_Identifier_OUT046</th>\n",
              "      <th>Outlet_Identifier_OUT049</th>\n",
              "      <th>Outlet_Size_High</th>\n",
              "      <th>Outlet_Size_Medium</th>\n",
              "      <th>Outlet_Size_Small</th>\n",
              "      <th>Outlet_Location_Type_Tier 1</th>\n",
              "      <th>Outlet_Location_Type_Tier 2</th>\n",
              "      <th>Outlet_Location_Type_Tier 3</th>\n",
              "      <th>Outlet_Type_Grocery Store</th>\n",
              "      <th>Outlet_Type_Supermarket Type1</th>\n",
              "      <th>Outlet_Type_Supermarket Type2</th>\n",
              "      <th>Outlet_Type_Supermarket Type3</th>\n",
              "    </tr>\n",
              "  </thead>\n",
              "  <tbody>\n",
              "    <tr>\n",
              "      <th>0</th>\n",
              "      <td>9.30</td>\n",
              "      <td>0.016047</td>\n",
              "      <td>249.8092</td>\n",
              "      <td>1999</td>\n",
              "      <td>3735.1380</td>\n",
              "      <td>1</td>\n",
              "      <td>0</td>\n",
              "      <td>0</td>\n",
              "      <td>0</td>\n",
              "      <td>0</td>\n",
              "      <td>0</td>\n",
              "      <td>0</td>\n",
              "      <td>0</td>\n",
              "      <td>0</td>\n",
              "      <td>0</td>\n",
              "      <td>0</td>\n",
              "      <td>0</td>\n",
              "      <td>0</td>\n",
              "      <td>0</td>\n",
              "      <td>0</td>\n",
              "      <td>0</td>\n",
              "      <td>0</td>\n",
              "      <td>0</td>\n",
              "      <td>0</td>\n",
              "      <td>0</td>\n",
              "      <td>0</td>\n",
              "      <td>0</td>\n",
              "      <td>0</td>\n",
              "      <td>0</td>\n",
              "      <td>0</td>\n",
              "      <td>0</td>\n",
              "      <td>0</td>\n",
              "      <td>0</td>\n",
              "      <td>0</td>\n",
              "      <td>0</td>\n",
              "      <td>0</td>\n",
              "      <td>0</td>\n",
              "      <td>0</td>\n",
              "      <td>0</td>\n",
              "      <td>0</td>\n",
              "      <td>...</td>\n",
              "      <td>0</td>\n",
              "      <td>0</td>\n",
              "      <td>0</td>\n",
              "      <td>0</td>\n",
              "      <td>0</td>\n",
              "      <td>0</td>\n",
              "      <td>0</td>\n",
              "      <td>0</td>\n",
              "      <td>1</td>\n",
              "      <td>0</td>\n",
              "      <td>0</td>\n",
              "      <td>0</td>\n",
              "      <td>0</td>\n",
              "      <td>0</td>\n",
              "      <td>0</td>\n",
              "      <td>0</td>\n",
              "      <td>0</td>\n",
              "      <td>0</td>\n",
              "      <td>0</td>\n",
              "      <td>0</td>\n",
              "      <td>0</td>\n",
              "      <td>0</td>\n",
              "      <td>0</td>\n",
              "      <td>0</td>\n",
              "      <td>0</td>\n",
              "      <td>0</td>\n",
              "      <td>0</td>\n",
              "      <td>0</td>\n",
              "      <td>0</td>\n",
              "      <td>1</td>\n",
              "      <td>0</td>\n",
              "      <td>1</td>\n",
              "      <td>0</td>\n",
              "      <td>1</td>\n",
              "      <td>0</td>\n",
              "      <td>0</td>\n",
              "      <td>0</td>\n",
              "      <td>1</td>\n",
              "      <td>0</td>\n",
              "      <td>0</td>\n",
              "    </tr>\n",
              "    <tr>\n",
              "      <th>1</th>\n",
              "      <td>5.92</td>\n",
              "      <td>0.019278</td>\n",
              "      <td>48.2692</td>\n",
              "      <td>2009</td>\n",
              "      <td>443.4228</td>\n",
              "      <td>0</td>\n",
              "      <td>1</td>\n",
              "      <td>0</td>\n",
              "      <td>0</td>\n",
              "      <td>0</td>\n",
              "      <td>0</td>\n",
              "      <td>0</td>\n",
              "      <td>0</td>\n",
              "      <td>0</td>\n",
              "      <td>0</td>\n",
              "      <td>1</td>\n",
              "      <td>0</td>\n",
              "      <td>0</td>\n",
              "      <td>0</td>\n",
              "      <td>0</td>\n",
              "      <td>0</td>\n",
              "      <td>0</td>\n",
              "      <td>0</td>\n",
              "      <td>0</td>\n",
              "      <td>0</td>\n",
              "      <td>0</td>\n",
              "      <td>0</td>\n",
              "      <td>0</td>\n",
              "      <td>0</td>\n",
              "      <td>0</td>\n",
              "      <td>0</td>\n",
              "      <td>0</td>\n",
              "      <td>0</td>\n",
              "      <td>0</td>\n",
              "      <td>0</td>\n",
              "      <td>0</td>\n",
              "      <td>0</td>\n",
              "      <td>0</td>\n",
              "      <td>0</td>\n",
              "      <td>0</td>\n",
              "      <td>...</td>\n",
              "      <td>0</td>\n",
              "      <td>0</td>\n",
              "      <td>0</td>\n",
              "      <td>0</td>\n",
              "      <td>0</td>\n",
              "      <td>0</td>\n",
              "      <td>0</td>\n",
              "      <td>0</td>\n",
              "      <td>0</td>\n",
              "      <td>0</td>\n",
              "      <td>0</td>\n",
              "      <td>0</td>\n",
              "      <td>0</td>\n",
              "      <td>0</td>\n",
              "      <td>0</td>\n",
              "      <td>0</td>\n",
              "      <td>0</td>\n",
              "      <td>0</td>\n",
              "      <td>1</td>\n",
              "      <td>0</td>\n",
              "      <td>0</td>\n",
              "      <td>0</td>\n",
              "      <td>0</td>\n",
              "      <td>1</td>\n",
              "      <td>0</td>\n",
              "      <td>0</td>\n",
              "      <td>0</td>\n",
              "      <td>0</td>\n",
              "      <td>0</td>\n",
              "      <td>0</td>\n",
              "      <td>0</td>\n",
              "      <td>1</td>\n",
              "      <td>0</td>\n",
              "      <td>0</td>\n",
              "      <td>0</td>\n",
              "      <td>1</td>\n",
              "      <td>0</td>\n",
              "      <td>0</td>\n",
              "      <td>1</td>\n",
              "      <td>0</td>\n",
              "    </tr>\n",
              "    <tr>\n",
              "      <th>2</th>\n",
              "      <td>17.50</td>\n",
              "      <td>0.016760</td>\n",
              "      <td>141.6180</td>\n",
              "      <td>1999</td>\n",
              "      <td>2097.2700</td>\n",
              "      <td>1</td>\n",
              "      <td>0</td>\n",
              "      <td>0</td>\n",
              "      <td>0</td>\n",
              "      <td>0</td>\n",
              "      <td>0</td>\n",
              "      <td>0</td>\n",
              "      <td>0</td>\n",
              "      <td>0</td>\n",
              "      <td>0</td>\n",
              "      <td>0</td>\n",
              "      <td>0</td>\n",
              "      <td>0</td>\n",
              "      <td>0</td>\n",
              "      <td>0</td>\n",
              "      <td>0</td>\n",
              "      <td>0</td>\n",
              "      <td>0</td>\n",
              "      <td>0</td>\n",
              "      <td>0</td>\n",
              "      <td>0</td>\n",
              "      <td>0</td>\n",
              "      <td>0</td>\n",
              "      <td>0</td>\n",
              "      <td>0</td>\n",
              "      <td>0</td>\n",
              "      <td>0</td>\n",
              "      <td>0</td>\n",
              "      <td>0</td>\n",
              "      <td>0</td>\n",
              "      <td>0</td>\n",
              "      <td>0</td>\n",
              "      <td>0</td>\n",
              "      <td>0</td>\n",
              "      <td>0</td>\n",
              "      <td>...</td>\n",
              "      <td>0</td>\n",
              "      <td>0</td>\n",
              "      <td>0</td>\n",
              "      <td>0</td>\n",
              "      <td>0</td>\n",
              "      <td>0</td>\n",
              "      <td>0</td>\n",
              "      <td>0</td>\n",
              "      <td>0</td>\n",
              "      <td>0</td>\n",
              "      <td>0</td>\n",
              "      <td>0</td>\n",
              "      <td>0</td>\n",
              "      <td>0</td>\n",
              "      <td>1</td>\n",
              "      <td>0</td>\n",
              "      <td>0</td>\n",
              "      <td>0</td>\n",
              "      <td>0</td>\n",
              "      <td>0</td>\n",
              "      <td>0</td>\n",
              "      <td>0</td>\n",
              "      <td>0</td>\n",
              "      <td>0</td>\n",
              "      <td>0</td>\n",
              "      <td>0</td>\n",
              "      <td>0</td>\n",
              "      <td>0</td>\n",
              "      <td>0</td>\n",
              "      <td>1</td>\n",
              "      <td>0</td>\n",
              "      <td>1</td>\n",
              "      <td>0</td>\n",
              "      <td>1</td>\n",
              "      <td>0</td>\n",
              "      <td>0</td>\n",
              "      <td>0</td>\n",
              "      <td>1</td>\n",
              "      <td>0</td>\n",
              "      <td>0</td>\n",
              "    </tr>\n",
              "    <tr>\n",
              "      <th>3</th>\n",
              "      <td>19.20</td>\n",
              "      <td>0.000000</td>\n",
              "      <td>182.0950</td>\n",
              "      <td>1998</td>\n",
              "      <td>732.3800</td>\n",
              "      <td>0</td>\n",
              "      <td>1</td>\n",
              "      <td>0</td>\n",
              "      <td>0</td>\n",
              "      <td>0</td>\n",
              "      <td>0</td>\n",
              "      <td>0</td>\n",
              "      <td>0</td>\n",
              "      <td>0</td>\n",
              "      <td>0</td>\n",
              "      <td>0</td>\n",
              "      <td>0</td>\n",
              "      <td>0</td>\n",
              "      <td>0</td>\n",
              "      <td>0</td>\n",
              "      <td>0</td>\n",
              "      <td>0</td>\n",
              "      <td>0</td>\n",
              "      <td>0</td>\n",
              "      <td>0</td>\n",
              "      <td>0</td>\n",
              "      <td>0</td>\n",
              "      <td>0</td>\n",
              "      <td>0</td>\n",
              "      <td>0</td>\n",
              "      <td>0</td>\n",
              "      <td>0</td>\n",
              "      <td>0</td>\n",
              "      <td>0</td>\n",
              "      <td>0</td>\n",
              "      <td>0</td>\n",
              "      <td>0</td>\n",
              "      <td>0</td>\n",
              "      <td>0</td>\n",
              "      <td>0</td>\n",
              "      <td>...</td>\n",
              "      <td>0</td>\n",
              "      <td>0</td>\n",
              "      <td>0</td>\n",
              "      <td>0</td>\n",
              "      <td>0</td>\n",
              "      <td>0</td>\n",
              "      <td>0</td>\n",
              "      <td>0</td>\n",
              "      <td>0</td>\n",
              "      <td>0</td>\n",
              "      <td>1</td>\n",
              "      <td>0</td>\n",
              "      <td>0</td>\n",
              "      <td>0</td>\n",
              "      <td>0</td>\n",
              "      <td>0</td>\n",
              "      <td>0</td>\n",
              "      <td>0</td>\n",
              "      <td>0</td>\n",
              "      <td>0</td>\n",
              "      <td>1</td>\n",
              "      <td>0</td>\n",
              "      <td>0</td>\n",
              "      <td>0</td>\n",
              "      <td>0</td>\n",
              "      <td>0</td>\n",
              "      <td>0</td>\n",
              "      <td>0</td>\n",
              "      <td>0</td>\n",
              "      <td>0</td>\n",
              "      <td>0</td>\n",
              "      <td>0</td>\n",
              "      <td>0</td>\n",
              "      <td>0</td>\n",
              "      <td>0</td>\n",
              "      <td>1</td>\n",
              "      <td>1</td>\n",
              "      <td>0</td>\n",
              "      <td>0</td>\n",
              "      <td>0</td>\n",
              "    </tr>\n",
              "    <tr>\n",
              "      <th>4</th>\n",
              "      <td>8.93</td>\n",
              "      <td>0.000000</td>\n",
              "      <td>53.8614</td>\n",
              "      <td>1987</td>\n",
              "      <td>994.7052</td>\n",
              "      <td>1</td>\n",
              "      <td>0</td>\n",
              "      <td>0</td>\n",
              "      <td>0</td>\n",
              "      <td>0</td>\n",
              "      <td>0</td>\n",
              "      <td>0</td>\n",
              "      <td>0</td>\n",
              "      <td>0</td>\n",
              "      <td>0</td>\n",
              "      <td>0</td>\n",
              "      <td>0</td>\n",
              "      <td>0</td>\n",
              "      <td>0</td>\n",
              "      <td>0</td>\n",
              "      <td>0</td>\n",
              "      <td>0</td>\n",
              "      <td>0</td>\n",
              "      <td>0</td>\n",
              "      <td>0</td>\n",
              "      <td>0</td>\n",
              "      <td>0</td>\n",
              "      <td>0</td>\n",
              "      <td>0</td>\n",
              "      <td>0</td>\n",
              "      <td>0</td>\n",
              "      <td>0</td>\n",
              "      <td>0</td>\n",
              "      <td>0</td>\n",
              "      <td>0</td>\n",
              "      <td>0</td>\n",
              "      <td>0</td>\n",
              "      <td>0</td>\n",
              "      <td>0</td>\n",
              "      <td>0</td>\n",
              "      <td>...</td>\n",
              "      <td>0</td>\n",
              "      <td>0</td>\n",
              "      <td>0</td>\n",
              "      <td>0</td>\n",
              "      <td>0</td>\n",
              "      <td>0</td>\n",
              "      <td>0</td>\n",
              "      <td>0</td>\n",
              "      <td>0</td>\n",
              "      <td>0</td>\n",
              "      <td>0</td>\n",
              "      <td>0</td>\n",
              "      <td>0</td>\n",
              "      <td>1</td>\n",
              "      <td>0</td>\n",
              "      <td>0</td>\n",
              "      <td>0</td>\n",
              "      <td>0</td>\n",
              "      <td>0</td>\n",
              "      <td>0</td>\n",
              "      <td>0</td>\n",
              "      <td>1</td>\n",
              "      <td>0</td>\n",
              "      <td>0</td>\n",
              "      <td>0</td>\n",
              "      <td>0</td>\n",
              "      <td>0</td>\n",
              "      <td>0</td>\n",
              "      <td>0</td>\n",
              "      <td>0</td>\n",
              "      <td>1</td>\n",
              "      <td>0</td>\n",
              "      <td>0</td>\n",
              "      <td>0</td>\n",
              "      <td>0</td>\n",
              "      <td>1</td>\n",
              "      <td>0</td>\n",
              "      <td>1</td>\n",
              "      <td>0</td>\n",
              "      <td>0</td>\n",
              "    </tr>\n",
              "  </tbody>\n",
              "</table>\n",
              "<p>5 rows × 1602 columns</p>\n",
              "</div>"
            ],
            "text/plain": [
              "   Item_Weight  ...  Outlet_Type_Supermarket Type3\n",
              "0         9.30  ...                              0\n",
              "1         5.92  ...                              0\n",
              "2        17.50  ...                              0\n",
              "3        19.20  ...                              0\n",
              "4         8.93  ...                              0\n",
              "\n",
              "[5 rows x 1602 columns]"
            ]
          },
          "metadata": {},
          "execution_count": 34
        }
      ]
    },
    {
      "cell_type": "code",
      "metadata": {
        "colab": {
          "base_uri": "https://localhost:8080/",
          "height": 558
        },
        "id": "0e3IBIr_oByw",
        "outputId": "54bd7d9a-75b3-465c-f5d9-60538f725c6b"
      },
      "source": [
        "#checking for correlations\n",
        "#probably too many variables\n",
        "encoded_df.corr()"
      ],
      "execution_count": 35,
      "outputs": [
        {
          "output_type": "execute_result",
          "data": {
            "text/html": [
              "<div>\n",
              "<style scoped>\n",
              "    .dataframe tbody tr th:only-of-type {\n",
              "        vertical-align: middle;\n",
              "    }\n",
              "\n",
              "    .dataframe tbody tr th {\n",
              "        vertical-align: top;\n",
              "    }\n",
              "\n",
              "    .dataframe thead th {\n",
              "        text-align: right;\n",
              "    }\n",
              "</style>\n",
              "<table border=\"1\" class=\"dataframe\">\n",
              "  <thead>\n",
              "    <tr style=\"text-align: right;\">\n",
              "      <th></th>\n",
              "      <th>Item_Weight</th>\n",
              "      <th>Item_Visibility</th>\n",
              "      <th>Item_MRP</th>\n",
              "      <th>Outlet_Establishment_Year</th>\n",
              "      <th>Item_Outlet_Sales</th>\n",
              "      <th>Item_Fat_Content_Low Fat</th>\n",
              "      <th>Item_Fat_Content_Regular</th>\n",
              "      <th>Item_Identifier_DRA12</th>\n",
              "      <th>Item_Identifier_DRA24</th>\n",
              "      <th>Item_Identifier_DRA59</th>\n",
              "      <th>Item_Identifier_DRB01</th>\n",
              "      <th>Item_Identifier_DRB13</th>\n",
              "      <th>Item_Identifier_DRB24</th>\n",
              "      <th>Item_Identifier_DRB25</th>\n",
              "      <th>Item_Identifier_DRB48</th>\n",
              "      <th>Item_Identifier_DRC01</th>\n",
              "      <th>Item_Identifier_DRC12</th>\n",
              "      <th>Item_Identifier_DRC13</th>\n",
              "      <th>Item_Identifier_DRC24</th>\n",
              "      <th>Item_Identifier_DRC25</th>\n",
              "      <th>Item_Identifier_DRC27</th>\n",
              "      <th>Item_Identifier_DRC36</th>\n",
              "      <th>Item_Identifier_DRC49</th>\n",
              "      <th>Item_Identifier_DRD01</th>\n",
              "      <th>Item_Identifier_DRD12</th>\n",
              "      <th>Item_Identifier_DRD13</th>\n",
              "      <th>Item_Identifier_DRD15</th>\n",
              "      <th>Item_Identifier_DRD24</th>\n",
              "      <th>Item_Identifier_DRD25</th>\n",
              "      <th>Item_Identifier_DRD27</th>\n",
              "      <th>Item_Identifier_DRD37</th>\n",
              "      <th>Item_Identifier_DRD49</th>\n",
              "      <th>Item_Identifier_DRD60</th>\n",
              "      <th>Item_Identifier_DRE01</th>\n",
              "      <th>Item_Identifier_DRE03</th>\n",
              "      <th>Item_Identifier_DRE12</th>\n",
              "      <th>Item_Identifier_DRE13</th>\n",
              "      <th>Item_Identifier_DRE15</th>\n",
              "      <th>Item_Identifier_DRE25</th>\n",
              "      <th>Item_Identifier_DRE27</th>\n",
              "      <th>...</th>\n",
              "      <th>Item_Identifier_NCZ41</th>\n",
              "      <th>Item_Identifier_NCZ42</th>\n",
              "      <th>Item_Identifier_NCZ53</th>\n",
              "      <th>Item_Identifier_NCZ54</th>\n",
              "      <th>Item_Type_Baking Goods</th>\n",
              "      <th>Item_Type_Breads</th>\n",
              "      <th>Item_Type_Breakfast</th>\n",
              "      <th>Item_Type_Canned</th>\n",
              "      <th>Item_Type_Dairy</th>\n",
              "      <th>Item_Type_Frozen Foods</th>\n",
              "      <th>Item_Type_Fruits and Vegetables</th>\n",
              "      <th>Item_Type_Hard Drinks</th>\n",
              "      <th>Item_Type_Health and Hygiene</th>\n",
              "      <th>Item_Type_Household</th>\n",
              "      <th>Item_Type_Meat</th>\n",
              "      <th>Item_Type_Others</th>\n",
              "      <th>Item_Type_Seafood</th>\n",
              "      <th>Item_Type_Snack Foods</th>\n",
              "      <th>Item_Type_Soft Drinks</th>\n",
              "      <th>Item_Type_Starchy Foods</th>\n",
              "      <th>Outlet_Identifier_OUT010</th>\n",
              "      <th>Outlet_Identifier_OUT013</th>\n",
              "      <th>Outlet_Identifier_OUT017</th>\n",
              "      <th>Outlet_Identifier_OUT018</th>\n",
              "      <th>Outlet_Identifier_OUT019</th>\n",
              "      <th>Outlet_Identifier_OUT027</th>\n",
              "      <th>Outlet_Identifier_OUT035</th>\n",
              "      <th>Outlet_Identifier_OUT045</th>\n",
              "      <th>Outlet_Identifier_OUT046</th>\n",
              "      <th>Outlet_Identifier_OUT049</th>\n",
              "      <th>Outlet_Size_High</th>\n",
              "      <th>Outlet_Size_Medium</th>\n",
              "      <th>Outlet_Size_Small</th>\n",
              "      <th>Outlet_Location_Type_Tier 1</th>\n",
              "      <th>Outlet_Location_Type_Tier 2</th>\n",
              "      <th>Outlet_Location_Type_Tier 3</th>\n",
              "      <th>Outlet_Type_Grocery Store</th>\n",
              "      <th>Outlet_Type_Supermarket Type1</th>\n",
              "      <th>Outlet_Type_Supermarket Type2</th>\n",
              "      <th>Outlet_Type_Supermarket Type3</th>\n",
              "    </tr>\n",
              "  </thead>\n",
              "  <tbody>\n",
              "    <tr>\n",
              "      <th>Item_Weight</th>\n",
              "      <td>1.000000e+00</td>\n",
              "      <td>-0.012049</td>\n",
              "      <td>0.024756</td>\n",
              "      <td>-0.008301</td>\n",
              "      <td>0.011550</td>\n",
              "      <td>0.021157</td>\n",
              "      <td>-0.021157</td>\n",
              "      <td>-0.007899</td>\n",
              "      <td>0.031462</td>\n",
              "      <td>-0.024957</td>\n",
              "      <td>-0.016186</td>\n",
              "      <td>-0.038657</td>\n",
              "      <td>-0.020883</td>\n",
              "      <td>-0.002919</td>\n",
              "      <td>0.022635</td>\n",
              "      <td>-0.036312</td>\n",
              "      <td>0.025599</td>\n",
              "      <td>-0.023575</td>\n",
              "      <td>0.018099</td>\n",
              "      <td>-0.034541</td>\n",
              "      <td>0.005919</td>\n",
              "      <td>0.000653</td>\n",
              "      <td>-0.012397</td>\n",
              "      <td>-0.004344</td>\n",
              "      <td>-0.034296</td>\n",
              "      <td>0.012458</td>\n",
              "      <td>-0.013129</td>\n",
              "      <td>0.005771</td>\n",
              "      <td>-0.036571</td>\n",
              "      <td>0.027026</td>\n",
              "      <td>-0.020744</td>\n",
              "      <td>-0.015191</td>\n",
              "      <td>0.014877</td>\n",
              "      <td>-0.009997</td>\n",
              "      <td>0.045743</td>\n",
              "      <td>-0.043273</td>\n",
              "      <td>-0.030169</td>\n",
              "      <td>0.002062</td>\n",
              "      <td>0.011431</td>\n",
              "      <td>-0.006329</td>\n",
              "      <td>...</td>\n",
              "      <td>0.040089</td>\n",
              "      <td>-0.013517</td>\n",
              "      <td>-0.014941</td>\n",
              "      <td>0.008686</td>\n",
              "      <td>-0.032596</td>\n",
              "      <td>-0.050612</td>\n",
              "      <td>-0.001958</td>\n",
              "      <td>-0.031142</td>\n",
              "      <td>0.032923</td>\n",
              "      <td>0.000624</td>\n",
              "      <td>0.029537</td>\n",
              "      <td>-0.047327</td>\n",
              "      <td>0.014199</td>\n",
              "      <td>0.035968</td>\n",
              "      <td>-0.001732</td>\n",
              "      <td>0.027165</td>\n",
              "      <td>-0.004999</td>\n",
              "      <td>0.010271</td>\n",
              "      <td>-0.047155</td>\n",
              "      <td>0.023019</td>\n",
              "      <td>0.003467</td>\n",
              "      <td>0.012313</td>\n",
              "      <td>-0.002559</td>\n",
              "      <td>0.001299</td>\n",
              "      <td>1.034665e-14</td>\n",
              "      <td>1.413048e-14</td>\n",
              "      <td>-0.002343</td>\n",
              "      <td>-0.017187</td>\n",
              "      <td>0.000758</td>\n",
              "      <td>0.004953</td>\n",
              "      <td>0.012313</td>\n",
              "      <td>0.004152</td>\n",
              "      <td>-0.001100</td>\n",
              "      <td>0.003965</td>\n",
              "      <td>-0.014675</td>\n",
              "      <td>0.010447</td>\n",
              "      <td>0.002568</td>\n",
              "      <td>-0.002649</td>\n",
              "      <td>0.001299</td>\n",
              "      <td>1.413048e-14</td>\n",
              "    </tr>\n",
              "    <tr>\n",
              "      <th>Item_Visibility</th>\n",
              "      <td>-1.204853e-02</td>\n",
              "      <td>1.000000</td>\n",
              "      <td>-0.001315</td>\n",
              "      <td>-0.074834</td>\n",
              "      <td>-0.128625</td>\n",
              "      <td>-0.047314</td>\n",
              "      <td>0.047314</td>\n",
              "      <td>-0.017581</td>\n",
              "      <td>-0.010041</td>\n",
              "      <td>0.040746</td>\n",
              "      <td>0.005817</td>\n",
              "      <td>-0.027297</td>\n",
              "      <td>-0.019113</td>\n",
              "      <td>0.005748</td>\n",
              "      <td>-0.023579</td>\n",
              "      <td>-0.024133</td>\n",
              "      <td>-0.011860</td>\n",
              "      <td>-0.017523</td>\n",
              "      <td>-0.012231</td>\n",
              "      <td>-0.009988</td>\n",
              "      <td>-0.000709</td>\n",
              "      <td>-0.014152</td>\n",
              "      <td>-0.000293</td>\n",
              "      <td>-0.002252</td>\n",
              "      <td>0.000085</td>\n",
              "      <td>-0.009447</td>\n",
              "      <td>0.001247</td>\n",
              "      <td>-0.017975</td>\n",
              "      <td>0.010134</td>\n",
              "      <td>-0.020403</td>\n",
              "      <td>-0.028303</td>\n",
              "      <td>0.042844</td>\n",
              "      <td>-0.012455</td>\n",
              "      <td>0.046719</td>\n",
              "      <td>-0.021965</td>\n",
              "      <td>-0.003703</td>\n",
              "      <td>-0.018050</td>\n",
              "      <td>-0.026774</td>\n",
              "      <td>0.003373</td>\n",
              "      <td>0.041923</td>\n",
              "      <td>...</td>\n",
              "      <td>-0.006813</td>\n",
              "      <td>-0.026807</td>\n",
              "      <td>-0.018012</td>\n",
              "      <td>0.007943</td>\n",
              "      <td>0.016887</td>\n",
              "      <td>0.000416</td>\n",
              "      <td>0.043418</td>\n",
              "      <td>0.011114</td>\n",
              "      <td>0.035984</td>\n",
              "      <td>-0.003153</td>\n",
              "      <td>0.018969</td>\n",
              "      <td>-0.003700</td>\n",
              "      <td>-0.053931</td>\n",
              "      <td>-0.032230</td>\n",
              "      <td>-0.017087</td>\n",
              "      <td>-0.016240</td>\n",
              "      <td>0.014910</td>\n",
              "      <td>0.005635</td>\n",
              "      <td>-0.009825</td>\n",
              "      <td>0.003688</td>\n",
              "      <td>0.180697</td>\n",
              "      <td>-0.041937</td>\n",
              "      <td>-0.032179</td>\n",
              "      <td>-0.034671</td>\n",
              "      <td>2.107357e-01</td>\n",
              "      <td>-5.114446e-02</td>\n",
              "      <td>-0.033025</td>\n",
              "      <td>-0.038353</td>\n",
              "      <td>-0.038444</td>\n",
              "      <td>-0.036130</td>\n",
              "      <td>-0.041937</td>\n",
              "      <td>-0.081061</td>\n",
              "      <td>0.063502</td>\n",
              "      <td>0.061346</td>\n",
              "      <td>-0.068787</td>\n",
              "      <td>0.009650</td>\n",
              "      <td>0.286400</td>\n",
              "      <td>-0.144249</td>\n",
              "      <td>-0.034671</td>\n",
              "      <td>-5.114446e-02</td>\n",
              "    </tr>\n",
              "    <tr>\n",
              "      <th>Item_MRP</th>\n",
              "      <td>2.475610e-02</td>\n",
              "      <td>-0.001315</td>\n",
              "      <td>1.000000</td>\n",
              "      <td>0.005020</td>\n",
              "      <td>0.567574</td>\n",
              "      <td>-0.006063</td>\n",
              "      <td>0.006063</td>\n",
              "      <td>0.000372</td>\n",
              "      <td>0.010633</td>\n",
              "      <td>0.021750</td>\n",
              "      <td>0.014643</td>\n",
              "      <td>0.018948</td>\n",
              "      <td>0.004688</td>\n",
              "      <td>-0.014534</td>\n",
              "      <td>-0.046841</td>\n",
              "      <td>-0.039223</td>\n",
              "      <td>0.017129</td>\n",
              "      <td>-0.005809</td>\n",
              "      <td>0.003040</td>\n",
              "      <td>-0.025213</td>\n",
              "      <td>0.044713</td>\n",
              "      <td>0.013047</td>\n",
              "      <td>0.001151</td>\n",
              "      <td>-0.033169</td>\n",
              "      <td>-0.022833</td>\n",
              "      <td>-0.035236</td>\n",
              "      <td>0.042298</td>\n",
              "      <td>0.000484</td>\n",
              "      <td>-0.013736</td>\n",
              "      <td>-0.016710</td>\n",
              "      <td>-0.043733</td>\n",
              "      <td>0.033715</td>\n",
              "      <td>0.017413</td>\n",
              "      <td>0.024801</td>\n",
              "      <td>-0.043420</td>\n",
              "      <td>-0.012101</td>\n",
              "      <td>-0.021209</td>\n",
              "      <td>-0.027779</td>\n",
              "      <td>-0.018894</td>\n",
              "      <td>-0.018429</td>\n",
              "      <td>...</td>\n",
              "      <td>-0.005977</td>\n",
              "      <td>0.037215</td>\n",
              "      <td>0.018414</td>\n",
              "      <td>0.009789</td>\n",
              "      <td>-0.067311</td>\n",
              "      <td>-0.000112</td>\n",
              "      <td>0.001460</td>\n",
              "      <td>-0.005666</td>\n",
              "      <td>0.035551</td>\n",
              "      <td>-0.013358</td>\n",
              "      <td>0.023688</td>\n",
              "      <td>-0.010089</td>\n",
              "      <td>-0.041646</td>\n",
              "      <td>0.046815</td>\n",
              "      <td>-0.004086</td>\n",
              "      <td>-0.018595</td>\n",
              "      <td>0.001186</td>\n",
              "      <td>0.033817</td>\n",
              "      <td>-0.035808</td>\n",
              "      <td>0.014613</td>\n",
              "      <td>-0.000912</td>\n",
              "      <td>0.002438</td>\n",
              "      <td>-0.008812</td>\n",
              "      <td>0.003850</td>\n",
              "      <td>-4.975722e-03</td>\n",
              "      <td>-6.713699e-03</td>\n",
              "      <td>0.011969</td>\n",
              "      <td>-0.000239</td>\n",
              "      <td>0.005983</td>\n",
              "      <td>-0.003906</td>\n",
              "      <td>0.002438</td>\n",
              "      <td>-0.004510</td>\n",
              "      <td>0.009793</td>\n",
              "      <td>-0.001229</td>\n",
              "      <td>0.001951</td>\n",
              "      <td>-0.000744</td>\n",
              "      <td>-0.004277</td>\n",
              "      <td>0.004885</td>\n",
              "      <td>0.003850</td>\n",
              "      <td>-6.713699e-03</td>\n",
              "    </tr>\n",
              "    <tr>\n",
              "      <th>Outlet_Establishment_Year</th>\n",
              "      <td>-8.300836e-03</td>\n",
              "      <td>-0.074834</td>\n",
              "      <td>0.005020</td>\n",
              "      <td>1.000000</td>\n",
              "      <td>-0.049135</td>\n",
              "      <td>-0.003151</td>\n",
              "      <td>0.003151</td>\n",
              "      <td>0.010573</td>\n",
              "      <td>-0.009699</td>\n",
              "      <td>-0.007165</td>\n",
              "      <td>-0.016808</td>\n",
              "      <td>0.003381</td>\n",
              "      <td>0.013378</td>\n",
              "      <td>0.001590</td>\n",
              "      <td>-0.003828</td>\n",
              "      <td>0.000005</td>\n",
              "      <td>0.010142</td>\n",
              "      <td>0.019849</td>\n",
              "      <td>0.018609</td>\n",
              "      <td>-0.010677</td>\n",
              "      <td>0.016914</td>\n",
              "      <td>-0.005302</td>\n",
              "      <td>-0.005601</td>\n",
              "      <td>0.018430</td>\n",
              "      <td>0.003022</td>\n",
              "      <td>0.004001</td>\n",
              "      <td>-0.006274</td>\n",
              "      <td>-0.001381</td>\n",
              "      <td>-0.001673</td>\n",
              "      <td>-0.005302</td>\n",
              "      <td>0.006936</td>\n",
              "      <td>0.012083</td>\n",
              "      <td>-0.003166</td>\n",
              "      <td>-0.000607</td>\n",
              "      <td>0.015254</td>\n",
              "      <td>-0.006865</td>\n",
              "      <td>-0.007038</td>\n",
              "      <td>-0.001052</td>\n",
              "      <td>0.001644</td>\n",
              "      <td>0.000005</td>\n",
              "      <td>...</td>\n",
              "      <td>0.011484</td>\n",
              "      <td>0.003381</td>\n",
              "      <td>-0.006459</td>\n",
              "      <td>-0.004806</td>\n",
              "      <td>-0.003546</td>\n",
              "      <td>-0.003631</td>\n",
              "      <td>-0.006768</td>\n",
              "      <td>0.010998</td>\n",
              "      <td>-0.005286</td>\n",
              "      <td>0.007690</td>\n",
              "      <td>-0.005495</td>\n",
              "      <td>0.006627</td>\n",
              "      <td>-0.002961</td>\n",
              "      <td>-0.001951</td>\n",
              "      <td>-0.013428</td>\n",
              "      <td>-0.002874</td>\n",
              "      <td>-0.001013</td>\n",
              "      <td>0.002650</td>\n",
              "      <td>0.007486</td>\n",
              "      <td>0.011897</td>\n",
              "      <td>0.005301</td>\n",
              "      <td>-0.453388</td>\n",
              "      <td>0.382361</td>\n",
              "      <td>0.466336</td>\n",
              "      <td>-3.939184e-01</td>\n",
              "      <td>-5.380723e-01</td>\n",
              "      <td>0.257868</td>\n",
              "      <td>0.174150</td>\n",
              "      <td>-0.034777</td>\n",
              "      <td>0.048836</td>\n",
              "      <td>-0.453388</td>\n",
              "      <td>-0.016346</td>\n",
              "      <td>-0.056567</td>\n",
              "      <td>-0.201690</td>\n",
              "      <td>0.540820</td>\n",
              "      <td>-0.333895</td>\n",
              "      <td>-0.281196</td>\n",
              "      <td>0.245070</td>\n",
              "      <td>0.466336</td>\n",
              "      <td>-5.380723e-01</td>\n",
              "    </tr>\n",
              "    <tr>\n",
              "      <th>Item_Outlet_Sales</th>\n",
              "      <td>1.155000e-02</td>\n",
              "      <td>-0.128625</td>\n",
              "      <td>0.567574</td>\n",
              "      <td>-0.049135</td>\n",
              "      <td>1.000000</td>\n",
              "      <td>-0.018719</td>\n",
              "      <td>0.018719</td>\n",
              "      <td>-0.005253</td>\n",
              "      <td>0.001091</td>\n",
              "      <td>0.007780</td>\n",
              "      <td>-0.007294</td>\n",
              "      <td>0.003515</td>\n",
              "      <td>0.011040</td>\n",
              "      <td>-0.008085</td>\n",
              "      <td>-0.026183</td>\n",
              "      <td>-0.020517</td>\n",
              "      <td>0.000713</td>\n",
              "      <td>-0.006975</td>\n",
              "      <td>0.008723</td>\n",
              "      <td>-0.017683</td>\n",
              "      <td>0.008744</td>\n",
              "      <td>0.011792</td>\n",
              "      <td>0.007115</td>\n",
              "      <td>-0.018887</td>\n",
              "      <td>-0.010158</td>\n",
              "      <td>-0.015938</td>\n",
              "      <td>0.005738</td>\n",
              "      <td>-0.003631</td>\n",
              "      <td>-0.007923</td>\n",
              "      <td>-0.012941</td>\n",
              "      <td>-0.021659</td>\n",
              "      <td>0.018459</td>\n",
              "      <td>0.006595</td>\n",
              "      <td>0.006526</td>\n",
              "      <td>-0.025757</td>\n",
              "      <td>-0.009868</td>\n",
              "      <td>-0.008928</td>\n",
              "      <td>-0.016023</td>\n",
              "      <td>-0.010060</td>\n",
              "      <td>-0.018451</td>\n",
              "      <td>...</td>\n",
              "      <td>-0.005023</td>\n",
              "      <td>0.023548</td>\n",
              "      <td>0.011834</td>\n",
              "      <td>0.017941</td>\n",
              "      <td>-0.038381</td>\n",
              "      <td>0.002332</td>\n",
              "      <td>-0.004656</td>\n",
              "      <td>0.007387</td>\n",
              "      <td>0.008858</td>\n",
              "      <td>-0.009482</td>\n",
              "      <td>0.025950</td>\n",
              "      <td>-0.003956</td>\n",
              "      <td>-0.025587</td>\n",
              "      <td>0.015701</td>\n",
              "      <td>-0.002995</td>\n",
              "      <td>-0.021267</td>\n",
              "      <td>0.007380</td>\n",
              "      <td>0.022782</td>\n",
              "      <td>-0.024040</td>\n",
              "      <td>0.015039</td>\n",
              "      <td>-0.284883</td>\n",
              "      <td>0.024170</td>\n",
              "      <td>0.032610</td>\n",
              "      <td>-0.038059</td>\n",
              "      <td>-2.772498e-01</td>\n",
              "      <td>3.111920e-01</td>\n",
              "      <td>0.052823</td>\n",
              "      <td>0.002274</td>\n",
              "      <td>0.019803</td>\n",
              "      <td>0.034264</td>\n",
              "      <td>0.024170</td>\n",
              "      <td>0.204701</td>\n",
              "      <td>-0.098403</td>\n",
              "      <td>-0.111287</td>\n",
              "      <td>0.058261</td>\n",
              "      <td>0.046376</td>\n",
              "      <td>-0.411727</td>\n",
              "      <td>0.108765</td>\n",
              "      <td>-0.038059</td>\n",
              "      <td>3.111920e-01</td>\n",
              "    </tr>\n",
              "    <tr>\n",
              "      <th>...</th>\n",
              "      <td>...</td>\n",
              "      <td>...</td>\n",
              "      <td>...</td>\n",
              "      <td>...</td>\n",
              "      <td>...</td>\n",
              "      <td>...</td>\n",
              "      <td>...</td>\n",
              "      <td>...</td>\n",
              "      <td>...</td>\n",
              "      <td>...</td>\n",
              "      <td>...</td>\n",
              "      <td>...</td>\n",
              "      <td>...</td>\n",
              "      <td>...</td>\n",
              "      <td>...</td>\n",
              "      <td>...</td>\n",
              "      <td>...</td>\n",
              "      <td>...</td>\n",
              "      <td>...</td>\n",
              "      <td>...</td>\n",
              "      <td>...</td>\n",
              "      <td>...</td>\n",
              "      <td>...</td>\n",
              "      <td>...</td>\n",
              "      <td>...</td>\n",
              "      <td>...</td>\n",
              "      <td>...</td>\n",
              "      <td>...</td>\n",
              "      <td>...</td>\n",
              "      <td>...</td>\n",
              "      <td>...</td>\n",
              "      <td>...</td>\n",
              "      <td>...</td>\n",
              "      <td>...</td>\n",
              "      <td>...</td>\n",
              "      <td>...</td>\n",
              "      <td>...</td>\n",
              "      <td>...</td>\n",
              "      <td>...</td>\n",
              "      <td>...</td>\n",
              "      <td>...</td>\n",
              "      <td>...</td>\n",
              "      <td>...</td>\n",
              "      <td>...</td>\n",
              "      <td>...</td>\n",
              "      <td>...</td>\n",
              "      <td>...</td>\n",
              "      <td>...</td>\n",
              "      <td>...</td>\n",
              "      <td>...</td>\n",
              "      <td>...</td>\n",
              "      <td>...</td>\n",
              "      <td>...</td>\n",
              "      <td>...</td>\n",
              "      <td>...</td>\n",
              "      <td>...</td>\n",
              "      <td>...</td>\n",
              "      <td>...</td>\n",
              "      <td>...</td>\n",
              "      <td>...</td>\n",
              "      <td>...</td>\n",
              "      <td>...</td>\n",
              "      <td>...</td>\n",
              "      <td>...</td>\n",
              "      <td>...</td>\n",
              "      <td>...</td>\n",
              "      <td>...</td>\n",
              "      <td>...</td>\n",
              "      <td>...</td>\n",
              "      <td>...</td>\n",
              "      <td>...</td>\n",
              "      <td>...</td>\n",
              "      <td>...</td>\n",
              "      <td>...</td>\n",
              "      <td>...</td>\n",
              "      <td>...</td>\n",
              "      <td>...</td>\n",
              "      <td>...</td>\n",
              "      <td>...</td>\n",
              "      <td>...</td>\n",
              "      <td>...</td>\n",
              "    </tr>\n",
              "    <tr>\n",
              "      <th>Outlet_Location_Type_Tier 3</th>\n",
              "      <td>1.044702e-02</td>\n",
              "      <td>0.009650</td>\n",
              "      <td>-0.000744</td>\n",
              "      <td>-0.333895</td>\n",
              "      <td>0.046376</td>\n",
              "      <td>-0.000241</td>\n",
              "      <td>0.000241</td>\n",
              "      <td>0.005812</td>\n",
              "      <td>0.002085</td>\n",
              "      <td>0.006711</td>\n",
              "      <td>0.010512</td>\n",
              "      <td>0.000345</td>\n",
              "      <td>-0.017438</td>\n",
              "      <td>0.014869</td>\n",
              "      <td>0.002085</td>\n",
              "      <td>0.005812</td>\n",
              "      <td>-0.017438</td>\n",
              "      <td>-0.006347</td>\n",
              "      <td>0.003355</td>\n",
              "      <td>0.010470</td>\n",
              "      <td>-0.003245</td>\n",
              "      <td>0.000345</td>\n",
              "      <td>-0.002294</td>\n",
              "      <td>-0.009576</td>\n",
              "      <td>0.002085</td>\n",
              "      <td>0.002085</td>\n",
              "      <td>-0.006301</td>\n",
              "      <td>0.010470</td>\n",
              "      <td>-0.001133</td>\n",
              "      <td>-0.009576</td>\n",
              "      <td>0.002085</td>\n",
              "      <td>-0.017438</td>\n",
              "      <td>-0.003245</td>\n",
              "      <td>0.003355</td>\n",
              "      <td>-0.006301</td>\n",
              "      <td>-0.003245</td>\n",
              "      <td>0.000345</td>\n",
              "      <td>-0.003245</td>\n",
              "      <td>-0.009576</td>\n",
              "      <td>-0.003245</td>\n",
              "      <td>...</td>\n",
              "      <td>0.000345</td>\n",
              "      <td>0.000345</td>\n",
              "      <td>0.020186</td>\n",
              "      <td>0.002085</td>\n",
              "      <td>-0.002446</td>\n",
              "      <td>0.001909</td>\n",
              "      <td>0.003754</td>\n",
              "      <td>-0.004612</td>\n",
              "      <td>-0.004482</td>\n",
              "      <td>-0.007556</td>\n",
              "      <td>0.008032</td>\n",
              "      <td>-0.000174</td>\n",
              "      <td>0.011654</td>\n",
              "      <td>0.004917</td>\n",
              "      <td>0.010983</td>\n",
              "      <td>-0.009350</td>\n",
              "      <td>-0.005998</td>\n",
              "      <td>-0.004603</td>\n",
              "      <td>-0.007461</td>\n",
              "      <td>0.001523</td>\n",
              "      <td>0.327960</td>\n",
              "      <td>0.435419</td>\n",
              "      <td>-0.280954</td>\n",
              "      <td>0.434369</td>\n",
              "      <td>-2.068040e-01</td>\n",
              "      <td>4.362053e-01</td>\n",
              "      <td>-0.281635</td>\n",
              "      <td>-0.281465</td>\n",
              "      <td>-0.281635</td>\n",
              "      <td>-0.281635</td>\n",
              "      <td>0.435419</td>\n",
              "      <td>0.391617</td>\n",
              "      <td>-0.502066</td>\n",
              "      <td>-0.502066</td>\n",
              "      <td>-0.560639</td>\n",
              "      <td>1.000000</td>\n",
              "      <td>0.093276</td>\n",
              "      <td>-0.636465</td>\n",
              "      <td>0.434369</td>\n",
              "      <td>4.362053e-01</td>\n",
              "    </tr>\n",
              "    <tr>\n",
              "      <th>Outlet_Type_Grocery Store</th>\n",
              "      <td>2.568212e-03</td>\n",
              "      <td>0.286400</td>\n",
              "      <td>-0.004277</td>\n",
              "      <td>-0.281196</td>\n",
              "      <td>-0.411727</td>\n",
              "      <td>0.002924</td>\n",
              "      <td>-0.002924</td>\n",
              "      <td>0.003156</td>\n",
              "      <td>0.013657</td>\n",
              "      <td>0.011314</td>\n",
              "      <td>-0.007159</td>\n",
              "      <td>0.005306</td>\n",
              "      <td>-0.008267</td>\n",
              "      <td>0.003156</td>\n",
              "      <td>0.001359</td>\n",
              "      <td>-0.010127</td>\n",
              "      <td>-0.008267</td>\n",
              "      <td>-0.008267</td>\n",
              "      <td>-0.005845</td>\n",
              "      <td>0.013657</td>\n",
              "      <td>0.003156</td>\n",
              "      <td>-0.009244</td>\n",
              "      <td>-0.007159</td>\n",
              "      <td>-0.009244</td>\n",
              "      <td>-0.010939</td>\n",
              "      <td>-0.010939</td>\n",
              "      <td>0.013657</td>\n",
              "      <td>0.001359</td>\n",
              "      <td>0.011314</td>\n",
              "      <td>0.005306</td>\n",
              "      <td>0.001359</td>\n",
              "      <td>-0.008267</td>\n",
              "      <td>0.003156</td>\n",
              "      <td>0.017155</td>\n",
              "      <td>0.001359</td>\n",
              "      <td>-0.010127</td>\n",
              "      <td>-0.009244</td>\n",
              "      <td>0.003156</td>\n",
              "      <td>-0.009244</td>\n",
              "      <td>0.003156</td>\n",
              "      <td>...</td>\n",
              "      <td>-0.009244</td>\n",
              "      <td>0.005306</td>\n",
              "      <td>0.005306</td>\n",
              "      <td>0.013657</td>\n",
              "      <td>0.003536</td>\n",
              "      <td>0.002305</td>\n",
              "      <td>0.015676</td>\n",
              "      <td>-0.012574</td>\n",
              "      <td>0.006933</td>\n",
              "      <td>-0.006763</td>\n",
              "      <td>-0.004556</td>\n",
              "      <td>-0.007189</td>\n",
              "      <td>0.001361</td>\n",
              "      <td>0.003842</td>\n",
              "      <td>0.019416</td>\n",
              "      <td>0.013963</td>\n",
              "      <td>0.007621</td>\n",
              "      <td>-0.006565</td>\n",
              "      <td>-0.004031</td>\n",
              "      <td>-0.015658</td>\n",
              "      <td>0.691742</td>\n",
              "      <td>-0.133686</td>\n",
              "      <td>-0.133202</td>\n",
              "      <td>-0.133364</td>\n",
              "      <td>6.735657e-01</td>\n",
              "      <td>-1.339275e-01</td>\n",
              "      <td>-0.133525</td>\n",
              "      <td>-0.133444</td>\n",
              "      <td>-0.133525</td>\n",
              "      <td>-0.133525</td>\n",
              "      <td>-0.133686</td>\n",
              "      <td>-0.266370</td>\n",
              "      <td>0.176158</td>\n",
              "      <td>0.176158</td>\n",
              "      <td>-0.265803</td>\n",
              "      <td>0.093276</td>\n",
              "      <td>1.000000</td>\n",
              "      <td>-0.524942</td>\n",
              "      <td>-0.133364</td>\n",
              "      <td>-1.339275e-01</td>\n",
              "    </tr>\n",
              "    <tr>\n",
              "      <th>Outlet_Type_Supermarket Type1</th>\n",
              "      <td>-2.649136e-03</td>\n",
              "      <td>-0.144249</td>\n",
              "      <td>0.004885</td>\n",
              "      <td>0.245070</td>\n",
              "      <td>0.108765</td>\n",
              "      <td>-0.000533</td>\n",
              "      <td>0.000533</td>\n",
              "      <td>0.000688</td>\n",
              "      <td>-0.004999</td>\n",
              "      <td>-0.009948</td>\n",
              "      <td>0.000486</td>\n",
              "      <td>0.007420</td>\n",
              "      <td>0.015749</td>\n",
              "      <td>-0.008614</td>\n",
              "      <td>0.003613</td>\n",
              "      <td>0.000688</td>\n",
              "      <td>0.015749</td>\n",
              "      <td>0.004358</td>\n",
              "      <td>-0.004972</td>\n",
              "      <td>-0.013611</td>\n",
              "      <td>0.000688</td>\n",
              "      <td>0.007420</td>\n",
              "      <td>0.000486</td>\n",
              "      <td>0.007420</td>\n",
              "      <td>0.003613</td>\n",
              "      <td>0.003613</td>\n",
              "      <td>0.003613</td>\n",
              "      <td>-0.004999</td>\n",
              "      <td>-0.009948</td>\n",
              "      <td>0.007420</td>\n",
              "      <td>0.003613</td>\n",
              "      <td>0.015749</td>\n",
              "      <td>0.000688</td>\n",
              "      <td>-0.004972</td>\n",
              "      <td>0.003613</td>\n",
              "      <td>0.009989</td>\n",
              "      <td>0.007420</td>\n",
              "      <td>-0.008614</td>\n",
              "      <td>0.007420</td>\n",
              "      <td>0.009989</td>\n",
              "      <td>...</td>\n",
              "      <td>0.007420</td>\n",
              "      <td>0.007420</td>\n",
              "      <td>-0.012957</td>\n",
              "      <td>-0.013611</td>\n",
              "      <td>0.001846</td>\n",
              "      <td>-0.006189</td>\n",
              "      <td>-0.008695</td>\n",
              "      <td>0.001236</td>\n",
              "      <td>0.003396</td>\n",
              "      <td>0.009750</td>\n",
              "      <td>-0.000811</td>\n",
              "      <td>0.007837</td>\n",
              "      <td>-0.005422</td>\n",
              "      <td>0.001234</td>\n",
              "      <td>-0.023912</td>\n",
              "      <td>-0.006344</td>\n",
              "      <td>-0.005367</td>\n",
              "      <td>-0.000154</td>\n",
              "      <td>0.009777</td>\n",
              "      <td>0.013516</td>\n",
              "      <td>-0.363125</td>\n",
              "      <td>0.254668</td>\n",
              "      <td>0.253747</td>\n",
              "      <td>-0.480943</td>\n",
              "      <td>-3.535832e-01</td>\n",
              "      <td>-4.829766e-01</td>\n",
              "      <td>0.254361</td>\n",
              "      <td>0.254208</td>\n",
              "      <td>0.254361</td>\n",
              "      <td>0.254361</td>\n",
              "      <td>0.254668</td>\n",
              "      <td>-0.471782</td>\n",
              "      <td>0.163388</td>\n",
              "      <td>0.163388</td>\n",
              "      <td>0.506347</td>\n",
              "      <td>-0.636465</td>\n",
              "      <td>-0.524942</td>\n",
              "      <td>1.000000</td>\n",
              "      <td>-0.480943</td>\n",
              "      <td>-4.829766e-01</td>\n",
              "    </tr>\n",
              "    <tr>\n",
              "      <th>Outlet_Type_Supermarket Type2</th>\n",
              "      <td>1.298712e-03</td>\n",
              "      <td>-0.034671</td>\n",
              "      <td>0.003850</td>\n",
              "      <td>0.466336</td>\n",
              "      <td>-0.038059</td>\n",
              "      <td>-0.002129</td>\n",
              "      <td>0.002129</td>\n",
              "      <td>0.004924</td>\n",
              "      <td>-0.010022</td>\n",
              "      <td>0.001586</td>\n",
              "      <td>-0.006559</td>\n",
              "      <td>-0.008469</td>\n",
              "      <td>-0.007574</td>\n",
              "      <td>0.004924</td>\n",
              "      <td>-0.010022</td>\n",
              "      <td>0.004924</td>\n",
              "      <td>-0.007574</td>\n",
              "      <td>0.009817</td>\n",
              "      <td>0.019237</td>\n",
              "      <td>0.003127</td>\n",
              "      <td>0.004924</td>\n",
              "      <td>-0.008469</td>\n",
              "      <td>-0.006559</td>\n",
              "      <td>0.007087</td>\n",
              "      <td>0.003127</td>\n",
              "      <td>0.003127</td>\n",
              "      <td>-0.010022</td>\n",
              "      <td>0.003127</td>\n",
              "      <td>0.001586</td>\n",
              "      <td>-0.008469</td>\n",
              "      <td>0.003127</td>\n",
              "      <td>-0.007574</td>\n",
              "      <td>0.004924</td>\n",
              "      <td>-0.005355</td>\n",
              "      <td>0.003127</td>\n",
              "      <td>-0.009278</td>\n",
              "      <td>-0.008469</td>\n",
              "      <td>0.004924</td>\n",
              "      <td>-0.008469</td>\n",
              "      <td>-0.009278</td>\n",
              "      <td>...</td>\n",
              "      <td>0.007087</td>\n",
              "      <td>-0.008469</td>\n",
              "      <td>0.007087</td>\n",
              "      <td>0.003127</td>\n",
              "      <td>-0.003632</td>\n",
              "      <td>-0.000734</td>\n",
              "      <td>0.000077</td>\n",
              "      <td>0.010418</td>\n",
              "      <td>-0.001746</td>\n",
              "      <td>-0.001507</td>\n",
              "      <td>0.000919</td>\n",
              "      <td>-0.003132</td>\n",
              "      <td>0.002174</td>\n",
              "      <td>-0.004979</td>\n",
              "      <td>-0.000476</td>\n",
              "      <td>0.004320</td>\n",
              "      <td>0.000138</td>\n",
              "      <td>0.001453</td>\n",
              "      <td>-0.004153</td>\n",
              "      <td>0.002553</td>\n",
              "      <td>-0.092253</td>\n",
              "      <td>-0.122481</td>\n",
              "      <td>-0.122038</td>\n",
              "      <td>1.000000</td>\n",
              "      <td>-8.982926e-02</td>\n",
              "      <td>-1.227022e-01</td>\n",
              "      <td>-0.122333</td>\n",
              "      <td>-0.122260</td>\n",
              "      <td>-0.122333</td>\n",
              "      <td>-0.122333</td>\n",
              "      <td>-0.122481</td>\n",
              "      <td>0.500670</td>\n",
              "      <td>-0.218082</td>\n",
              "      <td>-0.218082</td>\n",
              "      <td>-0.243524</td>\n",
              "      <td>0.434369</td>\n",
              "      <td>-0.133364</td>\n",
              "      <td>-0.480943</td>\n",
              "      <td>1.000000</td>\n",
              "      <td>-1.227022e-01</td>\n",
              "    </tr>\n",
              "    <tr>\n",
              "      <th>Outlet_Type_Supermarket Type3</th>\n",
              "      <td>1.413048e-14</td>\n",
              "      <td>-0.051144</td>\n",
              "      <td>-0.006714</td>\n",
              "      <td>-0.538072</td>\n",
              "      <td>0.311192</td>\n",
              "      <td>-0.000183</td>\n",
              "      <td>0.000183</td>\n",
              "      <td>-0.009317</td>\n",
              "      <td>0.003042</td>\n",
              "      <td>0.001500</td>\n",
              "      <td>0.013427</td>\n",
              "      <td>-0.008505</td>\n",
              "      <td>-0.007606</td>\n",
              "      <td>0.004838</td>\n",
              "      <td>0.003042</td>\n",
              "      <td>0.004838</td>\n",
              "      <td>-0.007606</td>\n",
              "      <td>-0.007606</td>\n",
              "      <td>-0.005378</td>\n",
              "      <td>0.003042</td>\n",
              "      <td>-0.009317</td>\n",
              "      <td>0.007000</td>\n",
              "      <td>0.013427</td>\n",
              "      <td>-0.008505</td>\n",
              "      <td>0.003042</td>\n",
              "      <td>0.003042</td>\n",
              "      <td>-0.010064</td>\n",
              "      <td>0.003042</td>\n",
              "      <td>0.001500</td>\n",
              "      <td>-0.008505</td>\n",
              "      <td>-0.010064</td>\n",
              "      <td>-0.007606</td>\n",
              "      <td>-0.009317</td>\n",
              "      <td>-0.005378</td>\n",
              "      <td>-0.010064</td>\n",
              "      <td>0.004838</td>\n",
              "      <td>0.007000</td>\n",
              "      <td>0.004838</td>\n",
              "      <td>0.007000</td>\n",
              "      <td>-0.009317</td>\n",
              "      <td>...</td>\n",
              "      <td>-0.008505</td>\n",
              "      <td>-0.008505</td>\n",
              "      <td>0.007000</td>\n",
              "      <td>0.003042</td>\n",
              "      <td>-0.002957</td>\n",
              "      <td>0.007693</td>\n",
              "      <td>-0.003550</td>\n",
              "      <td>0.001136</td>\n",
              "      <td>-0.010817</td>\n",
              "      <td>-0.006128</td>\n",
              "      <td>0.005173</td>\n",
              "      <td>-0.001143</td>\n",
              "      <td>0.004634</td>\n",
              "      <td>-0.001009</td>\n",
              "      <td>0.016172</td>\n",
              "      <td>-0.009533</td>\n",
              "      <td>-0.000091</td>\n",
              "      <td>0.005782</td>\n",
              "      <td>-0.006443</td>\n",
              "      <td>-0.006427</td>\n",
              "      <td>-0.092643</td>\n",
              "      <td>-0.122999</td>\n",
              "      <td>-0.122554</td>\n",
              "      <td>-0.122702</td>\n",
              "      <td>-9.020900e-02</td>\n",
              "      <td>1.000000e+00</td>\n",
              "      <td>-0.122850</td>\n",
              "      <td>-0.122776</td>\n",
              "      <td>-0.122850</td>\n",
              "      <td>-0.122850</td>\n",
              "      <td>-0.122999</td>\n",
              "      <td>0.502787</td>\n",
              "      <td>-0.219004</td>\n",
              "      <td>-0.219004</td>\n",
              "      <td>-0.244554</td>\n",
              "      <td>0.436205</td>\n",
              "      <td>-0.133928</td>\n",
              "      <td>-0.482977</td>\n",
              "      <td>-0.122702</td>\n",
              "      <td>1.000000e+00</td>\n",
              "    </tr>\n",
              "  </tbody>\n",
              "</table>\n",
              "<p>1602 rows × 1602 columns</p>\n",
              "</div>"
            ],
            "text/plain": [
              "                                Item_Weight  ...  Outlet_Type_Supermarket Type3\n",
              "Item_Weight                    1.000000e+00  ...                   1.413048e-14\n",
              "Item_Visibility               -1.204853e-02  ...                  -5.114446e-02\n",
              "Item_MRP                       2.475610e-02  ...                  -6.713699e-03\n",
              "Outlet_Establishment_Year     -8.300836e-03  ...                  -5.380723e-01\n",
              "Item_Outlet_Sales              1.155000e-02  ...                   3.111920e-01\n",
              "...                                     ...  ...                            ...\n",
              "Outlet_Location_Type_Tier 3    1.044702e-02  ...                   4.362053e-01\n",
              "Outlet_Type_Grocery Store      2.568212e-03  ...                  -1.339275e-01\n",
              "Outlet_Type_Supermarket Type1 -2.649136e-03  ...                  -4.829766e-01\n",
              "Outlet_Type_Supermarket Type2  1.298712e-03  ...                  -1.227022e-01\n",
              "Outlet_Type_Supermarket Type3  1.413048e-14  ...                   1.000000e+00\n",
              "\n",
              "[1602 rows x 1602 columns]"
            ]
          },
          "metadata": {},
          "execution_count": 35
        }
      ]
    },
    {
      "cell_type": "markdown",
      "metadata": {
        "id": "X95XeSSz7imv"
      },
      "source": [
        "Assign the \"Item_Outlet_Sales\" column as your target and the rest of the variables as your features matrix."
      ]
    },
    {
      "cell_type": "markdown",
      "metadata": {
        "id": "o9r2bRi4nOHq"
      },
      "source": [
        "**--> Attempt #1: Using ALL columns (1601 total) as X, Item_Outlet_Sales as y.**"
      ]
    },
    {
      "cell_type": "code",
      "metadata": {
        "id": "-1gRHMBD7nPR"
      },
      "source": [
        "#set features matrix (X)\n",
        "#set 'Item_Outlet_Sales' as target (y)\n",
        "X = encoded_df.drop('Item_Outlet_Sales', axis=1)\n",
        "y = encoded_df['Item_Outlet_Sales']\n"
      ],
      "execution_count": 38,
      "outputs": []
    },
    {
      "cell_type": "code",
      "metadata": {
        "id": "JnOjYbtuCZZS",
        "colab": {
          "base_uri": "https://localhost:8080/"
        },
        "outputId": "4f1d1db5-b82d-4a2d-a3b0-d18ca5322ea3"
      },
      "source": [
        "print(X.shape)\n",
        "print(y.shape)"
      ],
      "execution_count": 39,
      "outputs": [
        {
          "output_type": "stream",
          "text": [
            "(8523, 1601)\n",
            "(8523,)\n"
          ],
          "name": "stdout"
        }
      ]
    },
    {
      "cell_type": "markdown",
      "metadata": {
        "id": "szWeU2h07XeH"
      },
      "source": [
        "Be sure to train test split your data set!"
      ]
    },
    {
      "cell_type": "code",
      "metadata": {
        "id": "DoATAIRa7b55"
      },
      "source": [
        "#train test split\n",
        "from sklearn.model_selection import train_test_split\n",
        "X_train, X_test, y_train, y_test = train_test_split(X, y, random_state=42)"
      ],
      "execution_count": 40,
      "outputs": []
    },
    {
      "cell_type": "markdown",
      "metadata": {
        "id": "of8Tf5KT7OEo"
      },
      "source": [
        "Build a linear regression model."
      ]
    },
    {
      "cell_type": "code",
      "metadata": {
        "id": "nkSaoJOD89IG"
      },
      "source": [
        "# Make a linear regression instance\n",
        "from sklearn.linear_model import LinearRegression\n",
        "reg = LinearRegression()"
      ],
      "execution_count": 41,
      "outputs": []
    },
    {
      "cell_type": "code",
      "metadata": {
        "id": "PhG_wreU829S",
        "colab": {
          "base_uri": "https://localhost:8080/"
        },
        "outputId": "9f144d05-2bf2-4ea3-a1b6-8ed2989725b4"
      },
      "source": [
        "#train the model\n",
        "reg.fit(X_train,y_train)"
      ],
      "execution_count": 42,
      "outputs": [
        {
          "output_type": "execute_result",
          "data": {
            "text/plain": [
              "LinearRegression(copy_X=True, fit_intercept=True, n_jobs=None, normalize=False)"
            ]
          },
          "metadata": {},
          "execution_count": 42
        }
      ]
    },
    {
      "cell_type": "code",
      "metadata": {
        "id": "VYTfAmbr7O5n"
      },
      "source": [
        "#linear regression model\n",
        "# predict all values on the training data\n",
        "train_preds = reg.predict(X_train)\n",
        "# predict the values in the test set\n",
        "test_preds = reg.predict(X_test)"
      ],
      "execution_count": 43,
      "outputs": []
    },
    {
      "cell_type": "markdown",
      "metadata": {
        "id": "9Bdvfltp7EUq"
      },
      "source": [
        "Evaluate your test set results using r2."
      ]
    },
    {
      "cell_type": "code",
      "metadata": {
        "id": "Ps6jOmma7EtC",
        "colab": {
          "base_uri": "https://localhost:8080/"
        },
        "outputId": "d1111115-26dc-4bd2-b271-7805608c8ae7"
      },
      "source": [
        "#r2\n",
        "from sklearn.metrics import r2_score\n",
        "print(r2_score(y_train, train_preds))\n",
        "print(r2_score(y_test, test_preds))"
      ],
      "execution_count": 44,
      "outputs": [
        {
          "output_type": "stream",
          "text": [
            "0.6716977915178228\n",
            "-2523656567959085.5\n"
          ],
          "name": "stdout"
        }
      ]
    },
    {
      "cell_type": "markdown",
      "metadata": {
        "id": "GJyFzquN2dc2"
      },
      "source": [
        "**--> r2 for the training data is 0.6716, but a very large negative number for the test data...? From what I've read online, this means the model fits very badly. Looks like using all columns as variables \"dilutes\" any possible correlation.**"
      ]
    },
    {
      "cell_type": "markdown",
      "metadata": {
        "id": "M-EOx1Oy647L"
      },
      "source": [
        "Evaluate your test set results using RMSE"
      ]
    },
    {
      "cell_type": "code",
      "metadata": {
        "id": "_B3lRWsf5Jj4"
      },
      "source": [
        "#RMSE\n",
        "from sklearn.metrics import mean_squared_error\n",
        "import numpy as np\n"
      ],
      "execution_count": 45,
      "outputs": []
    },
    {
      "cell_type": "code",
      "metadata": {
        "id": "hRi9CZpn6fWO",
        "colab": {
          "base_uri": "https://localhost:8080/"
        },
        "outputId": "f5d2a034-ce66-41ad-a7d1-2614b5e6f919"
      },
      "source": [
        "#mean squared error for training data\n",
        "print(mean_squared_error(y_train, train_preds))\n",
        "#mean squared error for test data\n",
        "print(mean_squared_error(y_test, test_preds))"
      ],
      "execution_count": 46,
      "outputs": [
        {
          "output_type": "stream",
          "text": [
            "971595.8437012467\n",
            "6.962711153223211e+21\n"
          ],
          "name": "stdout"
        }
      ]
    },
    {
      "cell_type": "code",
      "metadata": {
        "id": "sf7drwJd6ltk",
        "colab": {
          "base_uri": "https://localhost:8080/"
        },
        "outputId": "1d34de56-d417-4e69-d026-47feba2e0bbb"
      },
      "source": [
        "#root mean squared error for training data\n",
        "mse_train = mean_squared_error(y_train, train_preds)\n",
        "print(np.sqrt(mse_train))\n",
        "#root mean squared error for test data\n",
        "mse_test = mean_squared_error(y_test, test_preds)\n",
        "print(np.sqrt(mse_test))"
      ],
      "execution_count": 47,
      "outputs": [
        {
          "output_type": "stream",
          "text": [
            "985.6956141229638\n",
            "83442861607.34908\n"
          ],
          "name": "stdout"
        }
      ]
    },
    {
      "cell_type": "markdown",
      "metadata": {
        "id": "n7jpM73qniT5"
      },
      "source": [
        "**--> Looking at the RMSE values (especially for the test data), using all columns for the feature matrix is problematic.**"
      ]
    },
    {
      "cell_type": "markdown",
      "metadata": {
        "id": "BmC0FuzJwg8-"
      },
      "source": [
        "**--> Attempt #2: Going back to my earlier exploration in Part 4, it seems there's a correlation among Item_Fat_Content, Item_Type, Outlet_Type and Item_Outlet_Sales. I'll use those (in their encoded forms) as the features matrix.**"
      ]
    },
    {
      "cell_type": "code",
      "metadata": {
        "id": "yETjF0MNyANN"
      },
      "source": [
        "#set features matrix (X)\n",
        "#set 'Item_Outlet_Sales' as target (y)\n",
        "X2 = df.drop(columns = ['Item_Identifier', 'Item_Weight', 'Item_Visibility', 'Item_MRP', 'Outlet_Identifier', 'Outlet_Establishment_Year', 'Outlet_Size', 'Outlet_Location_Type', 'Item_Outlet_Sales'], axis=1)\n",
        "X2 = pd.get_dummies(X2, columns = ['Item_Fat_Content', 'Item_Type', 'Outlet_Type'])\n",
        "y2 = encoded_df['Item_Outlet_Sales']"
      ],
      "execution_count": 58,
      "outputs": []
    },
    {
      "cell_type": "code",
      "metadata": {
        "id": "EUcOZcOT0t0I"
      },
      "source": [
        "#train test split\n",
        "X_train2, X_test2, y_train2, y_test2 = train_test_split(X2, y2, random_state=42)"
      ],
      "execution_count": 59,
      "outputs": []
    },
    {
      "cell_type": "code",
      "metadata": {
        "id": "6_ymJdfvzqoU"
      },
      "source": [
        "# Make a linear regression instance\n",
        "reg2 = LinearRegression()"
      ],
      "execution_count": 60,
      "outputs": []
    },
    {
      "cell_type": "code",
      "metadata": {
        "id": "pcleGzdOzxNm",
        "colab": {
          "base_uri": "https://localhost:8080/"
        },
        "outputId": "ee02ab1b-c838-4346-dae4-7b6948d165b4"
      },
      "source": [
        "#train the model\n",
        "reg2.fit(X_train2,y_train2)"
      ],
      "execution_count": 62,
      "outputs": [
        {
          "output_type": "execute_result",
          "data": {
            "text/plain": [
              "LinearRegression(copy_X=True, fit_intercept=True, n_jobs=None, normalize=False)"
            ]
          },
          "metadata": {},
          "execution_count": 62
        }
      ]
    },
    {
      "cell_type": "code",
      "metadata": {
        "id": "LUpu0yz7z3HA"
      },
      "source": [
        "#linear regression model\n",
        "# predict all values on the training data\n",
        "train_preds2 = reg2.predict(X_train2)\n",
        "# predict the values in the test set\n",
        "test_preds2 = reg2.predict(X_test2)"
      ],
      "execution_count": 63,
      "outputs": []
    },
    {
      "cell_type": "code",
      "metadata": {
        "id": "uR0ylT8J0Ard",
        "colab": {
          "base_uri": "https://localhost:8080/"
        },
        "outputId": "84155ebe-9686-45f9-914d-0a4301339ee5"
      },
      "source": [
        "#r2\n",
        "from sklearn.metrics import r2_score\n",
        "print(r2_score(y_train2, train_preds2))\n",
        "print(r2_score(y_test2, test_preds2))"
      ],
      "execution_count": 64,
      "outputs": [
        {
          "output_type": "stream",
          "text": [
            "0.23701297088751117\n",
            "0.260306557642226\n"
          ],
          "name": "stdout"
        }
      ]
    },
    {
      "cell_type": "markdown",
      "metadata": {
        "id": "buzT10Pk5UuY"
      },
      "source": [
        "**--> r2 looks better in that the values are lower (and none are negative).**"
      ]
    },
    {
      "cell_type": "code",
      "metadata": {
        "id": "qL2JQhE5u_l-",
        "colab": {
          "base_uri": "https://localhost:8080/"
        },
        "outputId": "07e329d6-3e9e-4b25-a879-6db732e5f87e"
      },
      "source": [
        "#mean squared error for training data\n",
        "print(mean_squared_error(y_train2, train_preds2))\n",
        "#mean squared error for test data\n",
        "print(mean_squared_error(y_test2, test_preds2))"
      ],
      "execution_count": 65,
      "outputs": [
        {
          "output_type": "stream",
          "text": [
            "2258026.315786727\n",
            "2040797.4074046195\n"
          ],
          "name": "stdout"
        }
      ]
    },
    {
      "cell_type": "code",
      "metadata": {
        "id": "SqKTu2k91UZp",
        "colab": {
          "base_uri": "https://localhost:8080/"
        },
        "outputId": "ab9bcd36-2b4e-4836-d7bb-915099007fae"
      },
      "source": [
        "#root mean squared error for training data\n",
        "mse_train2 = mean_squared_error(y_train2, train_preds2)\n",
        "print(np.sqrt(mse_train2))\n",
        "#root mean squared error for test data\n",
        "mse_test2 = mean_squared_error(y_test2, test_preds2)\n",
        "print(np.sqrt(mse_test2))"
      ],
      "execution_count": 66,
      "outputs": [
        {
          "output_type": "stream",
          "text": [
            "1502.6730568512655\n",
            "1428.5648068619846\n"
          ],
          "name": "stdout"
        }
      ]
    },
    {
      "cell_type": "markdown",
      "metadata": {
        "id": "hPmKVwzbBc6B"
      },
      "source": [
        "**--> RMSE values are more closer together on Attempt #2 than Attempt #1.**"
      ]
    },
    {
      "cell_type": "markdown",
      "metadata": {
        "id": "_HCdZP9e7BGz"
      },
      "source": [
        "Which features are most associated with higher predicted sales?"
      ]
    },
    {
      "cell_type": "code",
      "metadata": {
        "id": "1_bsY2ZjCOq2",
        "colab": {
          "base_uri": "https://localhost:8080/",
          "height": 918
        },
        "outputId": "defacffe-25ad-4dd1-e947-067c747fa46c"
      },
      "source": [
        "df2 = df.drop(columns = ['Item_Identifier', 'Item_Weight', 'Item_Visibility', 'Item_MRP', 'Outlet_Identifier', 'Outlet_Establishment_Year', 'Outlet_Size', 'Outlet_Location_Type'], axis=1)\n",
        "df2 = pd.get_dummies(df2, columns = ['Item_Fat_Content', 'Item_Type', 'Outlet_Type'])\n",
        "df2.corr()"
      ],
      "execution_count": 71,
      "outputs": [
        {
          "output_type": "execute_result",
          "data": {
            "text/html": [
              "<div>\n",
              "<style scoped>\n",
              "    .dataframe tbody tr th:only-of-type {\n",
              "        vertical-align: middle;\n",
              "    }\n",
              "\n",
              "    .dataframe tbody tr th {\n",
              "        vertical-align: top;\n",
              "    }\n",
              "\n",
              "    .dataframe thead th {\n",
              "        text-align: right;\n",
              "    }\n",
              "</style>\n",
              "<table border=\"1\" class=\"dataframe\">\n",
              "  <thead>\n",
              "    <tr style=\"text-align: right;\">\n",
              "      <th></th>\n",
              "      <th>Item_Outlet_Sales</th>\n",
              "      <th>Item_Fat_Content_Low Fat</th>\n",
              "      <th>Item_Fat_Content_Regular</th>\n",
              "      <th>Item_Type_Baking Goods</th>\n",
              "      <th>Item_Type_Breads</th>\n",
              "      <th>Item_Type_Breakfast</th>\n",
              "      <th>Item_Type_Canned</th>\n",
              "      <th>Item_Type_Dairy</th>\n",
              "      <th>Item_Type_Frozen Foods</th>\n",
              "      <th>Item_Type_Fruits and Vegetables</th>\n",
              "      <th>Item_Type_Hard Drinks</th>\n",
              "      <th>Item_Type_Health and Hygiene</th>\n",
              "      <th>Item_Type_Household</th>\n",
              "      <th>Item_Type_Meat</th>\n",
              "      <th>Item_Type_Others</th>\n",
              "      <th>Item_Type_Seafood</th>\n",
              "      <th>Item_Type_Snack Foods</th>\n",
              "      <th>Item_Type_Soft Drinks</th>\n",
              "      <th>Item_Type_Starchy Foods</th>\n",
              "      <th>Outlet_Type_Grocery Store</th>\n",
              "      <th>Outlet_Type_Supermarket Type1</th>\n",
              "      <th>Outlet_Type_Supermarket Type2</th>\n",
              "      <th>Outlet_Type_Supermarket Type3</th>\n",
              "    </tr>\n",
              "  </thead>\n",
              "  <tbody>\n",
              "    <tr>\n",
              "      <th>Item_Outlet_Sales</th>\n",
              "      <td>1.000000</td>\n",
              "      <td>-0.018719</td>\n",
              "      <td>0.018719</td>\n",
              "      <td>-0.038381</td>\n",
              "      <td>0.002332</td>\n",
              "      <td>-0.004656</td>\n",
              "      <td>0.007387</td>\n",
              "      <td>0.008858</td>\n",
              "      <td>-0.009482</td>\n",
              "      <td>0.025950</td>\n",
              "      <td>-0.003956</td>\n",
              "      <td>-0.025587</td>\n",
              "      <td>0.015701</td>\n",
              "      <td>-0.002995</td>\n",
              "      <td>-0.021267</td>\n",
              "      <td>0.007380</td>\n",
              "      <td>0.022782</td>\n",
              "      <td>-0.024040</td>\n",
              "      <td>0.015039</td>\n",
              "      <td>-0.411727</td>\n",
              "      <td>0.108765</td>\n",
              "      <td>-0.038059</td>\n",
              "      <td>0.311192</td>\n",
              "    </tr>\n",
              "    <tr>\n",
              "      <th>Item_Fat_Content_Low Fat</th>\n",
              "      <td>-0.018719</td>\n",
              "      <td>1.000000</td>\n",
              "      <td>-1.000000</td>\n",
              "      <td>-0.083804</td>\n",
              "      <td>-0.032643</td>\n",
              "      <td>-0.065711</td>\n",
              "      <td>-0.073235</td>\n",
              "      <td>-0.021236</td>\n",
              "      <td>-0.085041</td>\n",
              "      <td>-0.116955</td>\n",
              "      <td>0.118461</td>\n",
              "      <td>0.188156</td>\n",
              "      <td>0.255203</td>\n",
              "      <td>-0.118574</td>\n",
              "      <td>0.104988</td>\n",
              "      <td>-0.012594</td>\n",
              "      <td>-0.059848</td>\n",
              "      <td>0.094875</td>\n",
              "      <td>-0.025945</td>\n",
              "      <td>0.002924</td>\n",
              "      <td>-0.000533</td>\n",
              "      <td>-0.002129</td>\n",
              "      <td>-0.000183</td>\n",
              "    </tr>\n",
              "    <tr>\n",
              "      <th>Item_Fat_Content_Regular</th>\n",
              "      <td>0.018719</td>\n",
              "      <td>-1.000000</td>\n",
              "      <td>1.000000</td>\n",
              "      <td>0.083804</td>\n",
              "      <td>0.032643</td>\n",
              "      <td>0.065711</td>\n",
              "      <td>0.073235</td>\n",
              "      <td>0.021236</td>\n",
              "      <td>0.085041</td>\n",
              "      <td>0.116955</td>\n",
              "      <td>-0.118461</td>\n",
              "      <td>-0.188156</td>\n",
              "      <td>-0.255203</td>\n",
              "      <td>0.118574</td>\n",
              "      <td>-0.104988</td>\n",
              "      <td>0.012594</td>\n",
              "      <td>0.059848</td>\n",
              "      <td>-0.094875</td>\n",
              "      <td>0.025945</td>\n",
              "      <td>-0.002924</td>\n",
              "      <td>0.000533</td>\n",
              "      <td>0.002129</td>\n",
              "      <td>0.000183</td>\n",
              "    </tr>\n",
              "    <tr>\n",
              "      <th>Item_Type_Baking Goods</th>\n",
              "      <td>-0.038381</td>\n",
              "      <td>-0.083804</td>\n",
              "      <td>0.083804</td>\n",
              "      <td>1.000000</td>\n",
              "      <td>-0.049968</td>\n",
              "      <td>-0.032801</td>\n",
              "      <td>-0.082354</td>\n",
              "      <td>-0.084600</td>\n",
              "      <td>-0.095849</td>\n",
              "      <td>-0.117916</td>\n",
              "      <td>-0.046036</td>\n",
              "      <td>-0.073120</td>\n",
              "      <td>-0.099176</td>\n",
              "      <td>-0.065715</td>\n",
              "      <td>-0.040800</td>\n",
              "      <td>-0.024951</td>\n",
              "      <td>-0.116120</td>\n",
              "      <td>-0.067327</td>\n",
              "      <td>-0.038133</td>\n",
              "      <td>0.003536</td>\n",
              "      <td>0.001846</td>\n",
              "      <td>-0.003632</td>\n",
              "      <td>-0.002957</td>\n",
              "    </tr>\n",
              "    <tr>\n",
              "      <th>Item_Type_Breads</th>\n",
              "      <td>0.002332</td>\n",
              "      <td>-0.032643</td>\n",
              "      <td>0.032643</td>\n",
              "      <td>-0.049968</td>\n",
              "      <td>1.000000</td>\n",
              "      <td>-0.019918</td>\n",
              "      <td>-0.050010</td>\n",
              "      <td>-0.051373</td>\n",
              "      <td>-0.058204</td>\n",
              "      <td>-0.071605</td>\n",
              "      <td>-0.027955</td>\n",
              "      <td>-0.044402</td>\n",
              "      <td>-0.060225</td>\n",
              "      <td>-0.039906</td>\n",
              "      <td>-0.024776</td>\n",
              "      <td>-0.015152</td>\n",
              "      <td>-0.070514</td>\n",
              "      <td>-0.040885</td>\n",
              "      <td>-0.023156</td>\n",
              "      <td>0.002305</td>\n",
              "      <td>-0.006189</td>\n",
              "      <td>-0.000734</td>\n",
              "      <td>0.007693</td>\n",
              "    </tr>\n",
              "    <tr>\n",
              "      <th>Item_Type_Breakfast</th>\n",
              "      <td>-0.004656</td>\n",
              "      <td>-0.065711</td>\n",
              "      <td>0.065711</td>\n",
              "      <td>-0.032801</td>\n",
              "      <td>-0.019918</td>\n",
              "      <td>1.000000</td>\n",
              "      <td>-0.032828</td>\n",
              "      <td>-0.033723</td>\n",
              "      <td>-0.038207</td>\n",
              "      <td>-0.047004</td>\n",
              "      <td>-0.018351</td>\n",
              "      <td>-0.029147</td>\n",
              "      <td>-0.039533</td>\n",
              "      <td>-0.026195</td>\n",
              "      <td>-0.016264</td>\n",
              "      <td>-0.009946</td>\n",
              "      <td>-0.046288</td>\n",
              "      <td>-0.026838</td>\n",
              "      <td>-0.015201</td>\n",
              "      <td>0.015676</td>\n",
              "      <td>-0.008695</td>\n",
              "      <td>0.000077</td>\n",
              "      <td>-0.003550</td>\n",
              "    </tr>\n",
              "    <tr>\n",
              "      <th>Item_Type_Canned</th>\n",
              "      <td>0.007387</td>\n",
              "      <td>-0.073235</td>\n",
              "      <td>0.073235</td>\n",
              "      <td>-0.082354</td>\n",
              "      <td>-0.050010</td>\n",
              "      <td>-0.032828</td>\n",
              "      <td>1.000000</td>\n",
              "      <td>-0.084670</td>\n",
              "      <td>-0.095929</td>\n",
              "      <td>-0.118015</td>\n",
              "      <td>-0.046074</td>\n",
              "      <td>-0.073181</td>\n",
              "      <td>-0.099258</td>\n",
              "      <td>-0.065770</td>\n",
              "      <td>-0.040834</td>\n",
              "      <td>-0.024972</td>\n",
              "      <td>-0.116217</td>\n",
              "      <td>-0.067383</td>\n",
              "      <td>-0.038165</td>\n",
              "      <td>-0.012574</td>\n",
              "      <td>0.001236</td>\n",
              "      <td>0.010418</td>\n",
              "      <td>0.001136</td>\n",
              "    </tr>\n",
              "    <tr>\n",
              "      <th>Item_Type_Dairy</th>\n",
              "      <td>0.008858</td>\n",
              "      <td>-0.021236</td>\n",
              "      <td>0.021236</td>\n",
              "      <td>-0.084600</td>\n",
              "      <td>-0.051373</td>\n",
              "      <td>-0.033723</td>\n",
              "      <td>-0.084670</td>\n",
              "      <td>1.000000</td>\n",
              "      <td>-0.098544</td>\n",
              "      <td>-0.121232</td>\n",
              "      <td>-0.047330</td>\n",
              "      <td>-0.075176</td>\n",
              "      <td>-0.101965</td>\n",
              "      <td>-0.067563</td>\n",
              "      <td>-0.041947</td>\n",
              "      <td>-0.025653</td>\n",
              "      <td>-0.119386</td>\n",
              "      <td>-0.069220</td>\n",
              "      <td>-0.039205</td>\n",
              "      <td>0.006933</td>\n",
              "      <td>0.003396</td>\n",
              "      <td>-0.001746</td>\n",
              "      <td>-0.010817</td>\n",
              "    </tr>\n",
              "    <tr>\n",
              "      <th>Item_Type_Frozen Foods</th>\n",
              "      <td>-0.009482</td>\n",
              "      <td>-0.085041</td>\n",
              "      <td>0.085041</td>\n",
              "      <td>-0.095849</td>\n",
              "      <td>-0.058204</td>\n",
              "      <td>-0.038207</td>\n",
              "      <td>-0.095929</td>\n",
              "      <td>-0.098544</td>\n",
              "      <td>1.000000</td>\n",
              "      <td>-0.137352</td>\n",
              "      <td>-0.053624</td>\n",
              "      <td>-0.085173</td>\n",
              "      <td>-0.115523</td>\n",
              "      <td>-0.076547</td>\n",
              "      <td>-0.047525</td>\n",
              "      <td>-0.029064</td>\n",
              "      <td>-0.135260</td>\n",
              "      <td>-0.078425</td>\n",
              "      <td>-0.044418</td>\n",
              "      <td>-0.006763</td>\n",
              "      <td>0.009750</td>\n",
              "      <td>-0.001507</td>\n",
              "      <td>-0.006128</td>\n",
              "    </tr>\n",
              "    <tr>\n",
              "      <th>Item_Type_Fruits and Vegetables</th>\n",
              "      <td>0.025950</td>\n",
              "      <td>-0.116955</td>\n",
              "      <td>0.116955</td>\n",
              "      <td>-0.117916</td>\n",
              "      <td>-0.071605</td>\n",
              "      <td>-0.047004</td>\n",
              "      <td>-0.118015</td>\n",
              "      <td>-0.121232</td>\n",
              "      <td>-0.137352</td>\n",
              "      <td>1.000000</td>\n",
              "      <td>-0.065970</td>\n",
              "      <td>-0.104782</td>\n",
              "      <td>-0.142120</td>\n",
              "      <td>-0.094171</td>\n",
              "      <td>-0.058467</td>\n",
              "      <td>-0.035755</td>\n",
              "      <td>-0.166402</td>\n",
              "      <td>-0.096481</td>\n",
              "      <td>-0.054645</td>\n",
              "      <td>-0.004556</td>\n",
              "      <td>-0.000811</td>\n",
              "      <td>0.000919</td>\n",
              "      <td>0.005173</td>\n",
              "    </tr>\n",
              "    <tr>\n",
              "      <th>Item_Type_Hard Drinks</th>\n",
              "      <td>-0.003956</td>\n",
              "      <td>0.118461</td>\n",
              "      <td>-0.118461</td>\n",
              "      <td>-0.046036</td>\n",
              "      <td>-0.027955</td>\n",
              "      <td>-0.018351</td>\n",
              "      <td>-0.046074</td>\n",
              "      <td>-0.047330</td>\n",
              "      <td>-0.053624</td>\n",
              "      <td>-0.065970</td>\n",
              "      <td>1.000000</td>\n",
              "      <td>-0.040908</td>\n",
              "      <td>-0.055485</td>\n",
              "      <td>-0.036765</td>\n",
              "      <td>-0.022826</td>\n",
              "      <td>-0.013959</td>\n",
              "      <td>-0.064965</td>\n",
              "      <td>-0.037667</td>\n",
              "      <td>-0.021334</td>\n",
              "      <td>-0.007189</td>\n",
              "      <td>0.007837</td>\n",
              "      <td>-0.003132</td>\n",
              "      <td>-0.001143</td>\n",
              "    </tr>\n",
              "    <tr>\n",
              "      <th>Item_Type_Health and Hygiene</th>\n",
              "      <td>-0.025587</td>\n",
              "      <td>0.188156</td>\n",
              "      <td>-0.188156</td>\n",
              "      <td>-0.073120</td>\n",
              "      <td>-0.044402</td>\n",
              "      <td>-0.029147</td>\n",
              "      <td>-0.073181</td>\n",
              "      <td>-0.075176</td>\n",
              "      <td>-0.085173</td>\n",
              "      <td>-0.104782</td>\n",
              "      <td>-0.040908</td>\n",
              "      <td>1.000000</td>\n",
              "      <td>-0.088129</td>\n",
              "      <td>-0.058396</td>\n",
              "      <td>-0.036255</td>\n",
              "      <td>-0.022172</td>\n",
              "      <td>-0.103186</td>\n",
              "      <td>-0.059828</td>\n",
              "      <td>-0.033885</td>\n",
              "      <td>0.001361</td>\n",
              "      <td>-0.005422</td>\n",
              "      <td>0.002174</td>\n",
              "      <td>0.004634</td>\n",
              "    </tr>\n",
              "    <tr>\n",
              "      <th>Item_Type_Household</th>\n",
              "      <td>0.015701</td>\n",
              "      <td>0.255203</td>\n",
              "      <td>-0.255203</td>\n",
              "      <td>-0.099176</td>\n",
              "      <td>-0.060225</td>\n",
              "      <td>-0.039533</td>\n",
              "      <td>-0.099258</td>\n",
              "      <td>-0.101965</td>\n",
              "      <td>-0.115523</td>\n",
              "      <td>-0.142120</td>\n",
              "      <td>-0.055485</td>\n",
              "      <td>-0.088129</td>\n",
              "      <td>1.000000</td>\n",
              "      <td>-0.079204</td>\n",
              "      <td>-0.049174</td>\n",
              "      <td>-0.030073</td>\n",
              "      <td>-0.139955</td>\n",
              "      <td>-0.081147</td>\n",
              "      <td>-0.045960</td>\n",
              "      <td>0.003842</td>\n",
              "      <td>0.001234</td>\n",
              "      <td>-0.004979</td>\n",
              "      <td>-0.001009</td>\n",
              "    </tr>\n",
              "    <tr>\n",
              "      <th>Item_Type_Meat</th>\n",
              "      <td>-0.002995</td>\n",
              "      <td>-0.118574</td>\n",
              "      <td>0.118574</td>\n",
              "      <td>-0.065715</td>\n",
              "      <td>-0.039906</td>\n",
              "      <td>-0.026195</td>\n",
              "      <td>-0.065770</td>\n",
              "      <td>-0.067563</td>\n",
              "      <td>-0.076547</td>\n",
              "      <td>-0.094171</td>\n",
              "      <td>-0.036765</td>\n",
              "      <td>-0.058396</td>\n",
              "      <td>-0.079204</td>\n",
              "      <td>1.000000</td>\n",
              "      <td>-0.032584</td>\n",
              "      <td>-0.019927</td>\n",
              "      <td>-0.092737</td>\n",
              "      <td>-0.053769</td>\n",
              "      <td>-0.030454</td>\n",
              "      <td>0.019416</td>\n",
              "      <td>-0.023912</td>\n",
              "      <td>-0.000476</td>\n",
              "      <td>0.016172</td>\n",
              "    </tr>\n",
              "    <tr>\n",
              "      <th>Item_Type_Others</th>\n",
              "      <td>-0.021267</td>\n",
              "      <td>0.104988</td>\n",
              "      <td>-0.104988</td>\n",
              "      <td>-0.040800</td>\n",
              "      <td>-0.024776</td>\n",
              "      <td>-0.016264</td>\n",
              "      <td>-0.040834</td>\n",
              "      <td>-0.041947</td>\n",
              "      <td>-0.047525</td>\n",
              "      <td>-0.058467</td>\n",
              "      <td>-0.022826</td>\n",
              "      <td>-0.036255</td>\n",
              "      <td>-0.049174</td>\n",
              "      <td>-0.032584</td>\n",
              "      <td>1.000000</td>\n",
              "      <td>-0.012372</td>\n",
              "      <td>-0.057576</td>\n",
              "      <td>-0.033383</td>\n",
              "      <td>-0.018908</td>\n",
              "      <td>0.013963</td>\n",
              "      <td>-0.006344</td>\n",
              "      <td>0.004320</td>\n",
              "      <td>-0.009533</td>\n",
              "    </tr>\n",
              "    <tr>\n",
              "      <th>Item_Type_Seafood</th>\n",
              "      <td>0.007380</td>\n",
              "      <td>-0.012594</td>\n",
              "      <td>0.012594</td>\n",
              "      <td>-0.024951</td>\n",
              "      <td>-0.015152</td>\n",
              "      <td>-0.009946</td>\n",
              "      <td>-0.024972</td>\n",
              "      <td>-0.025653</td>\n",
              "      <td>-0.029064</td>\n",
              "      <td>-0.035755</td>\n",
              "      <td>-0.013959</td>\n",
              "      <td>-0.022172</td>\n",
              "      <td>-0.030073</td>\n",
              "      <td>-0.019927</td>\n",
              "      <td>-0.012372</td>\n",
              "      <td>1.000000</td>\n",
              "      <td>-0.035211</td>\n",
              "      <td>-0.020415</td>\n",
              "      <td>-0.011563</td>\n",
              "      <td>0.007621</td>\n",
              "      <td>-0.005367</td>\n",
              "      <td>0.000138</td>\n",
              "      <td>-0.000091</td>\n",
              "    </tr>\n",
              "    <tr>\n",
              "      <th>Item_Type_Snack Foods</th>\n",
              "      <td>0.022782</td>\n",
              "      <td>-0.059848</td>\n",
              "      <td>0.059848</td>\n",
              "      <td>-0.116120</td>\n",
              "      <td>-0.070514</td>\n",
              "      <td>-0.046288</td>\n",
              "      <td>-0.116217</td>\n",
              "      <td>-0.119386</td>\n",
              "      <td>-0.135260</td>\n",
              "      <td>-0.166402</td>\n",
              "      <td>-0.064965</td>\n",
              "      <td>-0.103186</td>\n",
              "      <td>-0.139955</td>\n",
              "      <td>-0.092737</td>\n",
              "      <td>-0.057576</td>\n",
              "      <td>-0.035211</td>\n",
              "      <td>1.000000</td>\n",
              "      <td>-0.095011</td>\n",
              "      <td>-0.053813</td>\n",
              "      <td>-0.006565</td>\n",
              "      <td>-0.000154</td>\n",
              "      <td>0.001453</td>\n",
              "      <td>0.005782</td>\n",
              "    </tr>\n",
              "    <tr>\n",
              "      <th>Item_Type_Soft Drinks</th>\n",
              "      <td>-0.024040</td>\n",
              "      <td>0.094875</td>\n",
              "      <td>-0.094875</td>\n",
              "      <td>-0.067327</td>\n",
              "      <td>-0.040885</td>\n",
              "      <td>-0.026838</td>\n",
              "      <td>-0.067383</td>\n",
              "      <td>-0.069220</td>\n",
              "      <td>-0.078425</td>\n",
              "      <td>-0.096481</td>\n",
              "      <td>-0.037667</td>\n",
              "      <td>-0.059828</td>\n",
              "      <td>-0.081147</td>\n",
              "      <td>-0.053769</td>\n",
              "      <td>-0.033383</td>\n",
              "      <td>-0.020415</td>\n",
              "      <td>-0.095011</td>\n",
              "      <td>1.000000</td>\n",
              "      <td>-0.031201</td>\n",
              "      <td>-0.004031</td>\n",
              "      <td>0.009777</td>\n",
              "      <td>-0.004153</td>\n",
              "      <td>-0.006443</td>\n",
              "    </tr>\n",
              "    <tr>\n",
              "      <th>Item_Type_Starchy Foods</th>\n",
              "      <td>0.015039</td>\n",
              "      <td>-0.025945</td>\n",
              "      <td>0.025945</td>\n",
              "      <td>-0.038133</td>\n",
              "      <td>-0.023156</td>\n",
              "      <td>-0.015201</td>\n",
              "      <td>-0.038165</td>\n",
              "      <td>-0.039205</td>\n",
              "      <td>-0.044418</td>\n",
              "      <td>-0.054645</td>\n",
              "      <td>-0.021334</td>\n",
              "      <td>-0.033885</td>\n",
              "      <td>-0.045960</td>\n",
              "      <td>-0.030454</td>\n",
              "      <td>-0.018908</td>\n",
              "      <td>-0.011563</td>\n",
              "      <td>-0.053813</td>\n",
              "      <td>-0.031201</td>\n",
              "      <td>1.000000</td>\n",
              "      <td>-0.015658</td>\n",
              "      <td>0.013516</td>\n",
              "      <td>0.002553</td>\n",
              "      <td>-0.006427</td>\n",
              "    </tr>\n",
              "    <tr>\n",
              "      <th>Outlet_Type_Grocery Store</th>\n",
              "      <td>-0.411727</td>\n",
              "      <td>0.002924</td>\n",
              "      <td>-0.002924</td>\n",
              "      <td>0.003536</td>\n",
              "      <td>0.002305</td>\n",
              "      <td>0.015676</td>\n",
              "      <td>-0.012574</td>\n",
              "      <td>0.006933</td>\n",
              "      <td>-0.006763</td>\n",
              "      <td>-0.004556</td>\n",
              "      <td>-0.007189</td>\n",
              "      <td>0.001361</td>\n",
              "      <td>0.003842</td>\n",
              "      <td>0.019416</td>\n",
              "      <td>0.013963</td>\n",
              "      <td>0.007621</td>\n",
              "      <td>-0.006565</td>\n",
              "      <td>-0.004031</td>\n",
              "      <td>-0.015658</td>\n",
              "      <td>1.000000</td>\n",
              "      <td>-0.524942</td>\n",
              "      <td>-0.133364</td>\n",
              "      <td>-0.133928</td>\n",
              "    </tr>\n",
              "    <tr>\n",
              "      <th>Outlet_Type_Supermarket Type1</th>\n",
              "      <td>0.108765</td>\n",
              "      <td>-0.000533</td>\n",
              "      <td>0.000533</td>\n",
              "      <td>0.001846</td>\n",
              "      <td>-0.006189</td>\n",
              "      <td>-0.008695</td>\n",
              "      <td>0.001236</td>\n",
              "      <td>0.003396</td>\n",
              "      <td>0.009750</td>\n",
              "      <td>-0.000811</td>\n",
              "      <td>0.007837</td>\n",
              "      <td>-0.005422</td>\n",
              "      <td>0.001234</td>\n",
              "      <td>-0.023912</td>\n",
              "      <td>-0.006344</td>\n",
              "      <td>-0.005367</td>\n",
              "      <td>-0.000154</td>\n",
              "      <td>0.009777</td>\n",
              "      <td>0.013516</td>\n",
              "      <td>-0.524942</td>\n",
              "      <td>1.000000</td>\n",
              "      <td>-0.480943</td>\n",
              "      <td>-0.482977</td>\n",
              "    </tr>\n",
              "    <tr>\n",
              "      <th>Outlet_Type_Supermarket Type2</th>\n",
              "      <td>-0.038059</td>\n",
              "      <td>-0.002129</td>\n",
              "      <td>0.002129</td>\n",
              "      <td>-0.003632</td>\n",
              "      <td>-0.000734</td>\n",
              "      <td>0.000077</td>\n",
              "      <td>0.010418</td>\n",
              "      <td>-0.001746</td>\n",
              "      <td>-0.001507</td>\n",
              "      <td>0.000919</td>\n",
              "      <td>-0.003132</td>\n",
              "      <td>0.002174</td>\n",
              "      <td>-0.004979</td>\n",
              "      <td>-0.000476</td>\n",
              "      <td>0.004320</td>\n",
              "      <td>0.000138</td>\n",
              "      <td>0.001453</td>\n",
              "      <td>-0.004153</td>\n",
              "      <td>0.002553</td>\n",
              "      <td>-0.133364</td>\n",
              "      <td>-0.480943</td>\n",
              "      <td>1.000000</td>\n",
              "      <td>-0.122702</td>\n",
              "    </tr>\n",
              "    <tr>\n",
              "      <th>Outlet_Type_Supermarket Type3</th>\n",
              "      <td>0.311192</td>\n",
              "      <td>-0.000183</td>\n",
              "      <td>0.000183</td>\n",
              "      <td>-0.002957</td>\n",
              "      <td>0.007693</td>\n",
              "      <td>-0.003550</td>\n",
              "      <td>0.001136</td>\n",
              "      <td>-0.010817</td>\n",
              "      <td>-0.006128</td>\n",
              "      <td>0.005173</td>\n",
              "      <td>-0.001143</td>\n",
              "      <td>0.004634</td>\n",
              "      <td>-0.001009</td>\n",
              "      <td>0.016172</td>\n",
              "      <td>-0.009533</td>\n",
              "      <td>-0.000091</td>\n",
              "      <td>0.005782</td>\n",
              "      <td>-0.006443</td>\n",
              "      <td>-0.006427</td>\n",
              "      <td>-0.133928</td>\n",
              "      <td>-0.482977</td>\n",
              "      <td>-0.122702</td>\n",
              "      <td>1.000000</td>\n",
              "    </tr>\n",
              "  </tbody>\n",
              "</table>\n",
              "</div>"
            ],
            "text/plain": [
              "                                 Item_Outlet_Sales  ...  Outlet_Type_Supermarket Type3\n",
              "Item_Outlet_Sales                         1.000000  ...                       0.311192\n",
              "Item_Fat_Content_Low Fat                 -0.018719  ...                      -0.000183\n",
              "Item_Fat_Content_Regular                  0.018719  ...                       0.000183\n",
              "Item_Type_Baking Goods                   -0.038381  ...                      -0.002957\n",
              "Item_Type_Breads                          0.002332  ...                       0.007693\n",
              "Item_Type_Breakfast                      -0.004656  ...                      -0.003550\n",
              "Item_Type_Canned                          0.007387  ...                       0.001136\n",
              "Item_Type_Dairy                           0.008858  ...                      -0.010817\n",
              "Item_Type_Frozen Foods                   -0.009482  ...                      -0.006128\n",
              "Item_Type_Fruits and Vegetables           0.025950  ...                       0.005173\n",
              "Item_Type_Hard Drinks                    -0.003956  ...                      -0.001143\n",
              "Item_Type_Health and Hygiene             -0.025587  ...                       0.004634\n",
              "Item_Type_Household                       0.015701  ...                      -0.001009\n",
              "Item_Type_Meat                           -0.002995  ...                       0.016172\n",
              "Item_Type_Others                         -0.021267  ...                      -0.009533\n",
              "Item_Type_Seafood                         0.007380  ...                      -0.000091\n",
              "Item_Type_Snack Foods                     0.022782  ...                       0.005782\n",
              "Item_Type_Soft Drinks                    -0.024040  ...                      -0.006443\n",
              "Item_Type_Starchy Foods                   0.015039  ...                      -0.006427\n",
              "Outlet_Type_Grocery Store                -0.411727  ...                      -0.133928\n",
              "Outlet_Type_Supermarket Type1             0.108765  ...                      -0.482977\n",
              "Outlet_Type_Supermarket Type2            -0.038059  ...                      -0.122702\n",
              "Outlet_Type_Supermarket Type3             0.311192  ...                       1.000000\n",
              "\n",
              "[23 rows x 23 columns]"
            ]
          },
          "metadata": {},
          "execution_count": 71
        }
      ]
    },
    {
      "cell_type": "code",
      "metadata": {
        "id": "eEz_tICjCqTG",
        "colab": {
          "base_uri": "https://localhost:8080/",
          "height": 966
        },
        "outputId": "70f07075-d948-47e0-e131-4962bb8e4360"
      },
      "source": [
        "#making the heatmap\n",
        "import seaborn as sns\n",
        "import matplotlib.pyplot as plt\n",
        "\n",
        "correlate_df2 = df2.corr()\n",
        "\n",
        "plt.figure(figsize = (18,14))\n",
        "sns.heatmap(correlate_df2, annot = True, cmap=\"coolwarm\");"
      ],
      "execution_count": 72,
      "outputs": [
        {
          "output_type": "display_data",
          "data": {
            "image/png": "[encoded data removed]",
            "text/plain": [
              "<Figure size 1296x1008 with 2 Axes>"
            ]
          },
          "metadata": {
            "needs_background": "light"
          }
        }
      ]
    },
    {
      "cell_type": "markdown",
      "metadata": {
        "id": "Pjc791Vo14T8"
      },
      "source": [
        "**--> Per the heat map and correlation table, there seems to be a weak correlation to barely moderate correlation between Outlet_Type and Item_Outlet_Sales (0.31 for Supermarket Type3 and -0.41 Grocery Store). The other features I tested in Attempt #2 doesn't seem to have a correlation.**"
      ]
    },
    {
      "cell_type": "markdown",
      "metadata": {
        "id": "lya6XGflLIe_"
      },
      "source": [
        "**--> Final Part**"
      ]
    },
    {
      "cell_type": "markdown",
      "metadata": {
        "id": "_BtQfUq3kpKi"
      },
      "source": [
        "Your task is to build tree based models to predict sales and compare evaluation metrics for regression problems.  \n",
        "\n",
        "Build and evaluate a simple decision tree model.\n",
        "\n",
        "Build and evaluate a bagged tree model.\n",
        "\n",
        "Build and evaluate a random forest model.  \n",
        "\n",
        "You now have tried at least 4 models on this data set (including the regression model from last week).  \n",
        "\n",
        "Compare the performance of your models based on r^2.\n",
        "\n",
        "Compare the performance of your models based on rmse.  \n",
        "\n",
        "Overall, which model do you recommend?\n",
        "\n",
        "Also, to finalize this project, you need to prepare a short (5-10 minute) presentation about your project\n",
        "\n",
        "Finalize your README with an overview of the project, an explanation of the data (including visualizations), and a summary of the results and recommendations. \n",
        "\n",
        "Think of this as an executive summary or an overview of your project.\n",
        "\n",
        "Prepare a short (5-10 minute) presentation with slides (Google Slides, PowePoint, etc).  Record yourself giving this presentation. Feel free to use any software available (Zoom, OBS, etc.). Include this recording on your GitHub repo.  Your presentation requires audio, but video is optional.\n",
        "\n",
        "Make sure your GitHub repository is organized and professional. Remember, this should be used to showcase your data science skills and abilities."
      ]
    },
    {
      "cell_type": "markdown",
      "metadata": {
        "id": "ahNjiMq-nMDT"
      },
      "source": [
        "**--> Building and evaluate simple decision tree...**"
      ]
    },
    {
      "cell_type": "code",
      "metadata": {
        "id": "o0fv6J7knTU0"
      },
      "source": [
        "from sklearn.tree import DecisionTreeRegressor"
      ],
      "execution_count": 74,
      "outputs": []
    },
    {
      "cell_type": "code",
      "metadata": {
        "id": "2ubgGO13HLAv"
      },
      "source": [
        "#reusing features matrix and target created during Part 5\n",
        "#X = all columns except Item_Outlet_Sales\n",
        "#y = Item_Outlet_Sales"
      ],
      "execution_count": 75,
      "outputs": []
    },
    {
      "cell_type": "code",
      "metadata": {
        "id": "cjsukb3b64cp"
      },
      "source": [
        "#instance of model\n",
        "dec_tree = DecisionTreeRegressor(random_state = 42)"
      ],
      "execution_count": 76,
      "outputs": []
    },
    {
      "cell_type": "code",
      "metadata": {
        "id": "k1ALP1_OHg0I"
      },
      "source": [
        "#reusing train test split created during Part 5"
      ],
      "execution_count": 77,
      "outputs": []
    },
    {
      "cell_type": "code",
      "metadata": {
        "id": "EqYc69uU700v",
        "colab": {
          "base_uri": "https://localhost:8080/"
        },
        "outputId": "08d16444-2b40-4139-d40f-4833077ee293"
      },
      "source": [
        "#fit model\n",
        "dec_tree.fit(X_train, y_train)"
      ],
      "execution_count": 78,
      "outputs": [
        {
          "output_type": "execute_result",
          "data": {
            "text/plain": [
              "DecisionTreeRegressor(ccp_alpha=0.0, criterion='mse', max_depth=None,\n",
              "                      max_features=None, max_leaf_nodes=None,\n",
              "                      min_impurity_decrease=0.0, min_impurity_split=None,\n",
              "                      min_samples_leaf=1, min_samples_split=2,\n",
              "                      min_weight_fraction_leaf=0.0, presort='deprecated',\n",
              "                      random_state=42, splitter='best')"
            ]
          },
          "metadata": {},
          "execution_count": 78
        }
      ]
    },
    {
      "cell_type": "code",
      "metadata": {
        "id": "9GlLa8p_7-Rv"
      },
      "source": [
        "#predict target values\n",
        "dec_train_preds = dec_tree.predict(X_train)\n",
        "dec_test_preds = dec_tree.predict(X_test)"
      ],
      "execution_count": 79,
      "outputs": []
    },
    {
      "cell_type": "code",
      "metadata": {
        "id": "3BJI3Zp38fgb",
        "colab": {
          "base_uri": "https://localhost:8080/"
        },
        "outputId": "74fbd633-58b4-40f1-be76-df29da89c959"
      },
      "source": [
        "#evaluate model for r^2\n",
        "dec_train_score = dec_tree.score(X_train, y_train)\n",
        "dec_test_score = dec_tree.score(X_test, y_test)\n",
        "print('Simple Decision Tree R^2 for training data:', dec_train_score)\n",
        "print('Simple Decision Tree R^2 for test data:', dec_test_score)"
      ],
      "execution_count": 121,
      "outputs": [
        {
          "output_type": "stream",
          "text": [
            "Simple Decision Tree R^2 for training data: 0.9999999773162772\n",
            "Simple Decision Tree R^2 for test data: 0.2320450082105373\n"
          ],
          "name": "stdout"
        }
      ]
    },
    {
      "cell_type": "markdown",
      "metadata": {
        "id": "HWLt8TNQJItr"
      },
      "source": [
        "**--> R^2 training score is 1.0000 and R^2 test score is 0.2320 so the model run at normal parameters doesn't work.**"
      ]
    },
    {
      "cell_type": "code",
      "metadata": {
        "id": "xq5ZkFVv9Z1I",
        "colab": {
          "base_uri": "https://localhost:8080/"
        },
        "outputId": "264a78ea-5d5e-4766-e56f-c1ff6cc5a401"
      },
      "source": [
        "#check for depth\n",
        "dec_tree.get_depth()"
      ],
      "execution_count": 122,
      "outputs": [
        {
          "output_type": "execute_result",
          "data": {
            "text/plain": [
              "59"
            ]
          },
          "metadata": {},
          "execution_count": 122
        }
      ]
    },
    {
      "cell_type": "code",
      "metadata": {
        "id": "ugzdqRZ_9r_f"
      },
      "source": [
        "#use function code to tune parameters\n",
        "# List of values to try for max_depth:\n",
        "max_depth_range = list(range(2, 60)) # will try every value between 2 and 60\n",
        "# List to store the score for each value of max_depth:\n",
        "r2_dec_tree = []\n",
        "for depth in max_depth_range:\n",
        "    dec_tree = DecisionTreeRegressor(max_depth = depth, \n",
        "                             random_state = 42)\n",
        "    dec_tree.fit(X_train, y_train)\n",
        "    dec_tree_score = dec_tree.score(X_test, y_test)\n",
        "    r2_dec_tree.append(dec_tree_score)"
      ],
      "execution_count": 123,
      "outputs": []
    },
    {
      "cell_type": "code",
      "metadata": {
        "id": "DvVXYmdkCD2t",
        "colab": {
          "base_uri": "https://localhost:8080/"
        },
        "outputId": "9b5271c4-6506-4fd1-fe08-4be5d83f7df5"
      },
      "source": [
        "#scanning values\n",
        "r2_dec_tree"
      ],
      "execution_count": 124,
      "outputs": [
        {
          "output_type": "execute_result",
          "data": {
            "text/plain": [
              "[0.43377750447071634,\n",
              " 0.5242218617296539,\n",
              " 0.5839367270114887,\n",
              " 0.5960564372160062,\n",
              " 0.5846684022696164,\n",
              " 0.5774371445642081,\n",
              " 0.5572115303008938,\n",
              " 0.5477429242661703,\n",
              " 0.5375512072033247,\n",
              " 0.5270119825308559,\n",
              " 0.5165764914145936,\n",
              " 0.5066401958643305,\n",
              " 0.48710108782788575,\n",
              " 0.4869908952963901,\n",
              " 0.4546660036971231,\n",
              " 0.4431843125654561,\n",
              " 0.42987620218375716,\n",
              " 0.41883478900150145,\n",
              " 0.41149625143489804,\n",
              " 0.38648096486507216,\n",
              " 0.38688026989808216,\n",
              " 0.3602302811947291,\n",
              " 0.3431550866086802,\n",
              " 0.3258187630310556,\n",
              " 0.31744470713823125,\n",
              " 0.30482214205187186,\n",
              " 0.29971143267179134,\n",
              " 0.27646320215548115,\n",
              " 0.29192409577080447,\n",
              " 0.2722599872693824,\n",
              " 0.26483458828037854,\n",
              " 0.26133077274041705,\n",
              " 0.24266005154656653,\n",
              " 0.24090919190011037,\n",
              " 0.2627304810194413,\n",
              " 0.22262214956239368,\n",
              " 0.22902668346276156,\n",
              " 0.225336521591073,\n",
              " 0.23713805566212076,\n",
              " 0.2382451029955255,\n",
              " 0.22797616439015453,\n",
              " 0.2323622419661413,\n",
              " 0.22511071834741125,\n",
              " 0.233869917789854,\n",
              " 0.23782572497672913,\n",
              " 0.21844547587947982,\n",
              " 0.20758071780069298,\n",
              " 0.22366930073240565,\n",
              " 0.20665529258255363,\n",
              " 0.22482804525084787,\n",
              " 0.21395881683774146,\n",
              " 0.21539696186023857,\n",
              " 0.23098164773609522,\n",
              " 0.22294887094376026,\n",
              " 0.2157803638396738,\n",
              " 0.20342471264630047,\n",
              " 0.23748852727228284,\n",
              " 0.2320450082105373]"
            ]
          },
          "metadata": {},
          "execution_count": 124
        }
      ]
    },
    {
      "cell_type": "code",
      "metadata": {
        "id": "OBPcfDP7-YCC",
        "colab": {
          "base_uri": "https://localhost:8080/",
          "height": 280
        },
        "outputId": "b672068b-b289-447e-e7a4-83d0653b9f7e"
      },
      "source": [
        "# Visualize which max_depth leads to the highest r2 score\n",
        "import matplotlib.pyplot as plt\n",
        "plt.plot(max_depth_range, r2_dec_tree)\n",
        "plt.xlabel('max_depth')\n",
        "plt.ylabel('R2');\n"
      ],
      "execution_count": 125,
      "outputs": [
        {
          "output_type": "display_data",
          "data": {
            "image/png": "[encoded data removed]",
            "text/plain": [
              "<Figure size 432x288 with 1 Axes>"
            ]
          },
          "metadata": {
            "needs_background": "light"
          }
        }
      ]
    },
    {
      "cell_type": "code",
      "metadata": {
        "id": "EXpwuHa1-8jK",
        "colab": {
          "base_uri": "https://localhost:8080/"
        },
        "outputId": "be2bdfc2-c066-48dc-a43c-91b9521bd0d5"
      },
      "source": [
        "#max depth at 5 seems to have highest r^2 score\n",
        "#run the model with optimized value for max_depth\n",
        "dec_tree_5 = DecisionTreeRegressor(max_depth = 5, random_state = 42)\n",
        "dec_tree_5.fit(X_train, y_train)\n",
        "dec_train_5_score = dec_tree_5.score(X_train, y_train)\n",
        "dec_test_5_score = dec_tree_5.score(X_test, y_test)\n",
        "print(dec_train_5_score)\n",
        "print(dec_test_5_score)"
      ],
      "execution_count": 126,
      "outputs": [
        {
          "output_type": "stream",
          "text": [
            "0.6042066848171654\n",
            "0.5960564372160062\n"
          ],
          "name": "stdout"
        }
      ]
    },
    {
      "cell_type": "code",
      "metadata": {
        "id": "S69PbZL2UE14"
      },
      "source": [
        "#predict target values using max depth 5\n",
        "dec_5_train_preds = dec_tree_5.predict(X_train)\n",
        "dec_5_test_preds = dec_tree_5.predict(X_test)"
      ],
      "execution_count": 127,
      "outputs": []
    },
    {
      "cell_type": "code",
      "metadata": {
        "id": "ZvBAN0uesXhO",
        "colab": {
          "base_uri": "https://localhost:8080/"
        },
        "outputId": "f2db6e60-cf14-4b5b-d74f-2d76ce28b618"
      },
      "source": [
        "dec_5_actual_predict = pd.DataFrame({'Actual': y_test, 'Predicted': dec_5_test_preds})\n",
        "print(dec_5_actual_predict)"
      ],
      "execution_count": 128,
      "outputs": [
        {
          "output_type": "stream",
          "text": [
            "         Actual    Predicted\n",
            "7503  1743.0644  1141.520153\n",
            "2957   356.8688   730.151568\n",
            "7031   377.5086   730.151568\n",
            "1084  5778.4782  5240.872776\n",
            "856   2356.9320  3008.585683\n",
            "...         ...          ...\n",
            "4753  3793.7284  3008.585683\n",
            "4836  2410.8618  2023.021551\n",
            "8064  5309.7550  3587.402879\n",
            "4418  2530.7058  2023.021551\n",
            "1784  4138.6128  2516.851801\n",
            "\n",
            "[2131 rows x 2 columns]\n"
          ],
          "name": "stdout"
        }
      ]
    },
    {
      "cell_type": "code",
      "metadata": {
        "id": "gyhmJVG7QhkQ",
        "colab": {
          "base_uri": "https://localhost:8080/"
        },
        "outputId": "2b0bd0a5-fa7b-45a9-84f5-bd8da871457d"
      },
      "source": [
        "#evaluate model for RMSE\n",
        "\n",
        "#mean squared error for training data\n",
        "print('MSE training data:', mean_squared_error(y_train, dec_5_train_preds))\n",
        "#mean squared error for test data\n",
        "print('MSE test data:', mean_squared_error(y_test, dec_5_test_preds))\n",
        "\n",
        "#root mean squared error for training data\n",
        "dec_mse_train = mean_squared_error(y_train, dec_5_train_preds)\n",
        "print('RMSE training data', np.sqrt(dec_mse_train))\n",
        "#root mean squared error for test data\n",
        "dec_mse_test = mean_squared_error(y_test, dec_5_test_preds)\n",
        "print('RMSE test data', np.sqrt(dec_mse_test))"
      ],
      "execution_count": 129,
      "outputs": [
        {
          "output_type": "stream",
          "text": [
            "MSE training data: 1171332.7844313178\n",
            "MSE test data: 1114471.1152767404\n",
            "RMSE training data 1082.281287111312\n",
            "RMSE test data 1055.6851402178304\n"
          ],
          "name": "stdout"
        }
      ]
    },
    {
      "cell_type": "markdown",
      "metadata": {
        "id": "X6YPkFySUqn2"
      },
      "source": [
        "**--> With max depth set to 5, the RMSE scores are very close to each other (1082.28 for training and 1055.69 for test). To put RMSE into context, the mean for Item_Outlet_Sales is 2181.288914**"
      ]
    },
    {
      "cell_type": "markdown",
      "metadata": {
        "id": "L4mh3y9znT5o"
      },
      "source": [
        "**--> Building bagged tree model...**"
      ]
    },
    {
      "cell_type": "code",
      "metadata": {
        "id": "GP3NzpZkncYh"
      },
      "source": [
        "from sklearn.ensemble import BaggingRegressor"
      ],
      "execution_count": 130,
      "outputs": []
    },
    {
      "cell_type": "code",
      "metadata": {
        "id": "ZR_6ia4iHrBB"
      },
      "source": [
        "#reuse features matrix and y"
      ],
      "execution_count": 131,
      "outputs": []
    },
    {
      "cell_type": "code",
      "metadata": {
        "id": "c57dWoplGED7"
      },
      "source": [
        "#make instance\n",
        "bagreg = BaggingRegressor(random_state = 42)"
      ],
      "execution_count": 132,
      "outputs": []
    },
    {
      "cell_type": "code",
      "metadata": {
        "id": "GIYef4IiHxld"
      },
      "source": [
        "#reuse train test split"
      ],
      "execution_count": 133,
      "outputs": []
    },
    {
      "cell_type": "code",
      "metadata": {
        "id": "L1CIsHeyGN2F",
        "colab": {
          "base_uri": "https://localhost:8080/"
        },
        "outputId": "54fef5f5-e5f7-4a42-add9-a7d06d4d9917"
      },
      "source": [
        "#fit the model\n",
        "bagreg.fit(X_train, y_train)"
      ],
      "execution_count": 134,
      "outputs": [
        {
          "output_type": "execute_result",
          "data": {
            "text/plain": [
              "BaggingRegressor(base_estimator=None, bootstrap=True, bootstrap_features=False,\n",
              "                 max_features=1.0, max_samples=1.0, n_estimators=10,\n",
              "                 n_jobs=None, oob_score=False, random_state=42, verbose=0,\n",
              "                 warm_start=False)"
            ]
          },
          "metadata": {},
          "execution_count": 134
        }
      ]
    },
    {
      "cell_type": "code",
      "metadata": {
        "id": "OnnyMkW2GO3d",
        "colab": {
          "base_uri": "https://localhost:8080/"
        },
        "outputId": "8639a9d5-36eb-45dd-9cc0-2d12c1515943"
      },
      "source": [
        "#make prediction\n",
        "bagreg.predict(X_test)"
      ],
      "execution_count": 135,
      "outputs": [
        {
          "output_type": "execute_result",
          "data": {
            "text/plain": [
              "array([ 840.10644, 1005.82406,  850.8924 , ..., 4503.4712 , 2122.77014,\n",
              "       1696.05892])"
            ]
          },
          "metadata": {},
          "execution_count": 135
        }
      ]
    },
    {
      "cell_type": "code",
      "metadata": {
        "id": "Yc01SN0VGdAI",
        "colab": {
          "base_uri": "https://localhost:8080/"
        },
        "outputId": "f1249d96-bc85-412d-8588-21542ca3408e"
      },
      "source": [
        "#evaluate\n",
        "bagreg_train_score = bagreg.score(X_train, y_train)\n",
        "bagreg_test_score = bagreg.score(X_test, y_test)\n",
        "print(bagreg_train_score)\n",
        "print(bagreg_test_score)"
      ],
      "execution_count": 136,
      "outputs": [
        {
          "output_type": "stream",
          "text": [
            "0.9184305613535784\n",
            "0.5304010050505383\n"
          ],
          "name": "stdout"
        }
      ]
    },
    {
      "cell_type": "markdown",
      "metadata": {
        "id": "GevDCFiHdo0o"
      },
      "source": [
        "**--> Bagging tree model shows a r^2 test score very different from r^2 training score... adjust estimators to get a better fit.**"
      ]
    },
    {
      "cell_type": "code",
      "metadata": {
        "id": "N3mQQz0Dd-72"
      },
      "source": [
        "#make instance with 50 estimators\n",
        "bagreg_50_est = BaggingRegressor(n_estimators = 50, random_state = 42)"
      ],
      "execution_count": 137,
      "outputs": []
    },
    {
      "cell_type": "code",
      "metadata": {
        "id": "ZbpIm5pFexMF",
        "colab": {
          "base_uri": "https://localhost:8080/"
        },
        "outputId": "80f8d58d-f088-4f2a-f416-a54552f8f7fb"
      },
      "source": [
        "#fit the model\n",
        "bagreg_50_est.fit(X_train, y_train)"
      ],
      "execution_count": 138,
      "outputs": [
        {
          "output_type": "execute_result",
          "data": {
            "text/plain": [
              "BaggingRegressor(base_estimator=None, bootstrap=True, bootstrap_features=False,\n",
              "                 max_features=1.0, max_samples=1.0, n_estimators=50,\n",
              "                 n_jobs=None, oob_score=False, random_state=42, verbose=0,\n",
              "                 warm_start=False)"
            ]
          },
          "metadata": {},
          "execution_count": 138
        }
      ]
    },
    {
      "cell_type": "code",
      "metadata": {
        "id": "4e766lCSe6zz",
        "colab": {
          "base_uri": "https://localhost:8080/"
        },
        "outputId": "3fd03083-2a56-4f25-e31c-1b1c1f2f8770"
      },
      "source": [
        "#evaluate\n",
        "bagreg_50_est_train_score = bagreg_50_est.score(X_train, y_train)\n",
        "bagreg_50_est_test_score = bagreg_50_est.score(X_test, y_test)\n",
        "print(bagreg_50_est_train_score)\n",
        "print(bagreg_50_est_test_score)"
      ],
      "execution_count": 139,
      "outputs": [
        {
          "output_type": "stream",
          "text": [
            "0.9354064420199506\n",
            "0.5472745291296934\n"
          ],
          "name": "stdout"
        }
      ]
    },
    {
      "cell_type": "markdown",
      "metadata": {
        "id": "mYRru7Wjfdd1"
      },
      "source": [
        "**--> Adjusting estimators to 50 for bagging tree model increases r^2 values for both training and test data but not by a lot. Will try again except with 100 estimators.**"
      ]
    },
    {
      "cell_type": "code",
      "metadata": {
        "id": "soAGXD1chAH8"
      },
      "source": [
        "#make instance with 100 estimators\n",
        "bagreg_100_est = BaggingRegressor(n_estimators = 100, random_state = 42)"
      ],
      "execution_count": 140,
      "outputs": []
    },
    {
      "cell_type": "code",
      "metadata": {
        "id": "ufnyrdTkhIiQ",
        "colab": {
          "base_uri": "https://localhost:8080/"
        },
        "outputId": "da234cbf-51a7-4f2d-f819-7e5cd420bc58"
      },
      "source": [
        "#fit the model\n",
        "bagreg_100_est.fit(X_train, y_train)"
      ],
      "execution_count": 141,
      "outputs": [
        {
          "output_type": "execute_result",
          "data": {
            "text/plain": [
              "BaggingRegressor(base_estimator=None, bootstrap=True, bootstrap_features=False,\n",
              "                 max_features=1.0, max_samples=1.0, n_estimators=100,\n",
              "                 n_jobs=None, oob_score=False, random_state=42, verbose=0,\n",
              "                 warm_start=False)"
            ]
          },
          "metadata": {},
          "execution_count": 141
        }
      ]
    },
    {
      "cell_type": "code",
      "metadata": {
        "id": "k1JCyQtyhZj7",
        "colab": {
          "base_uri": "https://localhost:8080/"
        },
        "outputId": "0a0643da-f1a6-4e17-dfd4-e1391b054663"
      },
      "source": [
        "#evaluate\n",
        "bagreg_100_est_train_score = bagreg_100_est.score(X_train, y_train)\n",
        "bagreg_100_est_test_score = bagreg_100_est.score(X_test, y_test)\n",
        "print(bagreg_100_est_train_score)\n",
        "print(bagreg_100_est_test_score)"
      ],
      "execution_count": 142,
      "outputs": [
        {
          "output_type": "stream",
          "text": [
            "0.9377247091988374\n",
            "0.551345304427881\n"
          ],
          "name": "stdout"
        }
      ]
    },
    {
      "cell_type": "markdown",
      "metadata": {
        "id": "mSqyJrfJh3aE"
      },
      "source": [
        "**--> Setting the bagging model to 100 estimators (doubling the estimators from 50) increases the r^2 values again but only slightly.**"
      ]
    },
    {
      "cell_type": "code",
      "metadata": {
        "id": "MccSYKmbmV83"
      },
      "source": [
        "#predict target values using 100 estimators\n",
        "br_100_train_preds = bagreg_100_est.predict(X_train)\n",
        "br_100_test_preds = bagreg_100_est.predict(X_test)"
      ],
      "execution_count": 143,
      "outputs": []
    },
    {
      "cell_type": "code",
      "metadata": {
        "id": "lykCJMkVszCw",
        "colab": {
          "base_uri": "https://localhost:8080/"
        },
        "outputId": "4a86f747-c65f-4368-b047-9496244acff9"
      },
      "source": [
        "br_100_actual_predict = pd.DataFrame({'Actual': y_test, 'Predicted': br_100_test_preds})\n",
        "print(br_100_actual_predict)"
      ],
      "execution_count": 144,
      "outputs": [
        {
          "output_type": "stream",
          "text": [
            "         Actual    Predicted\n",
            "7503  1743.0644   731.660936\n",
            "2957   356.8688   908.856948\n",
            "7031   377.5086   890.673950\n",
            "1084  5778.4782  4763.925502\n",
            "856   2356.9320  2300.864982\n",
            "...         ...          ...\n",
            "4753  3793.7284  4199.060782\n",
            "4836  2410.8618  1934.035814\n",
            "8064  5309.7550  4171.796272\n",
            "4418  2530.7058  1933.316750\n",
            "1784  4138.6128  2134.355060\n",
            "\n",
            "[2131 rows x 2 columns]\n"
          ],
          "name": "stdout"
        }
      ]
    },
    {
      "cell_type": "code",
      "metadata": {
        "id": "AEq6sLbymL-U",
        "colab": {
          "base_uri": "https://localhost:8080/"
        },
        "outputId": "90bb6b7b-ea7a-49ba-8899-465045d2d59e"
      },
      "source": [
        "#evaluate model for RMSE (100 estimators)\n",
        "\n",
        "#mean squared error for training data\n",
        "print('MSE training data:', mean_squared_error(y_train, br_100_train_preds))\n",
        "#mean squared error for test data\n",
        "print('MSE test data:', mean_squared_error(y_test, br_100_test_preds))\n",
        "\n",
        "#root mean squared error for training data\n",
        "br_100_mse_train = mean_squared_error(y_train, br_100_train_preds)\n",
        "print('RMSE training data', np.sqrt(br_100_mse_train))\n",
        "#root mean squared error for test data\n",
        "br_100_mse_test = mean_squared_error(y_test, br_100_test_preds)\n",
        "print('RMSE test data', np.sqrt(br_100_mse_test))"
      ],
      "execution_count": 145,
      "outputs": [
        {
          "output_type": "stream",
          "text": [
            "MSE training data: 184300.9646125506\n",
            "MSE test data: 1237828.1151512852\n",
            "RMSE training data 429.30288213864884\n",
            "RMSE test data 1112.5772400832604\n"
          ],
          "name": "stdout"
        }
      ]
    },
    {
      "cell_type": "markdown",
      "metadata": {
        "id": "2aw2uwExn-N4"
      },
      "source": [
        "**--> RMSE values are not similar, with training data having a much lower score than test data. Compared with the simple decision tree, the bagged tree model set at 100 estimators has lower RMSE for training (simple tree RMSE is 1082.28 for training) but higher RMSE for test (simple tree RMSE is 1055.69 for test)**"
      ]
    },
    {
      "cell_type": "markdown",
      "metadata": {
        "id": "4Gd7OrPknc0b"
      },
      "source": [
        "**--> Building random forest model...**"
      ]
    },
    {
      "cell_type": "code",
      "metadata": {
        "id": "PXg4YWdCnkaE"
      },
      "source": [
        "from sklearn.ensemble import RandomForestRegressor"
      ],
      "execution_count": 146,
      "outputs": []
    },
    {
      "cell_type": "code",
      "metadata": {
        "id": "j2ErRdUdi1q1"
      },
      "source": [
        "#create the instance\n",
        "rf = RandomForestRegressor(random_state = 42)"
      ],
      "execution_count": 147,
      "outputs": []
    },
    {
      "cell_type": "code",
      "metadata": {
        "id": "39JSQbRcjFgs",
        "colab": {
          "base_uri": "https://localhost:8080/"
        },
        "outputId": "a1734dcb-518c-44ca-9db8-9497b63614a7"
      },
      "source": [
        "#fit the model\n",
        "rf.fit(X_train, y_train)"
      ],
      "execution_count": 148,
      "outputs": [
        {
          "output_type": "execute_result",
          "data": {
            "text/plain": [
              "RandomForestRegressor(bootstrap=True, ccp_alpha=0.0, criterion='mse',\n",
              "                      max_depth=None, max_features='auto', max_leaf_nodes=None,\n",
              "                      max_samples=None, min_impurity_decrease=0.0,\n",
              "                      min_impurity_split=None, min_samples_leaf=1,\n",
              "                      min_samples_split=2, min_weight_fraction_leaf=0.0,\n",
              "                      n_estimators=100, n_jobs=None, oob_score=False,\n",
              "                      random_state=42, verbose=0, warm_start=False)"
            ]
          },
          "metadata": {},
          "execution_count": 148
        }
      ]
    },
    {
      "cell_type": "code",
      "metadata": {
        "id": "EwlG5mlGjLgX",
        "colab": {
          "base_uri": "https://localhost:8080/"
        },
        "outputId": "712764ac-46a5-4ebc-d7b5-077a081cb497"
      },
      "source": [
        "#evaluate the model\n",
        "rf_train_score = rf.score(X_train, y_train)\n",
        "rf_test_score = rf.score(X_test, y_test)\n",
        "print(rf_train_score)\n",
        "print(rf_test_score)"
      ],
      "execution_count": 149,
      "outputs": [
        {
          "output_type": "stream",
          "text": [
            "0.9378762392458452\n",
            "0.5513657685170863\n"
          ],
          "name": "stdout"
        }
      ]
    },
    {
      "cell_type": "code",
      "metadata": {
        "id": "GPEB6hgO5R7z",
        "colab": {
          "base_uri": "https://localhost:8080/"
        },
        "outputId": "4d52648a-49cb-410e-a97f-fc3c48aac7b6"
      },
      "source": [
        "#setting max depth to 5 (similar to simple decision tree)\n",
        "rf_d5 = RandomForestRegressor(max_depth = 5, random_state = 42)\n",
        "rf_d5.fit(X_train, y_train)\n",
        "rf_d5_train_score = rf_d5.score(X_train, y_train)\n",
        "rf_d5_test_score = rf_d5.score(X_test, y_test)\n",
        "print(rf_d5_train_score)\n",
        "print(rf_d5_test_score)"
      ],
      "execution_count": 150,
      "outputs": [
        {
          "output_type": "stream",
          "text": [
            "0.6121804695202819\n",
            "0.6038708802176618\n"
          ],
          "name": "stdout"
        }
      ]
    },
    {
      "cell_type": "markdown",
      "metadata": {
        "id": "aci17uS75LfA"
      },
      "source": [
        "**--> The random forest model set to max depth of 5 has slightly better r^2 scores than simple decision tree model set to max depth of 5.**"
      ]
    },
    {
      "cell_type": "code",
      "metadata": {
        "id": "U0xHXeIy2Mqo"
      },
      "source": [
        "#use function code to tune parameters\n",
        "# List of values to try for max_depth:\n",
        "rf_max_depth_range = list(range(2, 60)) # will try every value between 2 and 60\n",
        "# List to store the score for each value of max_depth:\n",
        "r2_rf = []\n",
        "for depth in max_depth_range:\n",
        "    rf_tree = DecisionTreeRegressor(max_depth = depth, \n",
        "                             random_state = 42)\n",
        "    rf_tree.fit(X_train, y_train)\n",
        "    rf_tree_score = rf_tree.score(X_test, y_test)\n",
        "    r2_rf.append(rf_tree_score)"
      ],
      "execution_count": 151,
      "outputs": []
    },
    {
      "cell_type": "code",
      "metadata": {
        "id": "vLTkk7pD2_wM",
        "colab": {
          "base_uri": "https://localhost:8080/",
          "height": 280
        },
        "outputId": "6708a902-6b5e-4558-f116-8cbcb0bf2e8c"
      },
      "source": [
        "# Visualize which max_depth leads to the highest r2 score\n",
        "import matplotlib.pyplot as plt\n",
        "plt.plot(max_depth_range, r2_rf)\n",
        "plt.xlabel('max_depth')\n",
        "plt.ylabel('R2');\n"
      ],
      "execution_count": 152,
      "outputs": [
        {
          "output_type": "display_data",
          "data": {
            "image/png": "[encoded data removed]",
            "text/plain": [
              "<Figure size 432x288 with 1 Axes>"
            ]
          },
          "metadata": {
            "needs_background": "light"
          }
        }
      ]
    },
    {
      "cell_type": "markdown",
      "metadata": {
        "id": "jTpohxUc5i2e"
      },
      "source": [
        "**--> Running a function to automatically plot R^2 versus max depth looks almost exactly the same as the plot done for simple decision tree.**"
      ]
    },
    {
      "cell_type": "code",
      "metadata": {
        "id": "yPnUsJx20jvf",
        "colab": {
          "base_uri": "https://localhost:8080/"
        },
        "outputId": "bae044f6-1c21-430e-df5b-5e96540aa3fd"
      },
      "source": [
        "#setting max depth to 30\n",
        "rf_d30 = RandomForestRegressor(max_depth = 30, random_state = 42)\n",
        "rf_d30.fit(X_train, y_train)\n",
        "rf_d30_train_score = rf_d30.score(X_train, y_train)\n",
        "rf_d30_test_score = rf_d30.score(X_test, y_test)\n",
        "print(rf_d30_train_score)\n",
        "print(rf_d30_test_score)"
      ],
      "execution_count": 153,
      "outputs": [
        {
          "output_type": "stream",
          "text": [
            "0.9089126301621159\n",
            "0.5587539251895384\n"
          ],
          "name": "stdout"
        }
      ]
    },
    {
      "cell_type": "code",
      "metadata": {
        "id": "MTAlmAjr5uyP",
        "colab": {
          "base_uri": "https://localhost:8080/"
        },
        "outputId": "24e4c785-434f-4dbf-fe08-ed94c69385ff"
      },
      "source": [
        "[estimator.get_depth() for estimator in rf.estimators_]"
      ],
      "execution_count": 154,
      "outputs": [
        {
          "output_type": "execute_result",
          "data": {
            "text/plain": [
              "[52,\n",
              " 47,\n",
              " 61,\n",
              " 52,\n",
              " 69,\n",
              " 60,\n",
              " 49,\n",
              " 54,\n",
              " 64,\n",
              " 51,\n",
              " 75,\n",
              " 62,\n",
              " 49,\n",
              " 58,\n",
              " 47,\n",
              " 60,\n",
              " 63,\n",
              " 61,\n",
              " 52,\n",
              " 69,\n",
              " 61,\n",
              " 56,\n",
              " 48,\n",
              " 58,\n",
              " 54,\n",
              " 56,\n",
              " 55,\n",
              " 62,\n",
              " 59,\n",
              " 60,\n",
              " 53,\n",
              " 69,\n",
              " 52,\n",
              " 54,\n",
              " 52,\n",
              " 63,\n",
              " 87,\n",
              " 60,\n",
              " 54,\n",
              " 58,\n",
              " 56,\n",
              " 58,\n",
              " 66,\n",
              " 51,\n",
              " 52,\n",
              " 62,\n",
              " 68,\n",
              " 75,\n",
              " 56,\n",
              " 59,\n",
              " 60,\n",
              " 57,\n",
              " 56,\n",
              " 65,\n",
              " 62,\n",
              " 86,\n",
              " 48,\n",
              " 59,\n",
              " 68,\n",
              " 50,\n",
              " 52,\n",
              " 66,\n",
              " 57,\n",
              " 61,\n",
              " 64,\n",
              " 53,\n",
              " 56,\n",
              " 60,\n",
              " 69,\n",
              " 66,\n",
              " 54,\n",
              " 60,\n",
              " 58,\n",
              " 62,\n",
              " 62,\n",
              " 47,\n",
              " 68,\n",
              " 62,\n",
              " 60,\n",
              " 55,\n",
              " 63,\n",
              " 77,\n",
              " 55,\n",
              " 51,\n",
              " 64,\n",
              " 56,\n",
              " 60,\n",
              " 71,\n",
              " 58,\n",
              " 50,\n",
              " 53,\n",
              " 57,\n",
              " 65,\n",
              " 62,\n",
              " 52,\n",
              " 46,\n",
              " 53,\n",
              " 58,\n",
              " 61,\n",
              " 68]"
            ]
          },
          "metadata": {},
          "execution_count": 154
        }
      ]
    },
    {
      "cell_type": "code",
      "metadata": {
        "id": "dX5Sr40P6G17"
      },
      "source": [
        "#looks like estimators were set to a high value of 87"
      ],
      "execution_count": 155,
      "outputs": []
    },
    {
      "cell_type": "code",
      "metadata": {
        "id": "KZ1M57yj6QOF",
        "colab": {
          "base_uri": "https://localhost:8080/"
        },
        "outputId": "6f98ab8c-2242-43db-9ac2-0c7a6577c35c"
      },
      "source": [
        "# Try 200 trees\n",
        "rf_200 = RandomForestRegressor(n_estimators = 200, random_state = 42)\n",
        "# Fit the model\n",
        "rf_200.fit(X_train, y_train)\n",
        "# Obtain the scores\n",
        "rf_200_train_score = rf_200.score(X_train, y_train)\n",
        "rf_200_test_score = rf_200.score(X_test, y_test)\n",
        "print(rf_200_train_score)\n",
        "print(rf_200_test_score)"
      ],
      "execution_count": 156,
      "outputs": [
        {
          "output_type": "stream",
          "text": [
            "0.9389575507314959\n",
            "0.55136331528191\n"
          ],
          "name": "stdout"
        }
      ]
    },
    {
      "cell_type": "code",
      "metadata": {
        "id": "T6NxIVqPtYEW",
        "colab": {
          "base_uri": "https://localhost:8080/"
        },
        "outputId": "0562f2a2-79c6-49a7-897f-6ed65f2f0ab5"
      },
      "source": [
        "# Try 400 trees\n",
        "rf_400 = RandomForestRegressor(n_estimators = 400, random_state = 42)\n",
        "# Fit the model\n",
        "rf_400.fit(X_train, y_train)\n",
        "# Obtain the scores\n",
        "rf_400_train_score = rf_400.score(X_train, y_train)\n",
        "rf_400_test_score = rf_400.score(X_test, y_test)\n",
        "print(rf_400_train_score)\n",
        "print(rf_400_test_score)"
      ],
      "execution_count": 157,
      "outputs": [
        {
          "output_type": "stream",
          "text": [
            "0.9394998808325107\n",
            "0.5507746673138063\n"
          ],
          "name": "stdout"
        }
      ]
    },
    {
      "cell_type": "code",
      "metadata": {
        "id": "rNh2XRNJxb5K",
        "colab": {
          "base_uri": "https://localhost:8080/"
        },
        "outputId": "c3fc37d2-4b0e-45d5-fe86-87ae2cc8e21c"
      },
      "source": [
        "# Try 1000 trees\n",
        "rf_1000 = RandomForestRegressor(n_estimators = 1000, random_state = 42)\n",
        "# Fit the model\n",
        "rf_1000.fit(X_train, y_train)\n",
        "# Obtain the scores\n",
        "rf_1000_train_score = rf_1000.score(X_train, y_train)\n",
        "rf_1000_test_score = rf_1000.score(X_test, y_test)\n",
        "print(rf_1000_train_score)\n",
        "print(rf_1000_test_score)"
      ],
      "execution_count": 158,
      "outputs": [
        {
          "output_type": "stream",
          "text": [
            "0.9398422851448914\n",
            "0.5516588342176828\n"
          ],
          "name": "stdout"
        }
      ]
    },
    {
      "cell_type": "code",
      "metadata": {
        "id": "TUrgC6VUtU8X",
        "colab": {
          "base_uri": "https://localhost:8080/"
        },
        "outputId": "f567c4d3-b6ff-4c9d-afae-c2d43e30eea2"
      },
      "source": [
        "#setting estimators to 1000, max depth to 5\n",
        "rf_1000_5 = RandomForestRegressor(n_estimators = 1000, max_depth = 5, random_state = 42)\n",
        "rf_1000_5.fit(X_train, y_train)\n",
        "rf_1000_5_train_score = rf_1000_5.score(X_train, y_train)\n",
        "rf_1000_5_test_score = rf_1000_5.score(X_test, y_test)\n",
        "print(rf_1000_5_train_score)\n",
        "print(rf_1000_5_test_score)"
      ],
      "execution_count": 162,
      "outputs": [
        {
          "output_type": "stream",
          "text": [
            "0.6120511099062069\n",
            "0.604870630939758\n"
          ],
          "name": "stdout"
        }
      ]
    },
    {
      "cell_type": "markdown",
      "metadata": {
        "id": "tZUWDsPw55IC"
      },
      "source": [
        "**--> After making adjustments to either max depth, number of estimators, or a combination of both it looks like the best R^2 test scores occurs at max depth of 5 with 1000 estimators. Focusing on raising estimators exculsively raises the R^2 training scores to the 0.93 range but keeps the test scores to the 0.55 range.**"
      ]
    },
    {
      "cell_type": "code",
      "metadata": {
        "id": "THzDi5zc4dMF"
      },
      "source": [
        "#predict target values using 1000 estimators and max depth at 5\n",
        "rf_1000_5_train_preds = rf_1000_5.predict(X_train)\n",
        "rf_1000_5_test_preds = rf_1000_5.predict(X_test)"
      ],
      "execution_count": 163,
      "outputs": []
    },
    {
      "cell_type": "code",
      "metadata": {
        "colab": {
          "base_uri": "https://localhost:8080/"
        },
        "id": "ZXzC8JMMF8Yo",
        "outputId": "c6332907-01af-4c49-df5a-9cdf48009178"
      },
      "source": [
        "#print out actual vs. predicted\n",
        "rf_1000_5_actual_predict = pd.DataFrame({'Actual': y_test, 'Predicted': rf_1000_5_test_preds})\n",
        "print(rf_1000_5_actual_predict)"
      ],
      "execution_count": 166,
      "outputs": [
        {
          "output_type": "stream",
          "text": [
            "         Actual    Predicted\n",
            "7503  1743.0644  1264.259834\n",
            "2957   356.8688   695.297062\n",
            "7031   377.5086   695.072476\n",
            "1084  5778.4782  4904.856214\n",
            "856   2356.9320  3113.738389\n",
            "...         ...          ...\n",
            "4753  3793.7284  2872.599517\n",
            "4836  2410.8618  2109.923697\n",
            "8064  5309.7550  3522.664772\n",
            "4418  2530.7058  2009.966874\n",
            "1784  4138.6128  2425.969538\n",
            "\n",
            "[2131 rows x 2 columns]\n"
          ],
          "name": "stdout"
        }
      ]
    },
    {
      "cell_type": "code",
      "metadata": {
        "id": "YtaLgtNR17U9",
        "colab": {
          "base_uri": "https://localhost:8080/"
        },
        "outputId": "2129c0b6-df20-440d-ab5c-e1bfbb235181"
      },
      "source": [
        "#evaluate model for RMSE\n",
        "#using 1000 estimators and max depth at 5 for best R^2 test value\n",
        "\n",
        "#mean squared error for training data\n",
        "print('MSE training data:', mean_squared_error(y_train, rf_1000_5_train_preds))\n",
        "#mean squared error for test data\n",
        "print('MSE test data:', mean_squared_error(y_test, rf_1000_5_test_preds))\n",
        "\n",
        "#root mean squared error for training data\n",
        "rf_1000_5_mse_train = mean_squared_error(y_train, rf_1000_5_train_preds)\n",
        "print('RMSE training data', np.sqrt(rf_1000_5_mse_train))\n",
        "#root mean squared error for test data\n",
        "rf_1000_5_mse_test = mean_squared_error(y_test, rf_1000_5_test_preds)\n",
        "print('RMSE test data', np.sqrt(rf_1000_5_mse_test))\n"
      ],
      "execution_count": 164,
      "outputs": [
        {
          "output_type": "stream",
          "text": [
            "MSE training data: 1148117.555852823\n",
            "MSE test data: 1090152.954982581\n",
            "RMSE training data 1071.5024758967302\n",
            "RMSE test data 1044.1039004728318\n"
          ],
          "name": "stdout"
        }
      ]
    },
    {
      "cell_type": "markdown",
      "metadata": {
        "id": "BNMAaDob9w_B"
      },
      "source": [
        "**--> For the random forest model, the RMSE values of 1071.50 training and 1044.10 test are the lowest when compared to the linear regression (training 1502.73, test 1429.34) and simple decision tree (training 1082.28, test 1055.69). Random forest has a higher training score when compared with bagging tree (training 429.30) but still a lower test score (test is 1113.58 for bagging tree).**"
      ]
    },
    {
      "cell_type": "markdown",
      "metadata": {
        "id": "yV1YWR7ZAD_5"
      },
      "source": [
        "**--> Ultimately, we want to rely on a model that does well for R^2 score (as close to 1.0000 as possible) while maintaining similarity in R^2 scores between the training and test data. Should performance of the model be higher for either the training or test data, then it would better to maintain the integrity between training and test data then favor one over the other.**\n",
        "\n",
        "**--> Since the target variable is Item Outlet Sales, the RMSE would be in target variable units and would indicate \"closeness\" to the line of best fit for the target variable. Therefore, the lower value for RMSE would be better.**\n",
        "\n",
        "**--> Given the above, I would recommend the random forest model set at max depth of 5 with 1000 estimators. This would give R^2 training of 0.6121 and R^2 test of 0.6049 and RMSE training of 1071.50 and RMSE test of 1044.10.**"
      ]
    }
  ]
}